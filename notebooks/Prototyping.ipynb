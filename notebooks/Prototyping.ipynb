{
 "cells": [
  {
   "cell_type": "markdown",
   "id": "978a42ee",
   "metadata": {},
   "source": [
    "## Slurm Parsing"
   ]
  },
  {
   "cell_type": "code",
   "execution_count": 1,
   "id": "3c30b8a8",
   "metadata": {},
   "outputs": [],
   "source": [
    "import csv\n",
    "import glob\n",
    "import os\n",
    "\n",
    "import dataclasses\n",
    "from dataclasses import asdict\n",
    "\n",
    "from cheeto.puppet import (PuppetGroupRecord,\n",
    "                           PuppetUserRecord,\n",
    "                           PuppetUserMap,\n",
    "                           PuppetAccountMap,\n",
    "                           PuppetGroupMap,\n",
    "                           SlurmPartition, \n",
    "                           SlurmQOS, \n",
    "                           SlurmQOSTRES, \n",
    "                           SlurmRecord, \n",
    "                           parse_yaml_forest, \n",
    "                           MergeStrategy)\n",
    "from cheeto.slurm import SAcctMgr, build_slurm_qos_state, build_puppet_association_state, build_puppet_qos_state\n",
    "from cheeto.utils import check_filter, filter_nulls\n",
    "\n",
    "import sh\n",
    "import yaml\n",
    "from rich import print as rprint\n",
    "from pprint import pprint"
   ]
  },
  {
   "cell_type": "markdown",
   "id": "17733aac",
   "metadata": {},
   "source": [
    "# QoS Map\n",
    "\n",
    "Build a QoS mapping from the *current state of the world as known to Slurm*. Parses the output of `sacctmgr show qos -P`."
   ]
  },
  {
   "cell_type": "code",
   "execution_count": 4,
   "id": "c1ee3baa",
   "metadata": {
    "scrolled": true
   },
   "outputs": [],
   "source": [
    "sacctmgr = SAcctMgr()\n",
    "slurm_qos_map, slurm_filtered_map = sacctmgr.get_slurm_qos_state()"
   ]
  },
  {
   "cell_type": "code",
   "execution_count": 5,
   "id": "679bb3e8",
   "metadata": {
    "scrolled": true
   },
   "outputs": [
    {
     "data": {
      "text/plain": [
       "{'datalabgrp-gpu-a100-h-qos': SlurmQOS(group=SlurmQOSTRES(cpus=32, gpus=1, mem='128000M'), job=None, priority=0),\n",
       " 'datalabgrp-high2-qos': SlurmQOS(group=SlurmQOSTRES(cpus=256, gpus=None, mem='512000M'), job=None, priority=0),\n",
       " 'datalabgrp-low2-qos': SlurmQOS(group=None, job=None, priority=10),\n",
       " 'datalabgrp-med2-qos': SlurmQOS(group=None, job=None, priority=10),\n",
       " 'qtlchenggrp-bmh-qos': SlurmQOS(group=SlurmQOSTRES(cpus=96, gpus=None, mem='1000000M'), job=None, priority=0),\n",
       " 'qtlchenggrp-bml-qos': SlurmQOS(group=None, job=None, priority=10),\n",
       " 'qtlchenggrp-bmm-qos': SlurmQOS(group=None, job=None, priority=10),\n",
       " 'qtlchenggrp-gpuh-qos': SlurmQOS(group=SlurmQOSTRES(cpus=6, gpus=1, mem='96000M'), job=None, priority=0),\n",
       " 'qtlchenggrp-gpum-qos': SlurmQOS(group=SlurmQOSTRES(cpus=60, gpus=10, mem='983040M'), job=None, priority=0),\n",
       " 'qtlchenggrp-high-qos': SlurmQOS(group=SlurmQOSTRES(cpus=128, gpus=None, mem='256000M'), job=None, priority=40),\n",
       " 'qtlchenggrp-high2-qos': SlurmQOS(group=SlurmQOSTRES(cpus=96, gpus=None, mem='256000M'), job=None, priority=0),\n",
       " 'qtlchenggrp-low-qos': SlurmQOS(group=None, job=None, priority=10),\n",
       " 'qtlchenggrp-low2-qos': SlurmQOS(group=None, job=None, priority=10),\n",
       " 'qtlchenggrp-med-qos': SlurmQOS(group=None, job=None, priority=10),\n",
       " 'qtlchenggrp-med2-qos': SlurmQOS(group=None, job=None, priority=10),\n",
       " 'jorgelmrgrp-high2-qos': SlurmQOS(group=SlurmQOSTRES(cpus=512, gpus=None, mem='1024000M'), job=None, priority=0),\n",
       " 'jorgelmrgrp-low2-qos': SlurmQOS(group=None, job=None, priority=20),\n",
       " 'jorgelmrgrp-med2-qos': SlurmQOS(group=None, job=None, priority=20),\n",
       " 'hastingsgrp-gpum-qos': SlurmQOS(group=SlurmQOSTRES(cpus=60, gpus=10, mem='983040M'), job=None, priority=0),\n",
       " 'hastingsgrp-high-qos': SlurmQOS(group=SlurmQOSTRES(cpus=192, gpus=None, mem='512000M'), job=None, priority=0),\n",
       " 'hastingsgrp-high2-qos': SlurmQOS(group=SlurmQOSTRES(cpus=256, gpus=None, mem='10200000M'), job=None, priority=0),\n",
       " 'hastingsgrp-low-qos': SlurmQOS(group=None, job=None, priority=80),\n",
       " 'hastingsgrp-low2-qos': SlurmQOS(group=None, job=None, priority=40),\n",
       " 'hastingsgrp-med-qos': SlurmQOS(group=None, job=None, priority=80),\n",
       " 'hastingsgrp-med2-qos': SlurmQOS(group=None, job=None, priority=40),\n",
       " 'rustyhgrp-high2-qos': SlurmQOS(group=SlurmQOSTRES(cpus=224, gpus=None, mem='512000M'), job=None, priority=0),\n",
       " 'rustyhgrp-low2-qos': SlurmQOS(group=None, job=None, priority=20),\n",
       " 'rustyhgrp-med2-qos': SlurmQOS(group=None, job=None, priority=20),\n",
       " 'jrigrp-bigmemh-qos': SlurmQOS(group=SlurmQOSTRES(cpus=128, gpus=None, mem='980000M'), job=None, priority=20),\n",
       " 'jrigrp-bigmeml-qos': SlurmQOS(group=None, job=None, priority=20),\n",
       " 'jrigrp-bigmemm-qos': SlurmQOS(group=None, job=None, priority=20),\n",
       " 'jrigrp-high-qos': SlurmQOS(group=SlurmQOSTRES(cpus=128, gpus=None, mem='512000M'), job=None, priority=0),\n",
       " 'jrigrp-high2-qos': SlurmQOS(group=SlurmQOSTRES(cpus=640, gpus=None, mem='1500000M'), job=None, priority=0),\n",
       " 'jrigrp-low-qos': SlurmQOS(group=SlurmQOSTRES(cpus=128, gpus=None, mem=None), job=None, priority=20),\n",
       " 'jrigrp-low2-qos': SlurmQOS(group=None, job=None, priority=40),\n",
       " 'jrigrp-med-qos': SlurmQOS(group=SlurmQOSTRES(cpus=128, gpus=None, mem=None), job=None, priority=20),\n",
       " 'jrigrp-med2-qos': SlurmQOS(group=None, job=None, priority=40),\n",
       " 'jbondgrp-bigmemht-qos': SlurmQOS(group=SlurmQOSTRES(cpus=96, gpus=None, mem='1000000M'), job=None, priority=0),\n",
       " 'jbondgrp-bigmeml-qos': SlurmQOS(group=None, job=None, priority=10),\n",
       " 'jbondgrp-bigmemm-qos': SlurmQOS(group=None, job=None, priority=10),\n",
       " 'jbondgrp-high2-qos': SlurmQOS(group=SlurmQOSTRES(cpus=256, gpus=None, mem='1024000M'), job=None, priority=0),\n",
       " 'jbondgrp-low2-qos': SlurmQOS(group=None, job=None, priority=40),\n",
       " 'jbondgrp-med2-qos': SlurmQOS(group=None, job=None, priority=40),\n",
       " 'millermrgrp-bigmemh-qos': SlurmQOS(group=SlurmQOSTRES(cpus=64, gpus=None, mem='500000M'), job=None, priority=0),\n",
       " 'millermrgrp-bigmeml-qos': SlurmQOS(group=None, job=None, priority=10),\n",
       " 'millermrgrp-bigmemm-qos': SlurmQOS(group=None, job=None, priority=10),\n",
       " 'millermrgrp-bmh-qos': SlurmQOS(group=SlurmQOSTRES(cpus=64, gpus=None, mem='500000M'), job=None, priority=0),\n",
       " 'millermrgrp-bml-qos': SlurmQOS(group=None, job=None, priority=10),\n",
       " 'millermrgrp-bmm-qos': SlurmQOS(group=None, job=None, priority=10),\n",
       " 'millermrgrp-high-qos': SlurmQOS(group=SlurmQOSTRES(cpus=168, gpus=None, mem='448000M'), job=None, priority=0),\n",
       " 'millermrgrp-low-qos': SlurmQOS(group=None, job=None, priority=70),\n",
       " 'millermrgrp-med-qos': SlurmQOS(group=None, job=None, priority=70),\n",
       " 'fvaldovigrp-high2-qos': SlurmQOS(group=SlurmQOSTRES(cpus=1024, gpus=None, mem='2000000M'), job=None, priority=0),\n",
       " 'fvaldovigrp-low2-qos': SlurmQOS(group=None, job=None, priority=40),\n",
       " 'fvaldovigrp-med2-qos': SlurmQOS(group=None, job=None, priority=40),\n",
       " 'magertongrp-high2-qos': SlurmQOS(group=SlurmQOSTRES(cpus=256, gpus=None, mem='980000M'), job=None, priority=20),\n",
       " 'magertongrp-low2-qos': SlurmQOS(group=None, job=None, priority=20),\n",
       " 'magertongrp-med2-qos': SlurmQOS(group=None, job=None, priority=20),\n",
       " 'marymgrp-high2-qos': SlurmQOS(group=SlurmQOSTRES(cpus=128, gpus=None, mem='256000M'), job=None, priority=0),\n",
       " 'marymgrp-low2-qos': SlurmQOS(group=None, job=None, priority=10),\n",
       " 'marymgrp-med2-qos': SlurmQOS(group=None, job=None, priority=10),\n",
       " 'gmonroegrp-bmh-qos': SlurmQOS(group=SlurmQOSTRES(cpus=352, gpus=None, mem='3000000M'), job=None, priority=0),\n",
       " 'gmonroegrp-bml-qos': SlurmQOS(group=None, job=None, priority=20),\n",
       " 'gmonroegrp-bmm-qos': SlurmQOS(group=None, job=None, priority=20),\n",
       " 'gmonroegrp-gpu-a100-h-qos': SlurmQOS(group=SlurmQOSTRES(cpus=32, gpus=1, mem='128000M'), job=None, priority=0),\n",
       " 'runciegrp-bit150h-qos': SlurmQOS(group=SlurmQOSTRES(cpus=96, gpus=None, mem='256000M'), job=None, priority=0),\n",
       " 'runciegrp-high-qos': SlurmQOS(group=SlurmQOSTRES(cpus=96, gpus=None, mem='256000M'), job=None, priority=0),\n",
       " 'runciegrp-high2-qos': SlurmQOS(group=SlurmQOSTRES(cpus=96, gpus=None, mem='256000M'), job=None, priority=0),\n",
       " 'runciegrp-low-qos': SlurmQOS(group=None, job=None, priority=40),\n",
       " 'runciegrp-low2-qos': SlurmQOS(group=None, job=None, priority=10),\n",
       " 'runciegrp-med-qos': SlurmQOS(group=None, job=None, priority=40),\n",
       " 'runciegrp-med2-qos': SlurmQOS(group=None, job=None, priority=10),\n",
       " 'zhougrp-bigmemh-qos': SlurmQOS(group=SlurmQOSTRES(cpus=96, gpus=None, mem='1000000M'), job=None, priority=0),\n",
       " 'zhougrp-bigmeml-qos': SlurmQOS(group=None, job=None, priority=10),\n",
       " 'zhougrp-bigmemm-qos': SlurmQOS(group=None, job=None, priority=10),\n",
       " 'zhougrp-bmh-qos': SlurmQOS(group=SlurmQOSTRES(cpus=96, gpus=None, mem='1000M'), job=None, priority=0),\n",
       " 'zhougrp-bml-qos': SlurmQOS(group=None, job=None, priority=10),\n",
       " 'zhougrp-bmm-qos': SlurmQOS(group=None, job=None, priority=10),\n",
       " 'zhougrp-gpu-a100-h-qos': SlurmQOS(group=SlurmQOSTRES(cpus=32, gpus=1, mem='128000M'), job=None, priority=0),\n",
       " 'zhougrp-high-qos': SlurmQOS(group=SlurmQOSTRES(cpus=192, gpus=None, mem='512000M'), job=None, priority=0),\n",
       " 'zhougrp-low-qos': SlurmQOS(group=None, job=None, priority=80),\n",
       " 'zhougrp-med-qos': SlurmQOS(group=None, job=None, priority=80),\n",
       " 'bennettgrp-high-qos': SlurmQOS(group=SlurmQOSTRES(cpus=128, gpus=None, mem='256000M'), job=None, priority=0),\n",
       " 'bennettgrp-low-qos': SlurmQOS(group=None, job=None, priority=40),\n",
       " 'bennettgrp-med-qos': SlurmQOS(group=None, job=None, priority=40),\n",
       " 'adamgrp-bml-qos': SlurmQOS(group=None, job=None, priority=0),\n",
       " 'adamgrp-high2-qos': SlurmQOS(group=SlurmQOSTRES(cpus=352, gpus=None, mem='762000M'), job=None, priority=0),\n",
       " 'adamgrp-low2-qos': SlurmQOS(group=None, job=None, priority=30),\n",
       " 'adamgrp-med2-qos': SlurmQOS(group=None, job=None, priority=30),\n",
       " 'jingrp-bmh-qos': SlurmQOS(group=SlurmQOSTRES(cpus=96, gpus=None, mem='1000000M'), job=None, priority=0),\n",
       " 'jingrp-bml-qos': SlurmQOS(group=None, job=None, priority=10),\n",
       " 'jingrp-bmm-qos': SlurmQOS(group=None, job=None, priority=10),\n",
       " 'millsgrp-bmh-qos': SlurmQOS(group=SlurmQOSTRES(cpus=96, gpus=None, mem='1000000M'), job=None, priority=0),\n",
       " 'millsgrp-bml-qos': SlurmQOS(group=None, job=None, priority=10),\n",
       " 'millsgrp-bmm-qos': SlurmQOS(group=None, job=None, priority=10),\n",
       " 'millsgrp-high-qos': SlurmQOS(group=SlurmQOSTRES(cpus=128, gpus=None, mem='256000M'), job=None, priority=0),\n",
       " 'millsgrp-low-qos': SlurmQOS(group=None, job=None, priority=40),\n",
       " 'millsgrp-med-qos': SlurmQOS(group=None, job=None, priority=40),\n",
       " 'weimergrp-bmh-qos': SlurmQOS(group=SlurmQOSTRES(cpus=256, gpus=None, mem='2000000M'), job=None, priority=0),\n",
       " 'weimergrp-bml-qos': SlurmQOS(group=None, job=None, priority=10),\n",
       " 'weimergrp-bmm-qos': SlurmQOS(group=None, job=None, priority=10),\n",
       " 'weimergrp-high-qos': SlurmQOS(group=SlurmQOSTRES(cpus=96, gpus=None, mem='256000M'), job=None, priority=0),\n",
       " 'weimergrp-low-qos': SlurmQOS(group=None, job=None, priority=40),\n",
       " 'weimergrp-med-qos': SlurmQOS(group=None, job=None, priority=40),\n",
       " 'ecl243grp-ecl243-qos': SlurmQOS(group=SlurmQOSTRES(cpus=80, gpus=None, mem='500000M'), job=None, priority=0),\n",
       " 'ecl243grp-ecl243h-qos': SlurmQOS(group=SlurmQOSTRES(cpus=80, gpus=None, mem='500000M'), job=None, priority=0),\n",
       " 'zimanyigrp-bmm-qos': SlurmQOS(group=None, job=None, priority=10),\n",
       " 'zimanyigrp-high2-qos': SlurmQOS(group=SlurmQOSTRES(cpus=256, gpus=None, mem='512000M'), job=None, priority=0),\n",
       " 'zimanyigrp-low2-qos': SlurmQOS(group=None, job=None, priority=10),\n",
       " 'zimanyigrp-med2-qos': SlurmQOS(group=None, job=None, priority=10),\n",
       " 'awhitehegrp-high-qos': SlurmQOS(group=SlurmQOSTRES(cpus=120, gpus=None, mem='320000M'), job=None, priority=0),\n",
       " 'awhitehegrp-low-qos': SlurmQOS(group=None, job=None, priority=50),\n",
       " 'awhitehegrp-med-qos': SlurmQOS(group=None, job=None, priority=50),\n",
       " 'latimergrp-bigmemh-qos': SlurmQOS(group=SlurmQOSTRES(cpus=64, gpus=None, mem='500000M'), job=None, priority=0),\n",
       " 'latimergrp-bigmeml-qos': SlurmQOS(group=None, job=None, priority=10),\n",
       " 'latimergrp-bigmemm-qos': SlurmQOS(group=None, job=None, priority=10),\n",
       " 'paullricgrp-high-qos': SlurmQOS(group=SlurmQOSTRES(cpus=1152, gpus=None, mem='3072000M'), job=None, priority=0),\n",
       " 'paullricgrp-low-qos': SlurmQOS(group=None, job=None, priority=480),\n",
       " 'paullricgrp-med-qos': SlurmQOS(group=None, job=None, priority=480),\n",
       " 'brnjohnsgrp-bigmemh-qos': SlurmQOS(group=SlurmQOSTRES(cpus=64, gpus=None, mem='500000M'), job=None, priority=0),\n",
       " 'brnjohnsgrp-bigmeml-qos': SlurmQOS(group=None, job=None, priority=10),\n",
       " 'brnjohnsgrp-bigmemm-qos': SlurmQOS(group=None, job=None, priority=10),\n",
       " 'schmittgrp-high-qos': SlurmQOS(group=SlurmQOSTRES(cpus=192, gpus=None, mem='512000M'), job=None, priority=0),\n",
       " 'schmittgrp-low-qos': SlurmQOS(group=None, job=None, priority=80),\n",
       " 'schmittgrp-med-qos': SlurmQOS(group=None, job=None, priority=80),\n",
       " 'bnbaileygrp-bgpu-qos': SlurmQOS(group=None, job=None, priority=0),\n",
       " 'diepenbrockgrp-high2-qos': SlurmQOS(group=SlurmQOSTRES(cpus=256, gpus=None, mem='1024000M'), job=None, priority=0),\n",
       " 'diepenbrockgrp-low2-qos': SlurmQOS(group=None, job=None, priority=40),\n",
       " 'diepenbrockgrp-med2-qos': SlurmQOS(group=None, job=None, priority=40),\n",
       " 'rbaygrp-high2-qos': SlurmQOS(group=SlurmQOSTRES(cpus=256, gpus=None, mem='512000M'), job=None, priority=0),\n",
       " 'rbaygrp-low2-qos': SlurmQOS(group=None, job=None, priority=10),\n",
       " 'rbaygrp-med2-qos': SlurmQOS(group=None, job=None, priority=10),\n",
       " 'jbemersogrp-bmh-qos': SlurmQOS(group=SlurmQOSTRES(cpus=256, gpus=None, mem='2000000M'), job=None, priority=0),\n",
       " 'jbemersogrp-bml-qos': SlurmQOS(group=None, job=None, priority=10),\n",
       " 'jbemersogrp-bmm-qos': SlurmQOS(group=None, job=None, priority=10),\n",
       " 'jbemersogrp-high2-qos': SlurmQOS(group=SlurmQOSTRES(cpus=256, gpus=None, mem='500000M'), job=None, priority=0),\n",
       " 'jbemersogrp-low2-qos': SlurmQOS(group=None, job=None, priority=10),\n",
       " 'jbemersogrp-med2-qos': SlurmQOS(group=None, job=None, priority=10),\n",
       " 'entnemgrp-bigmemht-qos': SlurmQOS(group=SlurmQOSTRES(cpus=96, gpus=None, mem='1000000M'), job=None, priority=0),\n",
       " 'entnemgrp-bigmeml-qos': SlurmQOS(group=None, job=None, priority=10),\n",
       " 'entnemgrp-bigmemm-qos': SlurmQOS(group=None, job=None, priority=10),\n",
       " 'ejf4grp-high2-qos': SlurmQOS(group=SlurmQOSTRES(cpus=96, gpus=None, mem='256000M'), job=None, priority=0),\n",
       " 'ejf4grp-low2-qos': SlurmQOS(group=None, job=None, priority=10),\n",
       " 'ejf4grp-med2-qos': SlurmQOS(group=None, job=None, priority=10),\n",
       " 'ctbrowngrp-bmh-qos': SlurmQOS(group=SlurmQOSTRES(cpus=48, gpus=None, mem='512000M'), job=None, priority=0),\n",
       " 'ctbrowngrp-bml-qos': SlurmQOS(group=None, job=None, priority=10),\n",
       " 'ctbrowngrp-bmm-qos': SlurmQOS(group=None, job=None, priority=10),\n",
       " 'ctbrowngrp-gpu-a100-h-qos': SlurmQOS(group=SlurmQOSTRES(cpus=64, gpus=2, mem='256000M'), job=None, priority=0),\n",
       " 'ctbrowngrp-gpuh-qos': SlurmQOS(group=SlurmQOSTRES(cpus=6, gpus=1, mem='96000M'), job=None, priority=0),\n",
       " 'ctbrowngrp-gpum-qos': SlurmQOS(group=SlurmQOSTRES(cpus=60, gpus=10, mem='983040M'), job=None, priority=0),\n",
       " 'ctbrowngrp-high2-qos': SlurmQOS(group=SlurmQOSTRES(cpus=224, gpus=None, mem='512000M'), job=None, priority=0),\n",
       " 'ctbrowngrp-low2-qos': SlurmQOS(group=None, job=None, priority=20),\n",
       " 'ctbrowngrp-med2-qos': SlurmQOS(group=None, job=None, priority=20),\n",
       " 'gittagrp-bmh-qos': SlurmQOS(group=SlurmQOSTRES(cpus=128, gpus=None, mem='1000000M'), job=None, priority=0),\n",
       " 'gittagrp-bml-qos': SlurmQOS(group=None, job=None, priority=10),\n",
       " 'gittagrp-bmm-qos': SlurmQOS(group=None, job=None, priority=10),\n",
       " 'dubcovskygrp-bigmemh-qos': SlurmQOS(group=SlurmQOSTRES(cpus=96, gpus=None, mem='1024000M'), job=None, priority=0),\n",
       " 'dubcovskygrp-bigmeml-qos': SlurmQOS(group=None, job=None, priority=20),\n",
       " 'dubcovskygrp-bigmemm-qos': SlurmQOS(group=None, job=None, priority=20),\n",
       " 'dubcovskygrp-bmh-qos': SlurmQOS(group=SlurmQOSTRES(cpus=288, gpus=None, mem='3072000M'), job=None, priority=0),\n",
       " 'dubcovskygrp-bml-qos': SlurmQOS(group=None, job=None, priority=30),\n",
       " 'dubcovskygrp-bmm-qos': SlurmQOS(group=None, job=None, priority=30),\n",
       " 'moniergrp-bmh-qos': SlurmQOS(group=SlurmQOSTRES(cpus=96, gpus=None, mem='1000000M'), job=None, priority=0),\n",
       " 'moniergrp-bml-qos': SlurmQOS(group=None, job=None, priority=10),\n",
       " 'moniergrp-bmm-qos': SlurmQOS(group=None, job=None, priority=10),\n",
       " 'moniergrp-high2-qos': SlurmQOS(group=SlurmQOSTRES(cpus=512, gpus=None, mem='2040000M'), job=None, priority=0),\n",
       " 'moniergrp-low2-qos': SlurmQOS(group=None, job=None, priority=40),\n",
       " 'moniergrp-med2-qos': SlurmQOS(group=None, job=None, priority=40),\n",
       " 'aigelgrp-high-qos': SlurmQOS(group=SlurmQOSTRES(cpus=128, gpus=None, mem='256000M'), job=None, priority=0),\n",
       " 'aigelgrp-high2-qos': SlurmQOS(group=SlurmQOSTRES(cpus=384, gpus=None, mem='768000M'), job=None, priority=0),\n",
       " 'aigelgrp-low-qos': SlurmQOS(group=None, job=None, priority=40),\n",
       " 'aigelgrp-low2-qos': SlurmQOS(group=None, job=None, priority=30),\n",
       " 'aigelgrp-med-qos': SlurmQOS(group=None, job=None, priority=40),\n",
       " 'aigelgrp-med2-qos': SlurmQOS(group=None, job=None, priority=30),\n",
       " 'gmcoopgrp-high2-qos': SlurmQOS(group=SlurmQOSTRES(cpus=256, gpus=None, mem='512000M'), job=None, priority=0),\n",
       " 'gmcoopgrp-low2-qos': SlurmQOS(group=None, job=None, priority=10),\n",
       " 'gmcoopgrp-med2-qos': SlurmQOS(group=None, job=None, priority=10),\n",
       " 'baskettgrp-high2-qos': SlurmQOS(group=SlurmQOSTRES(cpus=256, gpus=None, mem='512000M'), job=None, priority=0),\n",
       " 'baskettgrp-low2-qos': SlurmQOS(group=None, job=None, priority=10),\n",
       " 'baskettgrp-med2-qos': SlurmQOS(group=None, job=None, priority=10),\n",
       " 'rhijmansgrp-bmh-qos': SlurmQOS(group=SlurmQOSTRES(cpus=256, gpus=None, mem='2000000M'), job=None, priority=0),\n",
       " 'rhijmansgrp-bml-qos': SlurmQOS(group=None, job=None, priority=10),\n",
       " 'rhijmansgrp-bmm-qos': SlurmQOS(group=None, job=None, priority=10),\n",
       " 'rhijmansgrp-high-qos': SlurmQOS(group=SlurmQOSTRES(cpus=192, gpus=None, mem='512000M'), job=None, priority=0),\n",
       " 'rhijmansgrp-low-qos': SlurmQOS(group=None, job=None, priority=80),\n",
       " 'rhijmansgrp-med-qos': SlurmQOS(group=None, job=None, priority=80),\n",
       " 'jyllwgrp-bigmemh-qos': SlurmQOS(group=SlurmQOSTRES(cpus=64, gpus=None, mem='500000M'), job=None, priority=0),\n",
       " 'jyllwgrp-bigmeml-qos': SlurmQOS(group=SlurmQOSTRES(cpus=256, gpus=None, mem='980000M'), job=None, priority=10),\n",
       " 'jyllwgrp-bigmemm-qos': SlurmQOS(group=SlurmQOSTRES(cpus=256, gpus=None, mem='980000M'), job=None, priority=10),\n",
       " 'pasternackgrp-high-qos': SlurmQOS(group=SlurmQOSTRES(cpus=96, gpus=None, mem='256000M'), job=None, priority=0),\n",
       " 'pasternackgrp-low-qos': SlurmQOS(group=None, job=None, priority=40),\n",
       " 'pasternackgrp-med-qos': SlurmQOS(group=None, job=None, priority=40),\n",
       " 'brannalagrp-high2-qos': SlurmQOS(group=SlurmQOSTRES(cpus=256, gpus=None, mem='512000M'), job=None, priority=0),\n",
       " 'brannalagrp-low2-qos': SlurmQOS(group=None, job=None, priority=10),\n",
       " 'brannalagrp-med2-qos': SlurmQOS(group=None, job=None, priority=10),\n",
       " 'slupskygrp-bmm-qos': SlurmQOS(group=None, job=None, priority=0),\n",
       " 'slupskygrp-high-qos': SlurmQOS(group=SlurmQOSTRES(cpus=128, gpus=None, mem='256000M'), job=None, priority=0),\n",
       " 'slupskygrp-low-qos': SlurmQOS(group=None, job=None, priority=40),\n",
       " 'slupskygrp-med-qos': SlurmQOS(group=None, job=None, priority=40),\n",
       " 'jmearlesgrp-gpuh-qos': SlurmQOS(group=SlurmQOSTRES(cpus=6, gpus=1, mem='96000M'), job=None, priority=0),\n",
       " 'jmearlesgrp-gpum-qos': SlurmQOS(group=SlurmQOSTRES(cpus=60, gpus=10, mem='983040M'), job=None, priority=0),\n",
       " 'knappgrp-bmh-qos': SlurmQOS(group=SlurmQOSTRES(cpus=96, gpus=None, mem='1024000M'), job=None, priority=0),\n",
       " 'knappgrp-bml-qos': SlurmQOS(group=None, job=None, priority=10),\n",
       " 'knappgrp-bmm-qos': SlurmQOS(group=None, job=None, priority=10),\n",
       " 'donggrp-bmh-qos': SlurmQOS(group=SlurmQOSTRES(cpus=576, gpus=None, mem='6000000M'), job=None, priority=0),\n",
       " 'donggrp-bml-qos': SlurmQOS(group=None, job=None, priority=60),\n",
       " 'donggrp-bmm-qos': SlurmQOS(group=None, job=None, priority=60),\n",
       " 'donggrp-high2-qos': SlurmQOS(group=SlurmQOSTRES(cpus=576, gpus=None, mem='6000000M'), job=None, priority=0),\n",
       " 'donggrp-low2-qos': SlurmQOS(group=None, job=None, priority=60),\n",
       " 'donggrp-med2-qos': SlurmQOS(group=None, job=None, priority=60),\n",
       " 'adamgrp-low-qos': SlurmQOS(group=None, job=SlurmQOSTRES(cpus=192, gpus=None, mem=None), priority=10),\n",
       " 'rustyhgrp-high-qos': SlurmQOS(group=SlurmQOSTRES(cpus=192, gpus=None, mem='512000M'), job=SlurmQOSTRES(cpus=192, gpus=None, mem=None), priority=0),\n",
       " 'rustyhgrp-low-qos': SlurmQOS(group=None, job=SlurmQOSTRES(cpus=192, gpus=None, mem=None), priority=10),\n",
       " 'rustyhgrp-med-qos': SlurmQOS(group=None, job=SlurmQOSTRES(cpus=192, gpus=None, mem=None), priority=10),\n",
       " 'jbondgrp-high-qos': SlurmQOS(group=SlurmQOSTRES(cpus=192, gpus=None, mem='512000M'), job=SlurmQOSTRES(cpus=192, gpus=None, mem=None), priority=0),\n",
       " 'jbondgrp-low-qos': SlurmQOS(group=None, job=SlurmQOSTRES(cpus=192, gpus=None, mem=None), priority=10),\n",
       " 'jbondgrp-med-qos': SlurmQOS(group=None, job=SlurmQOSTRES(cpus=192, gpus=None, mem=None), priority=10),\n",
       " 'magertongrp-high-qos': SlurmQOS(group=SlurmQOSTRES(cpus=192, gpus=None, mem='512000M'), job=SlurmQOSTRES(cpus=192, gpus=None, mem=None), priority=0),\n",
       " 'magertongrp-low-qos': SlurmQOS(group=None, job=SlurmQOSTRES(cpus=192, gpus=None, mem=None), priority=10),\n",
       " 'magertongrp-med-qos': SlurmQOS(group=None, job=SlurmQOSTRES(cpus=192, gpus=None, mem=None), priority=10),\n",
       " 'marymgrp-high-qos': SlurmQOS(group=SlurmQOSTRES(cpus=192, gpus=None, mem='512000M'), job=SlurmQOSTRES(cpus=192, gpus=None, mem=None), priority=0),\n",
       " 'marymgrp-low-qos': SlurmQOS(group=None, job=SlurmQOSTRES(cpus=192, gpus=None, mem=None), priority=10),\n",
       " 'marymgrp-med-qos': SlurmQOS(group=None, job=SlurmQOSTRES(cpus=192, gpus=None, mem=None), priority=10),\n",
       " 'gmonroegrp-high-qos': SlurmQOS(group=SlurmQOSTRES(cpus=192, gpus=None, mem='512000M'), job=SlurmQOSTRES(cpus=192, gpus=None, mem=None), priority=0),\n",
       " 'gmonroegrp-low-qos': SlurmQOS(group=None, job=SlurmQOSTRES(cpus=192, gpus=None, mem=None), priority=10),\n",
       " 'gmonroegrp-med-qos': SlurmQOS(group=None, job=SlurmQOSTRES(cpus=192, gpus=None, mem=None), priority=10),\n",
       " 'adamgrp-high-qos': SlurmQOS(group=SlurmQOSTRES(cpus=192, gpus=None, mem='512000M'), job=SlurmQOSTRES(cpus=192, gpus=None, mem=None), priority=0),\n",
       " 'adamgrp-med-qos': SlurmQOS(group=None, job=SlurmQOSTRES(cpus=192, gpus=None, mem=None), priority=10),\n",
       " 'jingrp-high-qos': SlurmQOS(group=SlurmQOSTRES(cpus=192, gpus=None, mem='512000M'), job=SlurmQOSTRES(cpus=192, gpus=None, mem=None), priority=0),\n",
       " 'jingrp-low-qos': SlurmQOS(group=None, job=SlurmQOSTRES(cpus=192, gpus=None, mem=None), priority=10),\n",
       " 'jingrp-med-qos': SlurmQOS(group=None, job=SlurmQOSTRES(cpus=192, gpus=None, mem=None), priority=10),\n",
       " 'latimergrp-high-qos': SlurmQOS(group=SlurmQOSTRES(cpus=192, gpus=None, mem='512000M'), job=SlurmQOSTRES(cpus=192, gpus=None, mem=None), priority=0),\n",
       " 'latimergrp-low-qos': SlurmQOS(group=None, job=SlurmQOSTRES(cpus=192, gpus=None, mem=None), priority=10),\n",
       " 'latimergrp-med-qos': SlurmQOS(group=None, job=SlurmQOSTRES(cpus=192, gpus=None, mem=None), priority=10),\n",
       " 'brnjohnsgrp-high-qos': SlurmQOS(group=SlurmQOSTRES(cpus=192, gpus=None, mem='512000M'), job=SlurmQOSTRES(cpus=192, gpus=None, mem=None), priority=0),\n",
       " 'brnjohnsgrp-low-qos': SlurmQOS(group=None, job=SlurmQOSTRES(cpus=192, gpus=None, mem=None), priority=10),\n",
       " 'brnjohnsgrp-med-qos': SlurmQOS(group=None, job=SlurmQOSTRES(cpus=192, gpus=None, mem=None), priority=10),\n",
       " 'bnbaileygrp-high-qos': SlurmQOS(group=SlurmQOSTRES(cpus=192, gpus=None, mem='512000M'), job=SlurmQOSTRES(cpus=192, gpus=None, mem=None), priority=0),\n",
       " 'bnbaileygrp-low-qos': SlurmQOS(group=None, job=SlurmQOSTRES(cpus=192, gpus=None, mem=None), priority=10),\n",
       " 'bnbaileygrp-med-qos': SlurmQOS(group=None, job=SlurmQOSTRES(cpus=192, gpus=None, mem=None), priority=10),\n",
       " 'entnemgrp-high-qos': SlurmQOS(group=SlurmQOSTRES(cpus=192, gpus=None, mem='512000M'), job=SlurmQOSTRES(cpus=192, gpus=None, mem=None), priority=0),\n",
       " 'entnemgrp-low-qos': SlurmQOS(group=None, job=SlurmQOSTRES(cpus=192, gpus=None, mem=None), priority=10),\n",
       " 'entnemgrp-med-qos': SlurmQOS(group=None, job=SlurmQOSTRES(cpus=192, gpus=None, mem=None), priority=10),\n",
       " 'ctbrowngrp-high-qos': SlurmQOS(group=SlurmQOSTRES(cpus=192, gpus=None, mem='512000M'), job=SlurmQOSTRES(cpus=192, gpus=None, mem=None), priority=0),\n",
       " 'ctbrowngrp-low-qos': SlurmQOS(group=None, job=SlurmQOSTRES(cpus=192, gpus=None, mem=None), priority=10),\n",
       " 'ctbrowngrp-med-qos': SlurmQOS(group=None, job=SlurmQOSTRES(cpus=192, gpus=None, mem=None), priority=10),\n",
       " 'dubcovskygrp-high-qos': SlurmQOS(group=SlurmQOSTRES(cpus=192, gpus=None, mem='512000M'), job=SlurmQOSTRES(cpus=192, gpus=None, mem=None), priority=0),\n",
       " 'dubcovskygrp-low-qos': SlurmQOS(group=None, job=SlurmQOSTRES(cpus=192, gpus=None, mem=None), priority=10),\n",
       " 'dubcovskygrp-med-qos': SlurmQOS(group=None, job=SlurmQOSTRES(cpus=192, gpus=None, mem=None), priority=10),\n",
       " 'jyllwgrp-high-qos': SlurmQOS(group=SlurmQOSTRES(cpus=192, gpus=None, mem='512000M'), job=SlurmQOSTRES(cpus=192, gpus=None, mem=None), priority=0),\n",
       " 'jyllwgrp-low-qos': SlurmQOS(group=None, job=SlurmQOSTRES(cpus=192, gpus=None, mem=None), priority=10),\n",
       " 'jyllwgrp-med-qos': SlurmQOS(group=None, job=SlurmQOSTRES(cpus=192, gpus=None, mem=None), priority=10),\n",
       " 'jmearlesgrp-low-qos': SlurmQOS(group=None, job=SlurmQOSTRES(cpus=192, gpus=None, mem=None), priority=10),\n",
       " 'jmearlesgrp-med-qos': SlurmQOS(group=None, job=SlurmQOSTRES(cpus=192, gpus=None, mem=None), priority=10),\n",
       " 'donggrp-high-qos': SlurmQOS(group=SlurmQOSTRES(cpus=192, gpus=None, mem='512000M'), job=SlurmQOSTRES(cpus=192, gpus=None, mem=None), priority=0),\n",
       " 'donggrp-low-qos': SlurmQOS(group=None, job=SlurmQOSTRES(cpus=192, gpus=None, mem=None), priority=10),\n",
       " 'donggrp-med-qos': SlurmQOS(group=None, job=SlurmQOSTRES(cpus=192, gpus=None, mem=None), priority=10),\n",
       " 'darcantugrp-bmh-qos': SlurmQOS(group=SlurmQOSTRES(cpus=96, gpus=None, mem='512000M'), job=None, priority=0),\n",
       " 'darcantugrp-bml-qos': SlurmQOS(group=None, job=None, priority=10),\n",
       " 'darcantugrp-bmm-qos': SlurmQOS(group=None, job=None, priority=10),\n",
       " 'darcantugrp-high-qos': SlurmQOS(group=SlurmQOSTRES(cpus=192, gpus=None, mem='512000M'), job=SlurmQOSTRES(cpus=192, gpus=None, mem=None), priority=0),\n",
       " 'darcantugrp-low-qos': SlurmQOS(group=None, job=SlurmQOSTRES(cpus=192, gpus=None, mem=None), priority=10),\n",
       " 'darcantugrp-med-qos': SlurmQOS(group=None, job=SlurmQOSTRES(cpus=192, gpus=None, mem=None), priority=10)}"
      ]
     },
     "execution_count": 5,
     "metadata": {},
     "output_type": "execute_result"
    }
   ],
   "source": [
    "slurm_qos_map"
   ]
  },
  {
   "cell_type": "markdown",
   "id": "04d92acf",
   "metadata": {},
   "source": [
    "# Bootstrapping: Exporting Old Slurm to YAML\n",
    "\n",
    "First, we need to write out the old State of the World as known to slurm to our YAML format. We parse out all the associations from `sacctmgr show users -P` and construct the QoS <=> Partition mapping as implied by the user associations, and also keep track of the partitions and QoS's associated with particular users for those that are members of multiple accounts."
   ]
  },
  {
   "cell_type": "code",
   "execution_count": 2,
   "id": "6c7475ab",
   "metadata": {},
   "outputs": [],
   "source": [
    "with open('peloton.qos.txt') as fp:\n",
    "    old_slurm_qos_map, old_slurm_filtered_map = build_slurm_qos_state(fp)"
   ]
  },
  {
   "cell_type": "code",
   "execution_count": 3,
   "id": "f55f8441",
   "metadata": {},
   "outputs": [
    {
     "data": {
      "text/plain": [
       "{'statsgrph2': SlurmQOS(group=SlurmQOSTRES(cpus=256, gpus=None, mem='1024000M'), job=None, priority=0),\n",
       " 'adminm': SlurmQOS(group=None, job=None, priority=0),\n",
       " 'gpu': SlurmQOS(group=None, job=None, priority=0),\n",
       " 'adminh': SlurmQOS(group=None, job=None, priority=0),\n",
       " 'statsgrpm2': SlurmQOS(group=None, job=None, priority=0),\n",
       " 'awetzelgrpm2': SlurmQOS(group=None, job=None, priority=0),\n",
       " 'awetzelgrph2m': SlurmQOS(group=SlurmQOSTRES(cpus=128, gpus=None, mem=None), job=None, priority=0),\n",
       " 'awetzelgrph2': SlurmQOS(group=SlurmQOSTRES(cpus=256, gpus=None, mem='1024000M'), job=None, priority=0),\n",
       " 'donadiogrpm': SlurmQOS(group=None, job=None, priority=0),\n",
       " 'donadiogrph': SlurmQOS(group=SlurmQOSTRES(cpus=544, gpus=None, mem='1114112M'), job=None, priority=0),\n",
       " 'kellogggrph': SlurmQOS(group=SlurmQOSTRES(cpus=128, gpus=None, mem='256000M'), job=None, priority=0),\n",
       " 'kellogggrpm': SlurmQOS(group=None, job=None, priority=0),\n",
       " 'egpgrpm2': SlurmQOS(group=None, job=None, priority=0),\n",
       " 'egpgrph2': SlurmQOS(group=SlurmQOSTRES(cpus=256, gpus=None, mem='512000M'), job=None, priority=0),\n",
       " 'huskeygrpm2': SlurmQOS(group=None, job=None, priority=0),\n",
       " 'huskeygrph2': SlurmQOS(group=SlurmQOSTRES(cpus=128, gpus=None, mem='512000M'), job=None, priority=0),\n",
       " 'kellogggrpm2': SlurmQOS(group=None, job=None, priority=0),\n",
       " 'kellogggrph2': SlurmQOS(group=SlurmQOSTRES(cpus=512, gpus=None, mem='1024000M'), job=None, priority=0),\n",
       " 'leepingm': SlurmQOS(group=None, job=None, priority=0),\n",
       " 'leepingh': SlurmQOS(group=SlurmQOSTRES(cpus=768, gpus=None, mem='1536000M'), job=None, priority=0),\n",
       " 'mathgrpm2': SlurmQOS(group=None, job=None, priority=0),\n",
       " 'mathgrph2': SlurmQOS(group=SlurmQOSTRES(cpus=256, gpus=None, mem='512000M'), job=None, priority=0),\n",
       " 'mpsgrpm': SlurmQOS(group=None, job=None, priority=0),\n",
       " 'mpsgrph': SlurmQOS(group=SlurmQOSTRES(cpus=128, gpus=None, mem='256000M'), job=None, priority=0),\n",
       " 'physicsgrpm': SlurmQOS(group=None, job=None, priority=0),\n",
       " 'physicsgrph': SlurmQOS(group=SlurmQOSTRES(cpus=128, gpus=None, mem='256000M'), job=None, priority=0),\n",
       " 'pickettgrpm': SlurmQOS(group=None, job=None, priority=0),\n",
       " 'pickettgrph': SlurmQOS(group=SlurmQOSTRES(cpus=128, gpus=None, mem='256000M'), job=None, priority=0),\n",
       " 'rudolphgrph2': SlurmQOS(group=SlurmQOSTRES(cpus=1536, gpus=None, mem='6144000M'), job=None, priority=0),\n",
       " 'rudolphgrpm2': SlurmQOS(group=None, job=None, priority=0),\n",
       " 'specfem': SlurmQOS(group=SlurmQOSTRES(cpus=256, gpus=None, mem='512000M'), job=None, priority=0),\n",
       " 'stsgrpm2': SlurmQOS(group=None, job=None, priority=0),\n",
       " 'stsgrph2': SlurmQOS(group=SlurmQOSTRES(cpus=256, gpus=None, mem='1024000M'), job=None, priority=0),\n",
       " 'stsgrpm': SlurmQOS(group=None, job=None, priority=0),\n",
       " 'stsgrph': SlurmQOS(group=SlurmQOSTRES(cpus=96, gpus=None, mem='256000M'), job=None, priority=0),\n",
       " 'physicsgrpm2': SlurmQOS(group=None, job=None, priority=0),\n",
       " 'leepingh2': SlurmQOS(group=SlurmQOSTRES(cpus=1024, gpus=None, mem='4096000M'), job=None, priority=0),\n",
       " 'knoxgrph2': SlurmQOS(group=SlurmQOSTRES(cpus=512, gpus=None, mem='1000000M'), job=None, priority=0),\n",
       " 'leepingm2': SlurmQOS(group=None, job=None, priority=0),\n",
       " 'rome-256-512.billen': SlurmQOS(group=SlurmQOSTRES(cpus=None, gpus=None, mem=None), job=None, priority=0),\n",
       " 'rome-256-512.knox': SlurmQOS(group=SlurmQOSTRES(cpus=None, gpus=None, mem=None), job=None, priority=0),\n",
       " 'rome-256-512.fassnacht': SlurmQOS(group=SlurmQOSTRES(cpus=None, gpus=None, mem=None), job=None, priority=0),\n",
       " 'rome-256-512.boorman': SlurmQOS(group=SlurmQOSTRES(cpus=None, gpus=None, mem=None), job=None, priority=0),\n",
       " 'rome-256-512.cmb': SlurmQOS(group=SlurmQOSTRES(cpus=None, gpus=None, mem=None), job=None, priority=0)}"
      ]
     },
     "execution_count": 3,
     "metadata": {},
     "output_type": "execute_result"
    }
   ],
   "source": [
    "old_slurm_qos_map"
   ]
  },
  {
   "cell_type": "code",
   "execution_count": 23,
   "id": "bf6810cc",
   "metadata": {},
   "outputs": [],
   "source": [
    "def sacctmgr_build_group_slurm_map(assoc_file_pointer,\n",
    "                                   qos_map,\n",
    "                                   filter_accounts_on={'Account': ['root', 'farm-test']},\n",
    "                                   filter_users_on={'QOS': ['normal'],\n",
    "                                                    'Partition': ['seriallcluster=farm']}):\n",
    "    #references_qoses = {\n",
    "    #    'adamgrpm': 'adamgrp-med-qos',\n",
    "    #    'adamgrph': 'adamgrp-high-qos',\n",
    "    #    'adamgrph2': 'adamgrp-high2-qos',\n",
    "    #    'adamgrpm2': 'adamgrp-med2-qos'\n",
    "    #}\n",
    "    \n",
    "    references_qoses = {\n",
    "        'normal': 'normal'\n",
    "    }\n",
    "    \n",
    "    \n",
    "    \n",
    "    # map account => (partition, QOS)\n",
    "    assoc_map = {'accounts': {}, 'users': {}}\n",
    "    filtered_assocs = []\n",
    "    for row in SAcctMgr.get_show_parser(assoc_file_pointer):\n",
    "        row = filter_nulls(row)\n",
    "        #pprint(row)\n",
    "\n",
    "        if 'Partition' not in row and 'User' not in row:\n",
    "            # This is a parent Account definition, add it to the map.\n",
    "            # Set partitions empty and fill in as we encounter them.\n",
    "            \n",
    "            filter_row = check_filter(row, filter_accounts_on)\n",
    "            if filter_row:\n",
    "                filtered_assocs.append(row)\n",
    "            else:\n",
    "                assoc_map['accounts'][row['Account']] = dict(\n",
    "                    partitions = {},\n",
    "                    max_jobs = row.get('MaxJobs', None)\n",
    "                )\n",
    "        elif 'Partition' in row and 'User' in row:\n",
    "            # partition<->QOS associations actually only exist per-user, but on our clusters,\n",
    "            # they should always \n",
    "            filter_row = check_filter(row, filter_users_on)\n",
    "\n",
    "            if filter_row:\n",
    "                filtered_assocs.append(row)\n",
    "            else:\n",
    "                user_name = row['User']\n",
    "                account_name = row['Account']\n",
    "                partition_name = row['Partition']\n",
    "                qos_name = row['QOS']\n",
    "\n",
    "                try:\n",
    "                    account_map = assoc_map['accounts'][account_name]\n",
    "                except KeyError:\n",
    "                    pprint(row)\n",
    "                    pprint(filtered_assocs)\n",
    "                    raise\n",
    "\n",
    "                \n",
    "                try:\n",
    "\n",
    "                    if account_name != 'adamgrp' and qos_name in ['adamgrph', 'adamgrph2']:\n",
    "                        continue\n",
    "                    elif qos_name in references_qoses:\n",
    "                        qos = references_qoses[qos_name]\n",
    "                    else:\n",
    "                        qos = qos_map[qos_name]\n",
    "                    \n",
    "                    if not qos:\n",
    "                        qos = None\n",
    "\n",
    "                    partition = SlurmPartition(\n",
    "                        qos = qos\n",
    "                    )\n",
    "                except KeyError as e:\n",
    "                    print(e)\n",
    "                else:\n",
    "                    if partition_name not in account_map['partitions']:\n",
    "                        account_map['partitions'][partition_name] = partition\n",
    "                    else:\n",
    "                        if account_map['partitions'][partition_name].qos == 'normal' and qos_name != 'normal':\n",
    "                            print(qos_name, qos)\n",
    "                            account_map['partitions'][partition_name] = partition\n",
    "\n",
    "                    if user_name not in assoc_map['users']:\n",
    "                        assoc_map['users'][user_name] = [(account_name, partition_name, partition)]\n",
    "                    else:\n",
    "                        assoc_map['users'][user_name].append((account_name, partition_name, partition))\n",
    "        else:\n",
    "            print(row)\n",
    "                    \n",
    "    # Now, convert to our structured dataclasses.\n",
    "    for account_name, account_data in assoc_map['accounts'].items():\n",
    "        assoc_map['accounts'][account_name] = SlurmRecord(\n",
    "            account = account_name,\n",
    "            max_jobs = account_data['max_jobs'],\n",
    "            partitions = account_data['partitions']\n",
    "        )\n",
    "\n",
    "    return assoc_map, filtered_assocs"
   ]
  },
  {
   "cell_type": "code",
   "execution_count": 5,
   "id": "d5fa0bfe",
   "metadata": {},
   "outputs": [
    {
     "ename": "KeyError",
     "evalue": "'adamgrpm'",
     "output_type": "error",
     "traceback": [
      "\u001b[0;31m---------------------------------------------------------------------------\u001b[0m",
      "\u001b[0;31mKeyError\u001b[0m                                  Traceback (most recent call last)",
      "Cell \u001b[0;32mIn[5], line 1\u001b[0m\n\u001b[0;32m----> 1\u001b[0m \u001b[43mold_slurm_qos_map\u001b[49m\u001b[43m[\u001b[49m\u001b[38;5;124;43m'\u001b[39;49m\u001b[38;5;124;43madamgrpm\u001b[39;49m\u001b[38;5;124;43m'\u001b[39;49m\u001b[43m]\u001b[49m\n",
      "\u001b[0;31mKeyError\u001b[0m: 'adamgrpm'"
     ]
    }
   ],
   "source": [
    "old_slurm_qos_map['adamgrpm']"
   ]
  },
  {
   "cell_type": "code",
   "execution_count": 34,
   "id": "163eaed2",
   "metadata": {},
   "outputs": [
    {
     "name": "stdout",
     "output_type": "stream",
     "text": [
      "{'Cluster': 'peloton', 'Account': 'root', 'User': 'root', 'Share': '1', 'QOS': 'normal'}\n",
      "awetzelgrph2 SlurmQOS(group=SlurmQOSTRES(cpus=256, gpus=None, mem='1024000M'), job=None, priority=0)\n",
      "rudolphgrpm2 SlurmQOS(group=None, job=None, priority=0)\n"
     ]
    }
   ],
   "source": [
    "with open('peloton.assoc.txt') as fp:\n",
    "    old_assoc_map, old_filtered_assocs = \\\n",
    "        sacctmgr_build_group_slurm_map(fp, old_slurm_qos_map,\n",
    "                                       filter_accounts_on={'Account': ['root', 'admin', 'upgrade-test']},\n",
    "                                       filter_users_on={'Account': ['root', 'admin', 'upgrade-test'],\n",
    "                                                        'Partition': ['rome-256-512', 'rome-256-+']})"
   ]
  },
  {
   "cell_type": "markdown",
   "id": "49d926d5",
   "metadata": {},
   "source": [
    "An example QOS as represented internally by `cheeto`."
   ]
  },
  {
   "cell_type": "code",
   "execution_count": 22,
   "id": "94e6a6ea",
   "metadata": {
    "scrolled": true
   },
   "outputs": [
    {
     "data": {
      "text/html": [
       "<pre style=\"white-space:pre;overflow-x:auto;line-height:normal;font-family:Menlo,'DejaVu Sans Mono',consolas,'Courier New',monospace\"><span style=\"color: #800080; text-decoration-color: #800080; font-weight: bold\">SlurmRecord</span><span style=\"font-weight: bold\">(</span>\n",
       "    <span style=\"color: #808000; text-decoration-color: #808000\">account</span>=<span style=\"color: #008000; text-decoration-color: #008000\">'cmb'</span>,\n",
       "    <span style=\"color: #808000; text-decoration-color: #808000\">partitions</span>=<span style=\"font-weight: bold\">{</span>\n",
       "        <span style=\"color: #008000; text-decoration-color: #008000\">'requeue'</span>: <span style=\"color: #800080; text-decoration-color: #800080; font-weight: bold\">SlurmPartition</span><span style=\"font-weight: bold\">(</span><span style=\"color: #808000; text-decoration-color: #808000\">qos</span>=<span style=\"color: #008000; text-decoration-color: #008000\">'normal'</span><span style=\"font-weight: bold\">)</span>,\n",
       "        <span style=\"color: #008000; text-decoration-color: #008000\">'p-cmb'</span>: <span style=\"color: #800080; text-decoration-color: #800080; font-weight: bold\">SlurmPartition</span><span style=\"font-weight: bold\">(</span><span style=\"color: #808000; text-decoration-color: #808000\">qos</span>=<span style=\"color: #008000; text-decoration-color: #008000\">'normal'</span><span style=\"font-weight: bold\">)</span>,\n",
       "        <span style=\"color: #008000; text-decoration-color: #008000\">'rome-256-512'</span>: <span style=\"color: #800080; text-decoration-color: #800080; font-weight: bold\">SlurmPartition</span><span style=\"font-weight: bold\">(</span>\n",
       "            <span style=\"color: #808000; text-decoration-color: #808000\">qos</span>=<span style=\"color: #800080; text-decoration-color: #800080; font-weight: bold\">SlurmQOS</span><span style=\"font-weight: bold\">(</span><span style=\"color: #808000; text-decoration-color: #808000\">group</span>=<span style=\"color: #800080; text-decoration-color: #800080; font-weight: bold\">SlurmQOSTRES</span><span style=\"font-weight: bold\">(</span><span style=\"color: #808000; text-decoration-color: #808000\">cpus</span>=<span style=\"color: #800080; text-decoration-color: #800080; font-style: italic\">None</span>, <span style=\"color: #808000; text-decoration-color: #808000\">gpus</span>=<span style=\"color: #800080; text-decoration-color: #800080; font-style: italic\">None</span>, <span style=\"color: #808000; text-decoration-color: #808000\">mem</span>=<span style=\"color: #800080; text-decoration-color: #800080; font-style: italic\">None</span><span style=\"font-weight: bold\">)</span>, <span style=\"color: #808000; text-decoration-color: #808000\">job</span>=<span style=\"color: #800080; text-decoration-color: #800080; font-style: italic\">None</span>, <span style=\"color: #808000; text-decoration-color: #808000\">priority</span>=<span style=\"color: #008080; text-decoration-color: #008080; font-weight: bold\">0</span><span style=\"font-weight: bold\">)</span>\n",
       "        <span style=\"font-weight: bold\">)</span>,\n",
       "        <span style=\"color: #008000; text-decoration-color: #008000\">'low'</span>: <span style=\"color: #800080; text-decoration-color: #800080; font-weight: bold\">SlurmPartition</span><span style=\"font-weight: bold\">(</span><span style=\"color: #808000; text-decoration-color: #808000\">qos</span>=<span style=\"color: #008000; text-decoration-color: #008000\">'normal'</span><span style=\"font-weight: bold\">)</span>,\n",
       "        <span style=\"color: #008000; text-decoration-color: #008000\">'med'</span>: <span style=\"color: #800080; text-decoration-color: #800080; font-weight: bold\">SlurmPartition</span><span style=\"font-weight: bold\">(</span><span style=\"color: #808000; text-decoration-color: #808000\">qos</span>=<span style=\"color: #008000; text-decoration-color: #008000\">'normal'</span><span style=\"font-weight: bold\">)</span>\n",
       "    <span style=\"font-weight: bold\">}</span>,\n",
       "    <span style=\"color: #808000; text-decoration-color: #808000\">max_jobs</span>=<span style=\"color: #800080; text-decoration-color: #800080; font-style: italic\">None</span>\n",
       "<span style=\"font-weight: bold\">)</span>\n",
       "</pre>\n"
      ],
      "text/plain": [
       "\u001b[1;35mSlurmRecord\u001b[0m\u001b[1m(\u001b[0m\n",
       "    \u001b[33maccount\u001b[0m=\u001b[32m'cmb'\u001b[0m,\n",
       "    \u001b[33mpartitions\u001b[0m=\u001b[1m{\u001b[0m\n",
       "        \u001b[32m'requeue'\u001b[0m: \u001b[1;35mSlurmPartition\u001b[0m\u001b[1m(\u001b[0m\u001b[33mqos\u001b[0m=\u001b[32m'normal'\u001b[0m\u001b[1m)\u001b[0m,\n",
       "        \u001b[32m'p-cmb'\u001b[0m: \u001b[1;35mSlurmPartition\u001b[0m\u001b[1m(\u001b[0m\u001b[33mqos\u001b[0m=\u001b[32m'normal'\u001b[0m\u001b[1m)\u001b[0m,\n",
       "        \u001b[32m'rome-256-512'\u001b[0m: \u001b[1;35mSlurmPartition\u001b[0m\u001b[1m(\u001b[0m\n",
       "            \u001b[33mqos\u001b[0m=\u001b[1;35mSlurmQOS\u001b[0m\u001b[1m(\u001b[0m\u001b[33mgroup\u001b[0m=\u001b[1;35mSlurmQOSTRES\u001b[0m\u001b[1m(\u001b[0m\u001b[33mcpus\u001b[0m=\u001b[3;35mNone\u001b[0m, \u001b[33mgpus\u001b[0m=\u001b[3;35mNone\u001b[0m, \u001b[33mmem\u001b[0m=\u001b[3;35mNone\u001b[0m\u001b[1m)\u001b[0m, \u001b[33mjob\u001b[0m=\u001b[3;35mNone\u001b[0m, \u001b[33mpriority\u001b[0m=\u001b[1;36m0\u001b[0m\u001b[1m)\u001b[0m\n",
       "        \u001b[1m)\u001b[0m,\n",
       "        \u001b[32m'low'\u001b[0m: \u001b[1;35mSlurmPartition\u001b[0m\u001b[1m(\u001b[0m\u001b[33mqos\u001b[0m=\u001b[32m'normal'\u001b[0m\u001b[1m)\u001b[0m,\n",
       "        \u001b[32m'med'\u001b[0m: \u001b[1;35mSlurmPartition\u001b[0m\u001b[1m(\u001b[0m\u001b[33mqos\u001b[0m=\u001b[32m'normal'\u001b[0m\u001b[1m)\u001b[0m\n",
       "    \u001b[1m}\u001b[0m,\n",
       "    \u001b[33mmax_jobs\u001b[0m=\u001b[3;35mNone\u001b[0m\n",
       "\u001b[1m)\u001b[0m\n"
      ]
     },
     "metadata": {},
     "output_type": "display_data"
    }
   ],
   "source": [
    "rprint(old_assoc_map['accounts']['cmb'])"
   ]
  },
  {
   "cell_type": "code",
   "execution_count": 30,
   "id": "85dc71f6",
   "metadata": {},
   "outputs": [
    {
     "data": {
      "text/plain": [
       "[('cmb', 'requeue', SlurmPartition(qos='normal')),\n",
       " ('cmb', 'p-cmb', SlurmPartition(qos='normal'))]"
      ]
     },
     "execution_count": 30,
     "metadata": {},
     "output_type": "execute_result"
    }
   ],
   "source": [
    "old_assoc_map['users']['soukhind']"
   ]
  },
  {
   "cell_type": "code",
   "execution_count": 35,
   "id": "c7793968",
   "metadata": {
    "scrolled": false
   },
   "outputs": [
    {
     "name": "stdout",
     "output_type": "stream",
     "text": [
      "{'awetzelgrp': SlurmRecord(account='awetzelgrp',\n",
      "                           partitions={'high': SlurmPartition(qos=SlurmQOS(group=SlurmQOSTRES(cpus=256,\n",
      "                                                                                              gpus=None,\n",
      "                                                                                              mem='1024000M'),\n",
      "                                                                           job=None,\n",
      "                                                                           priority=0)),\n",
      "                                       'high2': SlurmPartition(qos=SlurmQOS(group=SlurmQOSTRES(cpus=256,\n",
      "                                                                                               gpus=None,\n",
      "                                                                                               mem='1024000M'),\n",
      "                                                                            job=None,\n",
      "                                                                            priority=0)),\n",
      "                                       'high2m': SlurmPartition(qos=SlurmQOS(group=SlurmQOSTRES(cpus=128,\n",
      "                                                                                                gpus=None,\n",
      "                                                                                                mem=None),\n",
      "                                                                             job=None,\n",
      "                                                                             priority=0)),\n",
      "                                       'low': SlurmPartition(qos='normal'),\n",
      "                                       'low2': SlurmPartition(qos=SlurmQOS(group=None,\n",
      "                                                                           job=None,\n",
      "                                                                           priority=0)),\n",
      "                                       'med': SlurmPartition(qos='normal'),\n",
      "                                       'med2': SlurmPartition(qos=SlurmQOS(group=None,\n",
      "                                                                           job=None,\n",
      "                                                                           priority=0))},\n",
      "                           max_jobs=None),\n",
      " 'billen': SlurmRecord(account='billen',\n",
      "                       partitions={'high': SlurmPartition(qos='normal'),\n",
      "                                   'low': SlurmPartition(qos='normal'),\n",
      "                                   'med': SlurmPartition(qos='normal'),\n",
      "                                   'p-billen': SlurmPartition(qos='normal'),\n",
      "                                   'requeue': SlurmPartition(qos='normal')},\n",
      "                       max_jobs=None),\n",
      " 'boorman': SlurmRecord(account='boorman',\n",
      "                        partitions={'p-boorman': SlurmPartition(qos='normal'),\n",
      "                                    'p-cmb': SlurmPartition(qos='normal'),\n",
      "                                    'requeue': SlurmPartition(qos='normal')},\n",
      "                        max_jobs=None),\n",
      " 'clns': SlurmRecord(account='clns',\n",
      "                     partitions={'rome-96-256': SlurmPartition(qos='normal')},\n",
      "                     max_jobs=None),\n",
      " 'cluster': SlurmRecord(account='cluster', partitions={}, max_jobs=None),\n",
      " 'cmb': SlurmRecord(account='cmb',\n",
      "                    partitions={'low': SlurmPartition(qos='normal'),\n",
      "                                'med': SlurmPartition(qos='normal'),\n",
      "                                'p-cmb': SlurmPartition(qos='normal'),\n",
      "                                'requeue': SlurmPartition(qos='normal')},\n",
      "                    max_jobs=None),\n",
      " 'cnbgrp': SlurmRecord(account='cnbgrp',\n",
      "                       partitions={'high': SlurmPartition(qos='normal'),\n",
      "                                   'low': SlurmPartition(qos='normal'),\n",
      "                                   'med': SlurmPartition(qos='normal'),\n",
      "                                   'p-cmb': SlurmPartition(qos='normal')},\n",
      "                       max_jobs=None),\n",
      " 'donadiogrp': SlurmRecord(account='donadiogrp',\n",
      "                           partitions={'high': SlurmPartition(qos=SlurmQOS(group=SlurmQOSTRES(cpus=544,\n",
      "                                                                                              gpus=None,\n",
      "                                                                                              mem='1114112M'),\n",
      "                                                                           job=None,\n",
      "                                                                           priority=0)),\n",
      "                                       'low': SlurmPartition(qos=SlurmQOS(group=None,\n",
      "                                                                          job=None,\n",
      "                                                                          priority=0)),\n",
      "                                       'med': SlurmPartition(qos=SlurmQOS(group=None,\n",
      "                                                                          job=None,\n",
      "                                                                          priority=0))},\n",
      "                           max_jobs=None),\n",
      " 'egpgrp': SlurmRecord(account='egpgrp',\n",
      "                       partitions={'high': SlurmPartition(qos=SlurmQOS(group=SlurmQOSTRES(cpus=128,\n",
      "                                                                                          gpus=None,\n",
      "                                                                                          mem='256000M'),\n",
      "                                                                       job=None,\n",
      "                                                                       priority=0)),\n",
      "                                   'high2': SlurmPartition(qos=SlurmQOS(group=SlurmQOSTRES(cpus=256,\n",
      "                                                                                           gpus=None,\n",
      "                                                                                           mem='512000M'),\n",
      "                                                                        job=None,\n",
      "                                                                        priority=0)),\n",
      "                                   'low': SlurmPartition(qos=SlurmQOS(group=None,\n",
      "                                                                      job=None,\n",
      "                                                                      priority=0)),\n",
      "                                   'low2': SlurmPartition(qos='normal'),\n",
      "                                   'med': SlurmPartition(qos=SlurmQOS(group=None,\n",
      "                                                                      job=None,\n",
      "                                                                      priority=0)),\n",
      "                                   'med2': SlurmPartition(qos=SlurmQOS(group=None,\n",
      "                                                                       job=None,\n",
      "                                                                       priority=0))},\n",
      "                       max_jobs=None),\n",
      " 'fassnacht': SlurmRecord(account='fassnacht',\n",
      "                          partitions={'p-fassnacht': SlurmPartition(qos='normal'),\n",
      "                                      'requeue': SlurmPartition(qos='normal')},\n",
      "                          max_jobs=None),\n",
      " 'huskeygrp': SlurmRecord(account='huskeygrp',\n",
      "                          partitions={'high': SlurmPartition(qos='normal'),\n",
      "                                      'high2': SlurmPartition(qos=SlurmQOS(group=SlurmQOSTRES(cpus=128,\n",
      "                                                                                              gpus=None,\n",
      "                                                                                              mem='512000M'),\n",
      "                                                                           job=None,\n",
      "                                                                           priority=0)),\n",
      "                                      'low': SlurmPartition(qos='normal'),\n",
      "                                      'med': SlurmPartition(qos='normal'),\n",
      "                                      'med2': SlurmPartition(qos=SlurmQOS(group=None,\n",
      "                                                                          job=None,\n",
      "                                                                          priority=0))},\n",
      "                          max_jobs=None),\n",
      " 'kellogggrp': SlurmRecord(account='kellogggrp',\n",
      "                           partitions={'high': SlurmPartition(qos=SlurmQOS(group=SlurmQOSTRES(cpus=128,\n",
      "                                                                                              gpus=None,\n",
      "                                                                                              mem='256000M'),\n",
      "                                                                           job=None,\n",
      "                                                                           priority=0)),\n",
      "                                       'high2': SlurmPartition(qos=SlurmQOS(group=SlurmQOSTRES(cpus=512,\n",
      "                                                                                               gpus=None,\n",
      "                                                                                               mem='1024000M'),\n",
      "                                                                            job=None,\n",
      "                                                                            priority=0)),\n",
      "                                       'low': SlurmPartition(qos=SlurmQOS(group=None,\n",
      "                                                                          job=None,\n",
      "                                                                          priority=0)),\n",
      "                                       'low2': SlurmPartition(qos=SlurmQOS(group=None,\n",
      "                                                                           job=None,\n",
      "                                                                           priority=0)),\n",
      "                                       'med': SlurmPartition(qos=SlurmQOS(group=None,\n",
      "                                                                          job=None,\n",
      "                                                                          priority=0)),\n",
      "                                       'med2': SlurmPartition(qos=SlurmQOS(group=None,\n",
      "                                                                           job=None,\n",
      "                                                                           priority=0))},\n",
      "                           max_jobs=None),\n",
      " 'kiskisgrp': SlurmRecord(account='kiskisgrp', partitions={}, max_jobs=None),\n",
      " 'knox': SlurmRecord(account='knox',\n",
      "                     partitions={'p-knox': SlurmPartition(qos='normal'),\n",
      "                                 'requeue': SlurmPartition(qos='normal')},\n",
      "                     max_jobs=None),\n",
      " 'leeping': SlurmRecord(account='leeping',\n",
      "                        partitions={'gpu': SlurmPartition(qos=SlurmQOS(group=None,\n",
      "                                                                       job=None,\n",
      "                                                                       priority=0)),\n",
      "                                    'high': SlurmPartition(qos=SlurmQOS(group=SlurmQOSTRES(cpus=768,\n",
      "                                                                                           gpus=None,\n",
      "                                                                                           mem='1536000M'),\n",
      "                                                                        job=None,\n",
      "                                                                        priority=0)),\n",
      "                                    'high2': SlurmPartition(qos=SlurmQOS(group=SlurmQOSTRES(cpus=256,\n",
      "                                                                                            gpus=None,\n",
      "                                                                                            mem='512000M'),\n",
      "                                                                         job=None,\n",
      "                                                                         priority=0)),\n",
      "                                    'low': SlurmPartition(qos=SlurmQOS(group=None,\n",
      "                                                                       job=None,\n",
      "                                                                       priority=0)),\n",
      "                                    'med': SlurmPartition(qos=SlurmQOS(group=None,\n",
      "                                                                       job=None,\n",
      "                                                                       priority=0)),\n",
      "                                    'med2': SlurmPartition(qos=SlurmQOS(group=None,\n",
      "                                                                        job=None,\n",
      "                                                                        priority=0)),\n",
      "                                    'rome-96-256': SlurmPartition(qos='normal')},\n",
      "                        max_jobs=None),\n",
      " 'lsgrp': SlurmRecord(account='lsgrp', partitions={}, max_jobs=None),\n",
      " 'mathgrp': SlurmRecord(account='mathgrp',\n",
      "                        partitions={'high': SlurmPartition(qos='normal'),\n",
      "                                    'high2': SlurmPartition(qos=SlurmQOS(group=SlurmQOSTRES(cpus=256,\n",
      "                                                                                            gpus=None,\n",
      "                                                                                            mem='512000M'),\n",
      "                                                                         job=None,\n",
      "                                                                         priority=0)),\n",
      "                                    'low': SlurmPartition(qos='normal'),\n",
      "                                    'med': SlurmPartition(qos='normal'),\n",
      "                                    'med2': SlurmPartition(qos=SlurmQOS(group=None,\n",
      "                                                                        job=None,\n",
      "                                                                        priority=0))},\n",
      "                        max_jobs=None),\n",
      " 'mpsgrp': SlurmRecord(account='mpsgrp',\n",
      "                       partitions={'high': SlurmPartition(qos=SlurmQOS(group=SlurmQOSTRES(cpus=128,\n",
      "                                                                                          gpus=None,\n",
      "                                                                                          mem='256000M'),\n",
      "                                                                       job=None,\n",
      "                                                                       priority=0)),\n",
      "                                   'high2': SlurmPartition(qos=SlurmQOS(group=SlurmQOSTRES(cpus=256,\n",
      "                                                                                           gpus=None,\n",
      "                                                                                           mem='512000M'),\n",
      "                                                                        job=None,\n",
      "                                                                        priority=0)),\n",
      "                                   'long': SlurmPartition(qos='normal'),\n",
      "                                   'low': SlurmPartition(qos=SlurmQOS(group=None,\n",
      "                                                                      job=None,\n",
      "                                                                      priority=0)),\n",
      "                                   'med': SlurmPartition(qos=SlurmQOS(group=None,\n",
      "                                                                      job=None,\n",
      "                                                                      priority=0)),\n",
      "                                   'med2': SlurmPartition(qos=SlurmQOS(group=None,\n",
      "                                                                       job=None,\n",
      "                                                                       priority=0)),\n",
      "                                   'p-boorman': SlurmPartition(qos='normal'),\n",
      "                                   'requeue': SlurmPartition(qos='normal')},\n",
      "                       max_jobs=None),\n",
      " 'physicsgrp': SlurmRecord(account='physicsgrp',\n",
      "                           partitions={'high': SlurmPartition(qos=SlurmQOS(group=SlurmQOSTRES(cpus=128,\n",
      "                                                                                              gpus=None,\n",
      "                                                                                              mem='256000M'),\n",
      "                                                                           job=None,\n",
      "                                                                           priority=0)),\n",
      "                                       'low': SlurmPartition(qos=SlurmQOS(group=None,\n",
      "                                                                          job=None,\n",
      "                                                                          priority=0)),\n",
      "                                       'med': SlurmPartition(qos=SlurmQOS(group=None,\n",
      "                                                                          job=None,\n",
      "                                                                          priority=0)),\n",
      "                                       'med2': SlurmPartition(qos=SlurmQOS(group=None,\n",
      "                                                                           job=None,\n",
      "                                                                           priority=0)),\n",
      "                                       'requeue': SlurmPartition(qos='normal'),\n",
      "                                       'rome-96-256': SlurmPartition(qos='normal')},\n",
      "                           max_jobs=None),\n",
      " 'pickettgrp': SlurmRecord(account='pickettgrp',\n",
      "                           partitions={'high': SlurmPartition(qos=SlurmQOS(group=SlurmQOSTRES(cpus=128,\n",
      "                                                                                              gpus=None,\n",
      "                                                                                              mem='256000M'),\n",
      "                                                                           job=None,\n",
      "                                                                           priority=0)),\n",
      "                                       'low': SlurmPartition(qos=SlurmQOS(group=None,\n",
      "                                                                          job=None,\n",
      "                                                                          priority=0)),\n",
      "                                       'med': SlurmPartition(qos=SlurmQOS(group=None,\n",
      "                                                                          job=None,\n",
      "                                                                          priority=0))},\n",
      "                           max_jobs=None),\n",
      " 'rudolphgrp': SlurmRecord(account='rudolphgrp',\n",
      "                           partitions={'high': SlurmPartition(qos=SlurmQOS(group=SlurmQOSTRES(cpus=1536,\n",
      "                                                                                              gpus=None,\n",
      "                                                                                              mem='6144000M'),\n",
      "                                                                           job=None,\n",
      "                                                                           priority=0)),\n",
      "                                       'high2': SlurmPartition(qos=SlurmQOS(group=SlurmQOSTRES(cpus=1536,\n",
      "                                                                                               gpus=None,\n",
      "                                                                                               mem='6144000M'),\n",
      "                                                                            job=None,\n",
      "                                                                            priority=0)),\n",
      "                                       'low2': SlurmPartition(qos=SlurmQOS(group=None,\n",
      "                                                                           job=None,\n",
      "                                                                           priority=0)),\n",
      "                                       'med': SlurmPartition(qos=SlurmQOS(group=None,\n",
      "                                                                          job=None,\n",
      "                                                                          priority=0)),\n",
      "                                       'med2': SlurmPartition(qos=SlurmQOS(group=None,\n",
      "                                                                           job=None,\n",
      "                                                                           priority=0))},\n",
      "                           max_jobs=None),\n",
      " 'specfem': SlurmRecord(account='specfem',\n",
      "                        partitions={'high': SlurmPartition(qos=SlurmQOS(group=SlurmQOSTRES(cpus=256,\n",
      "                                                                                           gpus=None,\n",
      "                                                                                           mem='512000M'),\n",
      "                                                                        job=None,\n",
      "                                                                        priority=0))},\n",
      "                        max_jobs=None),\n",
      " 'statsgrp': SlurmRecord(account='statsgrp',\n",
      "                         partitions={'high': SlurmPartition(qos='normal'),\n",
      "                                     'high2': SlurmPartition(qos=SlurmQOS(group=SlurmQOSTRES(cpus=256,\n",
      "                                                                                             gpus=None,\n",
      "                                                                                             mem='1024000M'),\n",
      "                                                                          job=None,\n",
      "                                                                          priority=0)),\n",
      "                                     'low': SlurmPartition(qos='normal'),\n",
      "                                     'med': SlurmPartition(qos='normal'),\n",
      "                                     'med2': SlurmPartition(qos=SlurmQOS(group=None,\n",
      "                                                                         job=None,\n",
      "                                                                         priority=0))},\n",
      "                         max_jobs=None),\n",
      " 'stsgrp': SlurmRecord(account='stsgrp',\n",
      "                       partitions={'high': SlurmPartition(qos=SlurmQOS(group=SlurmQOSTRES(cpus=96,\n",
      "                                                                                          gpus=None,\n",
      "                                                                                          mem='256000M'),\n",
      "                                                                       job=None,\n",
      "                                                                       priority=0)),\n",
      "                                   'high2': SlurmPartition(qos=SlurmQOS(group=SlurmQOSTRES(cpus=256,\n",
      "                                                                                           gpus=None,\n",
      "                                                                                           mem='1024000M'),\n",
      "                                                                        job=None,\n",
      "                                                                        priority=0)),\n",
      "                                   'low': SlurmPartition(qos=SlurmQOS(group=None,\n",
      "                                                                      job=None,\n",
      "                                                                      priority=0)),\n",
      "                                   'med': SlurmPartition(qos=SlurmQOS(group=None,\n",
      "                                                                      job=None,\n",
      "                                                                      priority=0)),\n",
      "                                   'med2': SlurmPartition(qos=SlurmQOS(group=None,\n",
      "                                                                       job=None,\n",
      "                                                                       priority=0))},\n",
      "                       max_jobs=None)}\n"
     ]
    }
   ],
   "source": [
    "pprint(old_assoc_map['accounts'])"
   ]
  },
  {
   "cell_type": "code",
   "execution_count": 12,
   "id": "94ec739a",
   "metadata": {},
   "outputs": [
    {
     "ename": "KeyError",
     "evalue": "'groups'",
     "output_type": "error",
     "traceback": [
      "\u001b[0;31m---------------------------------------------------------------------------\u001b[0m",
      "\u001b[0;31mKeyError\u001b[0m                                  Traceback (most recent call last)",
      "Cell \u001b[0;32mIn[12], line 1\u001b[0m\n\u001b[0;32m----> 1\u001b[0m \u001b[43mold_assoc_map\u001b[49m\u001b[43m[\u001b[49m\u001b[38;5;124;43m'\u001b[39;49m\u001b[38;5;124;43mgroups\u001b[39;49m\u001b[38;5;124;43m'\u001b[39;49m\u001b[43m]\u001b[49m\u001b[38;5;241m.\u001b[39mkeys()\n",
      "\u001b[0;31mKeyError\u001b[0m: 'groups'"
     ]
    }
   ],
   "source": [
    "old_assoc_map['groups'].keys()"
   ]
  },
  {
   "cell_type": "markdown",
   "id": "7ab104aa",
   "metadata": {},
   "source": [
    "### Load up the existing YAML tree from our accounts repo."
   ]
  },
  {
   "cell_type": "code",
   "execution_count": 2,
   "id": "51317663",
   "metadata": {},
   "outputs": [],
   "source": [
    "def load_puppet_mapping(root='../puppet.hpc-accounts/domains/farm.hpc.ucdavis.edu',\n",
    "                        pattern='*.yaml'):\n",
    "    files = glob.glob(os.path.join(root, pattern))\n",
    "    tree = parse_yaml_forest(files, merge_on=MergeStrategy.ALL)['merged-all']\n",
    "    puppet_mapping = PuppetAccountMap.Schema().load(tree)\n",
    "    return puppet_mapping"
   ]
  },
  {
   "cell_type": "markdown",
   "id": "50339c83",
   "metadata": {},
   "source": [
    "Merge the Slurm models into the existing accounts tree. This works for all the Slurm accounts where the name matches the associated PI group name; some don't match and we'll need to do them more or less manually."
   ]
  },
  {
   "cell_type": "code",
   "execution_count": 3,
   "id": "bf05fc32",
   "metadata": {},
   "outputs": [],
   "source": [
    "puppet_mapping = load_puppet_mapping()"
   ]
  },
  {
   "cell_type": "code",
   "execution_count": 4,
   "id": "60fd9ff3",
   "metadata": {},
   "outputs": [],
   "source": [
    "account_name_to_group_map = {'entnem': 'entnemgrp'}"
   ]
  },
  {
   "cell_type": "markdown",
   "id": "a7804188",
   "metadata": {},
   "source": [
    "## Defunct Accounts\n",
    "\n",
    "- admin\n",
    "- admingrp\n",
    "- agertongrp\n",
    "- billaccount\n",
    "- briangrp\n",
    "- testing\n",
    "- emoniergrp\n",
    "- entnem\n",
    "- imtiyazgrp\n",
    "- testing\n",
    "\n",
    "\n",
    "## Fixed\n",
    "\n",
    "- cantugrp\n",
    "- gquongrp\n",
    "- gpul\n",
    "- gtaylorgrp\n",
    "- geminigrp\n",
    "- mldichtegrp"
   ]
  },
  {
   "cell_type": "code",
   "execution_count": 74,
   "id": "119c6f7b",
   "metadata": {},
   "outputs": [
    {
     "name": "stdout",
     "output_type": "stream",
     "text": [
      "No match for Slurm account: admin\n",
      "No match for Slurm account: admingrp\n",
      "No match for Slurm account: agertongrp\n",
      "No match for Slurm account: billaccount\n",
      "No match for Slurm account: briangrp\n",
      "No match for Slurm account: cantugrp\n",
      "No match for Slurm account: emoniergrp\n",
      "No match for Slurm account: entnem\n",
      "No match for Slurm account: gpul\n",
      "No match for Slurm account: gquongrp\n",
      "No match for Slurm account: imtiyazgrp\n",
      "No match for Slurm account: mldichtegrp\n",
      "No match for Slurm account: testing\n"
     ]
    }
   ],
   "source": [
    "updated_puppet_groups = {}\n",
    "for slurm_account_name, slurm_account in old_assoc_map['accounts'].items():\n",
    "    group = puppet_mapping.group.get(slurm_account_name, False)\n",
    "    if not group:\n",
    "        #group = puppet_mapping.group.get(account_name_to_group_map.get(slurm_account_name, 'NULL'), False)\n",
    "        #if not group:\n",
    "        print('No match for Slurm account:', slurm_account_name)\n",
    "        continue\n",
    "    updated = dataclasses.replace(group, slurm=slurm_account)\n",
    "    mapping = PuppetGroupMap(group={slurm_account_name: updated})\n",
    "    updated_puppet_groups[slurm_account_name] = mapping"
   ]
  },
  {
   "cell_type": "code",
   "execution_count": 11,
   "id": "6f6c4887",
   "metadata": {},
   "outputs": [
    {
     "name": "stdout",
     "output_type": "stream",
     "text": [
      "User aariani disabled, skipping.\n",
      "User aldocb disabled, skipping.\n",
      "No user buduchin, skipping.\n",
      "No user gthantha, skipping.\n",
      "User jvanheer disabled, skipping.\n",
      "User kvdistor disabled, skipping.\n",
      "No user mclewis, skipping.\n",
      "No user wscuello, skipping.\n",
      "User cylinder disabled, skipping.\n",
      "User eoziolor disabled, skipping.\n",
      "User mltrego disabled, skipping.\n",
      "User msyedaqu disabled, skipping.\n",
      "User restruch disabled, skipping.\n",
      "User rsniderm disabled, skipping.\n",
      "No user bigmemh, skipping.\n",
      "No user kensia, skipping.\n",
      "No user memm, skipping.\n",
      "No user nymsuhhall, skipping.\n",
      "No user user, skipping.\n",
      "No user cmaylor, skipping.\n",
      "No user aburkert, skipping.\n",
      "User dlabolle disabled, skipping.\n",
      "No user swong, skipping.\n",
      "User yoslee disabled, skipping.\n",
      "No user zzikhoury, skipping.\n",
      "User ohill disabled, skipping.\n",
      "No user set, skipping.\n",
      "No user aldoc, skipping.\n",
      "No user carrascogonzales, skipping.\n",
      "No user cesaram, skipping.\n",
      "User gabmendo disabled, skipping.\n",
      "No user jri-01, skipping.\n",
      "No user jri-02, skipping.\n",
      "No user jri-03, skipping.\n",
      "No user jri-04, skipping.\n",
      "No user jri-05, skipping.\n",
      "No user jri-06, skipping.\n",
      "No user jri-07, skipping.\n",
      "No user jri-08, skipping.\n",
      "No user jri-09, skipping.\n",
      "No user jri-10, skipping.\n",
      "No user jri-11, skipping.\n",
      "No user jri-12, skipping.\n",
      "No user jri-13, skipping.\n",
      "No user jri-14, skipping.\n",
      "No user jri-15, skipping.\n",
      "No user jri-16, skipping.\n",
      "No user jri-17, skipping.\n",
      "No user jri-18, skipping.\n",
      "No user jri-19, skipping.\n",
      "No user jri-20, skipping.\n",
      "No user jri-21, skipping.\n",
      "No user jri-22, skipping.\n",
      "No user jri-23, skipping.\n",
      "No user jri-24, skipping.\n",
      "No user jri-25, skipping.\n",
      "No user jri-26, skipping.\n",
      "No user jri-27, skipping.\n",
      "No user jri-28, skipping.\n",
      "No user jri-29, skipping.\n",
      "No user jri-30, skipping.\n",
      "No user jri-31, skipping.\n",
      "No user jri-32, skipping.\n",
      "No user jri-33, skipping.\n",
      "No user jri-34, skipping.\n",
      "No user jri-35, skipping.\n",
      "No user jri-36, skipping.\n",
      "No user jri-37, skipping.\n",
      "No user jri-38, skipping.\n",
      "No user jri-39, skipping.\n",
      "No user jri-40, skipping.\n",
      "No user cluste, skipping.\n",
      "No user srmt, skipping.\n",
      "No user srmtanalysis, skipping.\n",
      "User bwelly disabled, skipping.\n",
      "No user erikent, skipping.\n",
      "No user grizimer, skipping.\n",
      "User johnmola disabled, skipping.\n",
      "User aliceyu8 disabled, skipping.\n",
      "User allinerp disabled, skipping.\n",
      "User barao disabled, skipping.\n",
      "User bcbaikie disabled, skipping.\n",
      "User borax disabled, skipping.\n",
      "User daisysj disabled, skipping.\n",
      "User ecgranad disabled, skipping.\n",
      "User fengq disabled, skipping.\n",
      "User katng23 disabled, skipping.\n",
      "User laurens disabled, skipping.\n",
      "User mtreiber disabled, skipping.\n",
      "User psbapat disabled, skipping.\n",
      "User rggriggs disabled, skipping.\n",
      "User robertph disabled, skipping.\n",
      "User sakre disabled, skipping.\n",
      "User scsastry disabled, skipping.\n",
      "User seanro00 disabled, skipping.\n",
      "User spatel23 disabled, skipping.\n",
      "User swadener disabled, skipping.\n",
      "User vfbetsis disabled, skipping.\n",
      "User westwise disabled, skipping.\n",
      "User yoxue disabled, skipping.\n",
      "User zhuyuant disabled, skipping.\n",
      "User askol disabled, skipping.\n",
      "User bebenson disabled, skipping.\n",
      "User herreral disabled, skipping.\n",
      "User ehellwig disabled, skipping.\n",
      "No user jameyc, skipping.\n",
      "User laurynne disabled, skipping.\n",
      "No user amweis, skipping.\n"
     ]
    }
   ],
   "source": [
    "updated_puppet_users = []\n",
    "skipped_users = []\n",
    "for user_name, assocs in assoc_map['users'].items():\n",
    "    user = puppet_mapping.user.get(user_name, False)\n",
    "    if not user:\n",
    "        print(f'No user {user_name}, skipping.')\n",
    "        skipped_users.append(user_name)\n",
    "        continue\n",
    "    if user.shell == '/usr/sbin/nologin-account-disabled':\n",
    "        print(f'User {user_name} disabled, skipping.')\n",
    "        skipped_users.append(user_name)\n",
    "        continue\n",
    "    accounts = set((account for account, _, _ in assocs \\\n",
    "                    if account in puppet_mapping.group))\n",
    "    if user.groups is not None:\n",
    "        accounts = accounts - set(user.groups)\n",
    "\n",
    "    if accounts:\n",
    "        updated = dataclasses.replace(user, slurm=SlurmRecord(account=list(accounts)))\n",
    "        mapping = PuppetUserMap(user={user_name: updated})\n",
    "        updated_puppet_users.append((user_name, mapping))"
   ]
  },
  {
   "cell_type": "markdown",
   "id": "d316fa41",
   "metadata": {},
   "source": [
    "### Edge Cases"
   ]
  },
  {
   "cell_type": "code",
   "execution_count": 48,
   "id": "8694606e",
   "metadata": {},
   "outputs": [],
   "source": [
    "def update_group_slurm(new_name, old_name):\n",
    "    group = puppet_mapping.group.get(new_name)\n",
    "    \n",
    "    slurm = old_assoc_map['accounts'][old_name]\n",
    "    \n",
    "    updated = dataclasses.replace(group, slurm=dataclasses.replace(slurm, account=new_name))\n",
    "    return PuppetGroupMap(group={new_name: updated})"
   ]
  },
  {
   "cell_type": "code",
   "execution_count": 49,
   "id": "c2897e17",
   "metadata": {},
   "outputs": [],
   "source": [
    "group_dumper = PuppetGroupMap.Schema(only=['group.slurm'])"
   ]
  },
  {
   "cell_type": "code",
   "execution_count": 39,
   "id": "8afc0466",
   "metadata": {},
   "outputs": [],
   "source": [
    "# cantugrp => darcantugrp\n",
    "new_group = update_group_slurm('darcantugrp', 'cantugrp')"
   ]
  },
  {
   "cell_type": "code",
   "execution_count": 41,
   "id": "bb004190",
   "metadata": {},
   "outputs": [],
   "source": [
    "with open('../puppet.hpc-accounts/domains/farm.hpc.ucdavis.edu/darcantugrp.slurm.yaml', 'w') as fp:\n",
    "    print(group_dumper.dumps(new_group), file=fp)"
   ]
  },
  {
   "cell_type": "code",
   "execution_count": 50,
   "id": "6274b07c",
   "metadata": {},
   "outputs": [],
   "source": [
    "new_group = update_group_slurm('quonbiogrp','gquongrp')"
   ]
  },
  {
   "cell_type": "code",
   "execution_count": 51,
   "id": "1c8ee1c0",
   "metadata": {},
   "outputs": [
    {
     "data": {
      "text/plain": [
       "PuppetGroupMap(group={'quonbiogrp': PuppetGroupRecord(gid=6113820, ensure='present', tag=None, storage=[PuppetGroupStorage(name='gquongrp', owner='gquon', group=None, autofs=PuppetAutofs(nas='nas-4-0-ib', path='/nas-4-0/gquongrp'), zfs=PuppetZFS(quota='15T'))], slurm=SlurmRecord(account='quonbiogrp', partitions={'gpu-a100-h': SlurmPartition(qos=SlurmQOS(group=SlurmQOSTRES(cpus=32, gpus=1, mem='128000M'), job=None, priority=0)), 'low': SlurmPartition(qos='adamgrp-med-qos'), 'med': SlurmPartition(qos='adamgrp-med-qos'), 'gpum': SlurmPartition(qos=SlurmQOS(group=SlurmQOSTRES(cpus=60, gpus=10, mem='983040M'), job=None, priority=0)), 'gpuh': SlurmPartition(qos=SlurmQOS(group=SlurmQOSTRES(cpus=18, gpus=3, mem='288000M'), job=None, priority=0))}, max_jobs=None))})"
      ]
     },
     "execution_count": 51,
     "metadata": {},
     "output_type": "execute_result"
    }
   ],
   "source": [
    "new_group"
   ]
  },
  {
   "cell_type": "code",
   "execution_count": 52,
   "id": "2ce00e5b",
   "metadata": {},
   "outputs": [],
   "source": [
    "with open('../puppet.hpc-accounts/domains/farm.hpc.ucdavis.edu/quonbiogrp.slurm.yaml', 'w') as fp:\n",
    "    print(group_dumper.dumps(new_group), file=fp)"
   ]
  },
  {
   "cell_type": "code",
   "execution_count": 58,
   "id": "f5ab3bb2",
   "metadata": {},
   "outputs": [],
   "source": [
    "with open('../puppet.hpc-accounts/domains/farm.hpc.ucdavis.edu/fzdkeltgrp.slurm.yaml', 'w') as fp:\n",
    "    print(group_dumper.dumps(updated_puppet_groups['fzdkeltgrp']), file=fp)"
   ]
  },
  {
   "cell_type": "code",
   "execution_count": 64,
   "id": "06bd6eee",
   "metadata": {},
   "outputs": [],
   "source": [
    "with open('../puppet.hpc-accounts/domains/farm.hpc.ucdavis.edu/gtaylorgrp.slurm.yaml', 'w') as fp:\n",
    "    print(group_dumper.dumps(updated_puppet_groups['gtaylorgrp']), file=fp)"
   ]
  },
  {
   "cell_type": "code",
   "execution_count": 67,
   "id": "46182020",
   "metadata": {},
   "outputs": [],
   "source": [
    "with open('../puppet.hpc-accounts/domains/farm.hpc.ucdavis.edu/geminigrp.slurm.yaml', 'w') as fp:\n",
    "    print(group_dumper.dumps(updated_puppet_groups['geminigrp']), file=fp)"
   ]
  },
  {
   "cell_type": "code",
   "execution_count": 76,
   "id": "6b441b4e",
   "metadata": {},
   "outputs": [],
   "source": [
    "with open('../puppet.hpc-accounts/domains/farm.hpc.ucdavis.edu/sivasankargrp.slurm.yaml', 'w') as fp:\n",
    "    print(group_dumper.dumps(updated_puppet_groups['sivasankargrp']), file=fp)"
   ]
  },
  {
   "cell_type": "code",
   "execution_count": 68,
   "id": "f0d29af1",
   "metadata": {},
   "outputs": [],
   "source": [
    "new_group = update_group_slurm('dichtergrp','mldichtegrp')"
   ]
  },
  {
   "cell_type": "code",
   "execution_count": 71,
   "id": "79733973",
   "metadata": {},
   "outputs": [],
   "source": [
    "with open('../puppet.hpc-accounts/domains/farm.hpc.ucdavis.edu/dichtergrp.slurm.yaml', 'w') as fp:\n",
    "    print(group_dumper.dumps(new_group), file=fp)"
   ]
  },
  {
   "cell_type": "markdown",
   "id": "a6d15c38",
   "metadata": {},
   "source": [
    "### Dump the Slurm YAMLs\n",
    "\n",
    "We need to do a partial dump of the schema to get the correct formatting: if we just use a `SlurmRecord`, we miss the `group: [PI_GRP]:` keys. Luckily `marshmallow` supports this natively with use of the `only` keyword on schema creation. We'll dump just the `slurm` key into our new `pigrp.slurm.yaml` file."
   ]
  },
  {
   "cell_type": "code",
   "execution_count": 42,
   "id": "81a12ecc",
   "metadata": {},
   "outputs": [],
   "source": [
    "for group_name, group in updated_puppet_groups:\n",
    "    path = f'../puppet.hpc-accounts/domains/farm.hpc.ucdavis.edu/{group_name}.slurm.yaml'\n",
    "    with open(path, 'w') as fp:\n",
    "        print(group_dumper.dumps(group), file=fp)"
   ]
  },
  {
   "cell_type": "code",
   "execution_count": 57,
   "id": "faedd304",
   "metadata": {},
   "outputs": [
    {
     "data": {
      "text/html": [
       "<pre style=\"white-space:pre;overflow-x:auto;line-height:normal;font-family:Menlo,'DejaVu Sans Mono',consolas,'Courier New',monospace\"><span style=\"color: #800080; text-decoration-color: #800080; font-weight: bold\">PuppetGroupMap</span><span style=\"font-weight: bold\">(</span>\n",
       "    <span style=\"color: #808000; text-decoration-color: #808000\">group</span>=<span style=\"font-weight: bold\">{</span>\n",
       "        <span style=\"color: #008000; text-decoration-color: #008000\">'fzdkeltgrp'</span>: <span style=\"color: #800080; text-decoration-color: #800080; font-weight: bold\">PuppetGroupRecord</span><span style=\"font-weight: bold\">(</span>\n",
       "            <span style=\"color: #808000; text-decoration-color: #808000\">gid</span>=<span style=\"color: #008080; text-decoration-color: #008080; font-weight: bold\">100004052</span>,\n",
       "            <span style=\"color: #808000; text-decoration-color: #808000\">ensure</span>=<span style=\"color: #008000; text-decoration-color: #008000\">'present'</span>,\n",
       "            <span style=\"color: #808000; text-decoration-color: #808000\">tag</span>=<span style=\"color: #800080; text-decoration-color: #800080; font-style: italic\">None</span>,\n",
       "            <span style=\"color: #808000; text-decoration-color: #808000\">storage</span>=<span style=\"color: #800080; text-decoration-color: #800080; font-style: italic\">None</span>,\n",
       "            <span style=\"color: #808000; text-decoration-color: #808000\">slurm</span>=<span style=\"color: #800080; text-decoration-color: #800080; font-weight: bold\">SlurmRecord</span><span style=\"font-weight: bold\">(</span>\n",
       "                <span style=\"color: #808000; text-decoration-color: #808000\">account</span>=<span style=\"color: #008000; text-decoration-color: #008000\">'fzdkeltgrp'</span>,\n",
       "                <span style=\"color: #808000; text-decoration-color: #808000\">partitions</span>=<span style=\"font-weight: bold\">{</span>\n",
       "                    <span style=\"color: #008000; text-decoration-color: #008000\">'high2'</span>: <span style=\"color: #800080; text-decoration-color: #800080; font-weight: bold\">SlurmPartition</span><span style=\"font-weight: bold\">(</span>\n",
       "                        <span style=\"color: #808000; text-decoration-color: #808000\">qos</span>=<span style=\"color: #800080; text-decoration-color: #800080; font-weight: bold\">SlurmQOS</span><span style=\"font-weight: bold\">(</span>\n",
       "                            <span style=\"color: #808000; text-decoration-color: #808000\">group</span>=<span style=\"color: #800080; text-decoration-color: #800080; font-weight: bold\">SlurmQOSTRES</span><span style=\"font-weight: bold\">(</span><span style=\"color: #808000; text-decoration-color: #808000\">cpus</span>=<span style=\"color: #008080; text-decoration-color: #008080; font-weight: bold\">256</span>, <span style=\"color: #808000; text-decoration-color: #808000\">gpus</span>=<span style=\"color: #800080; text-decoration-color: #800080; font-style: italic\">None</span>, <span style=\"color: #808000; text-decoration-color: #808000\">mem</span>=<span style=\"color: #008000; text-decoration-color: #008000\">'512000M'</span><span style=\"font-weight: bold\">)</span>,\n",
       "                            <span style=\"color: #808000; text-decoration-color: #808000\">job</span>=<span style=\"color: #800080; text-decoration-color: #800080; font-style: italic\">None</span>,\n",
       "                            <span style=\"color: #808000; text-decoration-color: #808000\">priority</span>=<span style=\"color: #008080; text-decoration-color: #008080; font-weight: bold\">0</span>\n",
       "                        <span style=\"font-weight: bold\">)</span>\n",
       "                    <span style=\"font-weight: bold\">)</span>,\n",
       "                    <span style=\"color: #008000; text-decoration-color: #008000\">'med2'</span>: <span style=\"color: #800080; text-decoration-color: #800080; font-weight: bold\">SlurmPartition</span><span style=\"font-weight: bold\">(</span><span style=\"color: #808000; text-decoration-color: #808000\">qos</span>=<span style=\"color: #800080; text-decoration-color: #800080; font-weight: bold\">SlurmQOS</span><span style=\"font-weight: bold\">(</span><span style=\"color: #808000; text-decoration-color: #808000\">group</span>=<span style=\"color: #800080; text-decoration-color: #800080; font-style: italic\">None</span>, <span style=\"color: #808000; text-decoration-color: #808000\">job</span>=<span style=\"color: #800080; text-decoration-color: #800080; font-style: italic\">None</span>, <span style=\"color: #808000; text-decoration-color: #808000\">priority</span>=<span style=\"color: #008080; text-decoration-color: #008080; font-weight: bold\">10</span><span style=\"font-weight: bold\">))</span>,\n",
       "                    <span style=\"color: #008000; text-decoration-color: #008000\">'low2'</span>: <span style=\"color: #800080; text-decoration-color: #800080; font-weight: bold\">SlurmPartition</span><span style=\"font-weight: bold\">(</span><span style=\"color: #808000; text-decoration-color: #808000\">qos</span>=<span style=\"color: #800080; text-decoration-color: #800080; font-weight: bold\">SlurmQOS</span><span style=\"font-weight: bold\">(</span><span style=\"color: #808000; text-decoration-color: #808000\">group</span>=<span style=\"color: #800080; text-decoration-color: #800080; font-style: italic\">None</span>, <span style=\"color: #808000; text-decoration-color: #808000\">job</span>=<span style=\"color: #800080; text-decoration-color: #800080; font-style: italic\">None</span>, <span style=\"color: #808000; text-decoration-color: #808000\">priority</span>=<span style=\"color: #008080; text-decoration-color: #008080; font-weight: bold\">10</span><span style=\"font-weight: bold\">))</span>\n",
       "                <span style=\"font-weight: bold\">}</span>,\n",
       "                <span style=\"color: #808000; text-decoration-color: #808000\">max_jobs</span>=<span style=\"color: #800080; text-decoration-color: #800080; font-style: italic\">None</span>\n",
       "            <span style=\"font-weight: bold\">)</span>\n",
       "        <span style=\"font-weight: bold\">)</span>\n",
       "    <span style=\"font-weight: bold\">}</span>\n",
       "<span style=\"font-weight: bold\">)</span>\n",
       "</pre>\n"
      ],
      "text/plain": [
       "\u001b[1;35mPuppetGroupMap\u001b[0m\u001b[1m(\u001b[0m\n",
       "    \u001b[33mgroup\u001b[0m=\u001b[1m{\u001b[0m\n",
       "        \u001b[32m'fzdkeltgrp'\u001b[0m: \u001b[1;35mPuppetGroupRecord\u001b[0m\u001b[1m(\u001b[0m\n",
       "            \u001b[33mgid\u001b[0m=\u001b[1;36m100004052\u001b[0m,\n",
       "            \u001b[33mensure\u001b[0m=\u001b[32m'present'\u001b[0m,\n",
       "            \u001b[33mtag\u001b[0m=\u001b[3;35mNone\u001b[0m,\n",
       "            \u001b[33mstorage\u001b[0m=\u001b[3;35mNone\u001b[0m,\n",
       "            \u001b[33mslurm\u001b[0m=\u001b[1;35mSlurmRecord\u001b[0m\u001b[1m(\u001b[0m\n",
       "                \u001b[33maccount\u001b[0m=\u001b[32m'fzdkeltgrp'\u001b[0m,\n",
       "                \u001b[33mpartitions\u001b[0m=\u001b[1m{\u001b[0m\n",
       "                    \u001b[32m'high2'\u001b[0m: \u001b[1;35mSlurmPartition\u001b[0m\u001b[1m(\u001b[0m\n",
       "                        \u001b[33mqos\u001b[0m=\u001b[1;35mSlurmQOS\u001b[0m\u001b[1m(\u001b[0m\n",
       "                            \u001b[33mgroup\u001b[0m=\u001b[1;35mSlurmQOSTRES\u001b[0m\u001b[1m(\u001b[0m\u001b[33mcpus\u001b[0m=\u001b[1;36m256\u001b[0m, \u001b[33mgpus\u001b[0m=\u001b[3;35mNone\u001b[0m, \u001b[33mmem\u001b[0m=\u001b[32m'512000M'\u001b[0m\u001b[1m)\u001b[0m,\n",
       "                            \u001b[33mjob\u001b[0m=\u001b[3;35mNone\u001b[0m,\n",
       "                            \u001b[33mpriority\u001b[0m=\u001b[1;36m0\u001b[0m\n",
       "                        \u001b[1m)\u001b[0m\n",
       "                    \u001b[1m)\u001b[0m,\n",
       "                    \u001b[32m'med2'\u001b[0m: \u001b[1;35mSlurmPartition\u001b[0m\u001b[1m(\u001b[0m\u001b[33mqos\u001b[0m=\u001b[1;35mSlurmQOS\u001b[0m\u001b[1m(\u001b[0m\u001b[33mgroup\u001b[0m=\u001b[3;35mNone\u001b[0m, \u001b[33mjob\u001b[0m=\u001b[3;35mNone\u001b[0m, \u001b[33mpriority\u001b[0m=\u001b[1;36m10\u001b[0m\u001b[1m)\u001b[0m\u001b[1m)\u001b[0m,\n",
       "                    \u001b[32m'low2'\u001b[0m: \u001b[1;35mSlurmPartition\u001b[0m\u001b[1m(\u001b[0m\u001b[33mqos\u001b[0m=\u001b[1;35mSlurmQOS\u001b[0m\u001b[1m(\u001b[0m\u001b[33mgroup\u001b[0m=\u001b[3;35mNone\u001b[0m, \u001b[33mjob\u001b[0m=\u001b[3;35mNone\u001b[0m, \u001b[33mpriority\u001b[0m=\u001b[1;36m10\u001b[0m\u001b[1m)\u001b[0m\u001b[1m)\u001b[0m\n",
       "                \u001b[1m}\u001b[0m,\n",
       "                \u001b[33mmax_jobs\u001b[0m=\u001b[3;35mNone\u001b[0m\n",
       "            \u001b[1m)\u001b[0m\n",
       "        \u001b[1m)\u001b[0m\n",
       "    \u001b[1m}\u001b[0m\n",
       "\u001b[1m)\u001b[0m\n"
      ]
     },
     "metadata": {},
     "output_type": "display_data"
    }
   ],
   "source": [
    "rprint(updated_puppet_groups['fzdkeltgrp'])"
   ]
  },
  {
   "cell_type": "code",
   "execution_count": 15,
   "id": "2a03d37b",
   "metadata": {},
   "outputs": [
    {
     "name": "stdout",
     "output_type": "stream",
     "text": [
      "group:\n",
      "  adamgrp:\n",
      "    slurm:\n",
      "      account: adamgrp\n",
      "      partitions:\n",
      "        bml:\n",
      "          qos:\n",
      "            priority: 0\n",
      "        high:\n",
      "          qos:\n",
      "            group:\n",
      "              cpus: 192\n",
      "              mem: 500G\n",
      "            job:\n",
      "              cpus: 192\n",
      "            priority: 0\n",
      "        high2:\n",
      "          qos:\n",
      "            group:\n",
      "              cpus: 352\n",
      "              mem: 762000M\n",
      "            priority: 0\n",
      "        low:\n",
      "          qos:\n",
      "            job:\n",
      "              cpus: 192\n",
      "            priority: 10\n",
      "        low2:\n",
      "          qos:\n",
      "            priority: 30\n",
      "        med:\n",
      "          qos:\n",
      "            job:\n",
      "              cpus: 192\n",
      "            priority: 10\n",
      "        med2:\n",
      "          qos:\n",
      "            priority: 30\n",
      "      max_jobs: 1024\n",
      "\n"
     ]
    }
   ],
   "source": [
    "print(group_dumper.dumps(updated_puppet_groups[0][1]))"
   ]
  },
  {
   "cell_type": "code",
   "execution_count": 16,
   "id": "7fc67e9d",
   "metadata": {},
   "outputs": [],
   "source": [
    "user_dumper = PuppetUserMap.Schema(only=['user.slurm'])\n",
    "for user_name, user in updated_puppet_users:\n",
    "    path = f'../puppet.hpc-accounts/domains/farm.hpc.ucdavis.edu/{user_name}.slurm.yaml'\n",
    "    if os.path.exists(path):\n",
    "        os.remove(path)\n",
    "    with open(path, 'w') as fp:\n",
    "        print(user_dumper.dumps(user), file=fp)"
   ]
  },
  {
   "cell_type": "markdown",
   "id": "ae1beff6",
   "metadata": {},
   "source": [
    "# Create Association Tuples from YAML World View"
   ]
  },
  {
   "cell_type": "code",
   "execution_count": 2,
   "id": "0ad696f7",
   "metadata": {},
   "outputs": [],
   "source": [
    "def load_puppet_mapping(root='../puppet.hpc-accounts/domains/farm.hpc.ucdavis.edu',\n",
    "                        pattern='*.yaml'):\n",
    "    files = glob.glob(os.path.join(root, pattern))\n",
    "    tree = parse_yaml_forest(files, merge_on=MergeStrategy.ALL)['merged-all']\n",
    "    puppet_mapping = PuppetAccountMap.Schema().load(tree)\n",
    "    return puppet_mapping"
   ]
  },
  {
   "cell_type": "code",
   "execution_count": 4,
   "id": "4e3a78b9",
   "metadata": {
    "scrolled": true
   },
   "outputs": [],
   "source": [
    "puppet_mapping = load_puppet_mapping()"
   ]
  },
  {
   "cell_type": "code",
   "execution_count": 8,
   "id": "0d7d390b",
   "metadata": {},
   "outputs": [
    {
     "data": {
      "text/html": [
       "<pre style=\"white-space:pre;overflow-x:auto;line-height:normal;font-family:Menlo,'DejaVu Sans Mono',consolas,'Courier New',monospace\"><span style=\"color: #800080; text-decoration-color: #800080; font-weight: bold\">PuppetGroupRecord</span><span style=\"font-weight: bold\">(</span>\n",
       "    <span style=\"color: #808000; text-decoration-color: #808000\">gid</span>=<span style=\"color: #008080; text-decoration-color: #008080; font-weight: bold\">9998</span>,\n",
       "    <span style=\"color: #808000; text-decoration-color: #808000\">ensure</span>=<span style=\"color: #008000; text-decoration-color: #008000\">'present'</span>,\n",
       "    <span style=\"color: #808000; text-decoration-color: #808000\">tag</span>=<span style=\"color: #800080; text-decoration-color: #800080; font-style: italic\">None</span>,\n",
       "    <span style=\"color: #808000; text-decoration-color: #808000\">storage</span>=<span style=\"font-weight: bold\">[</span>\n",
       "        <span style=\"color: #800080; text-decoration-color: #800080; font-weight: bold\">PuppetGroupStorage</span><span style=\"font-weight: bold\">(</span>\n",
       "            <span style=\"color: #808000; text-decoration-color: #808000\">name</span>=<span style=\"color: #008000; text-decoration-color: #008000\">'adamroot'</span>,\n",
       "            <span style=\"color: #808000; text-decoration-color: #808000\">owner</span>=<span style=\"color: #008000; text-decoration-color: #008000\">'root'</span>,\n",
       "            <span style=\"color: #808000; text-decoration-color: #808000\">group</span>=<span style=\"color: #008000; text-decoration-color: #008000\">'root'</span>,\n",
       "            <span style=\"color: #808000; text-decoration-color: #808000\">autofs</span>=<span style=\"color: #800080; text-decoration-color: #800080; font-weight: bold\">PuppetAutofs</span><span style=\"font-weight: bold\">(</span><span style=\"color: #808000; text-decoration-color: #808000\">nas</span>=<span style=\"color: #008000; text-decoration-color: #008000\">'nas-12-3-ib'</span>, <span style=\"color: #808000; text-decoration-color: #808000\">path</span>=<span style=\"color: #008000; text-decoration-color: #008000\">'/nas-12-3/adamgrp'</span><span style=\"font-weight: bold\">)</span>,\n",
       "            <span style=\"color: #808000; text-decoration-color: #808000\">zfs</span>=<span style=\"color: #800080; text-decoration-color: #800080; font-weight: bold\">PuppetZFS</span><span style=\"font-weight: bold\">(</span><span style=\"color: #808000; text-decoration-color: #808000\">quota</span>=<span style=\"color: #008000; text-decoration-color: #008000\">'42T'</span><span style=\"font-weight: bold\">)</span>\n",
       "        <span style=\"font-weight: bold\">)</span>\n",
       "    <span style=\"font-weight: bold\">]</span>,\n",
       "    <span style=\"color: #808000; text-decoration-color: #808000\">slurm</span>=<span style=\"color: #800080; text-decoration-color: #800080; font-weight: bold\">SlurmRecord</span><span style=\"font-weight: bold\">(</span>\n",
       "        <span style=\"color: #808000; text-decoration-color: #808000\">account</span>=<span style=\"color: #008000; text-decoration-color: #008000\">'adamgrp'</span>,\n",
       "        <span style=\"color: #808000; text-decoration-color: #808000\">partitions</span>=<span style=\"font-weight: bold\">{</span>\n",
       "            <span style=\"color: #008000; text-decoration-color: #008000\">'bml'</span>: <span style=\"color: #800080; text-decoration-color: #800080; font-weight: bold\">SlurmPartition</span><span style=\"font-weight: bold\">(</span><span style=\"color: #808000; text-decoration-color: #808000\">qos</span>=<span style=\"color: #800080; text-decoration-color: #800080; font-weight: bold\">SlurmQOS</span><span style=\"font-weight: bold\">(</span><span style=\"color: #808000; text-decoration-color: #808000\">group</span>=<span style=\"color: #800080; text-decoration-color: #800080; font-style: italic\">None</span>, <span style=\"color: #808000; text-decoration-color: #808000\">job</span>=<span style=\"color: #800080; text-decoration-color: #800080; font-style: italic\">None</span>, <span style=\"color: #808000; text-decoration-color: #808000\">priority</span>=<span style=\"color: #008080; text-decoration-color: #008080; font-weight: bold\">0</span><span style=\"font-weight: bold\">))</span>,\n",
       "            <span style=\"color: #008000; text-decoration-color: #008000\">'high'</span>: <span style=\"color: #800080; text-decoration-color: #800080; font-weight: bold\">SlurmPartition</span><span style=\"font-weight: bold\">(</span>\n",
       "                <span style=\"color: #808000; text-decoration-color: #808000\">qos</span>=<span style=\"color: #800080; text-decoration-color: #800080; font-weight: bold\">SlurmQOS</span><span style=\"font-weight: bold\">(</span>\n",
       "                    <span style=\"color: #808000; text-decoration-color: #808000\">group</span>=<span style=\"color: #800080; text-decoration-color: #800080; font-weight: bold\">SlurmQOSTRES</span><span style=\"font-weight: bold\">(</span><span style=\"color: #808000; text-decoration-color: #808000\">cpus</span>=<span style=\"color: #008080; text-decoration-color: #008080; font-weight: bold\">192</span>, <span style=\"color: #808000; text-decoration-color: #808000\">gpus</span>=<span style=\"color: #800080; text-decoration-color: #800080; font-style: italic\">None</span>, <span style=\"color: #808000; text-decoration-color: #808000\">mem</span>=<span style=\"color: #008000; text-decoration-color: #008000\">'512000M'</span><span style=\"font-weight: bold\">)</span>,\n",
       "                    <span style=\"color: #808000; text-decoration-color: #808000\">job</span>=<span style=\"color: #800080; text-decoration-color: #800080; font-weight: bold\">SlurmQOSTRES</span><span style=\"font-weight: bold\">(</span><span style=\"color: #808000; text-decoration-color: #808000\">cpus</span>=<span style=\"color: #008080; text-decoration-color: #008080; font-weight: bold\">192</span>, <span style=\"color: #808000; text-decoration-color: #808000\">gpus</span>=<span style=\"color: #800080; text-decoration-color: #800080; font-style: italic\">None</span>, <span style=\"color: #808000; text-decoration-color: #808000\">mem</span>=<span style=\"color: #800080; text-decoration-color: #800080; font-style: italic\">None</span><span style=\"font-weight: bold\">)</span>,\n",
       "                    <span style=\"color: #808000; text-decoration-color: #808000\">priority</span>=<span style=\"color: #008080; text-decoration-color: #008080; font-weight: bold\">0</span>\n",
       "                <span style=\"font-weight: bold\">)</span>\n",
       "            <span style=\"font-weight: bold\">)</span>,\n",
       "            <span style=\"color: #008000; text-decoration-color: #008000\">'high2'</span>: <span style=\"color: #800080; text-decoration-color: #800080; font-weight: bold\">SlurmPartition</span><span style=\"font-weight: bold\">(</span>\n",
       "                <span style=\"color: #808000; text-decoration-color: #808000\">qos</span>=<span style=\"color: #800080; text-decoration-color: #800080; font-weight: bold\">SlurmQOS</span><span style=\"font-weight: bold\">(</span><span style=\"color: #808000; text-decoration-color: #808000\">group</span>=<span style=\"color: #800080; text-decoration-color: #800080; font-weight: bold\">SlurmQOSTRES</span><span style=\"font-weight: bold\">(</span><span style=\"color: #808000; text-decoration-color: #808000\">cpus</span>=<span style=\"color: #008080; text-decoration-color: #008080; font-weight: bold\">352</span>, <span style=\"color: #808000; text-decoration-color: #808000\">gpus</span>=<span style=\"color: #800080; text-decoration-color: #800080; font-style: italic\">None</span>, <span style=\"color: #808000; text-decoration-color: #808000\">mem</span>=<span style=\"color: #008000; text-decoration-color: #008000\">'762000M'</span><span style=\"font-weight: bold\">)</span>, <span style=\"color: #808000; text-decoration-color: #808000\">job</span>=<span style=\"color: #800080; text-decoration-color: #800080; font-style: italic\">None</span>, <span style=\"color: #808000; text-decoration-color: #808000\">priority</span>=<span style=\"color: #008080; text-decoration-color: #008080; font-weight: bold\">0</span><span style=\"font-weight: bold\">)</span>\n",
       "            <span style=\"font-weight: bold\">)</span>,\n",
       "            <span style=\"color: #008000; text-decoration-color: #008000\">'low'</span>: <span style=\"color: #800080; text-decoration-color: #800080; font-weight: bold\">SlurmPartition</span><span style=\"font-weight: bold\">(</span>\n",
       "                <span style=\"color: #808000; text-decoration-color: #808000\">qos</span>=<span style=\"color: #800080; text-decoration-color: #800080; font-weight: bold\">SlurmQOS</span><span style=\"font-weight: bold\">(</span><span style=\"color: #808000; text-decoration-color: #808000\">group</span>=<span style=\"color: #800080; text-decoration-color: #800080; font-style: italic\">None</span>, <span style=\"color: #808000; text-decoration-color: #808000\">job</span>=<span style=\"color: #800080; text-decoration-color: #800080; font-weight: bold\">SlurmQOSTRES</span><span style=\"font-weight: bold\">(</span><span style=\"color: #808000; text-decoration-color: #808000\">cpus</span>=<span style=\"color: #008080; text-decoration-color: #008080; font-weight: bold\">192</span>, <span style=\"color: #808000; text-decoration-color: #808000\">gpus</span>=<span style=\"color: #800080; text-decoration-color: #800080; font-style: italic\">None</span>, <span style=\"color: #808000; text-decoration-color: #808000\">mem</span>=<span style=\"color: #800080; text-decoration-color: #800080; font-style: italic\">None</span><span style=\"font-weight: bold\">)</span>, <span style=\"color: #808000; text-decoration-color: #808000\">priority</span>=<span style=\"color: #008080; text-decoration-color: #008080; font-weight: bold\">10</span><span style=\"font-weight: bold\">)</span>\n",
       "            <span style=\"font-weight: bold\">)</span>,\n",
       "            <span style=\"color: #008000; text-decoration-color: #008000\">'low2'</span>: <span style=\"color: #800080; text-decoration-color: #800080; font-weight: bold\">SlurmPartition</span><span style=\"font-weight: bold\">(</span><span style=\"color: #808000; text-decoration-color: #808000\">qos</span>=<span style=\"color: #800080; text-decoration-color: #800080; font-weight: bold\">SlurmQOS</span><span style=\"font-weight: bold\">(</span><span style=\"color: #808000; text-decoration-color: #808000\">group</span>=<span style=\"color: #800080; text-decoration-color: #800080; font-style: italic\">None</span>, <span style=\"color: #808000; text-decoration-color: #808000\">job</span>=<span style=\"color: #800080; text-decoration-color: #800080; font-style: italic\">None</span>, <span style=\"color: #808000; text-decoration-color: #808000\">priority</span>=<span style=\"color: #008080; text-decoration-color: #008080; font-weight: bold\">30</span><span style=\"font-weight: bold\">))</span>,\n",
       "            <span style=\"color: #008000; text-decoration-color: #008000\">'med'</span>: <span style=\"color: #800080; text-decoration-color: #800080; font-weight: bold\">SlurmPartition</span><span style=\"font-weight: bold\">(</span>\n",
       "                <span style=\"color: #808000; text-decoration-color: #808000\">qos</span>=<span style=\"color: #800080; text-decoration-color: #800080; font-weight: bold\">SlurmQOS</span><span style=\"font-weight: bold\">(</span><span style=\"color: #808000; text-decoration-color: #808000\">group</span>=<span style=\"color: #800080; text-decoration-color: #800080; font-style: italic\">None</span>, <span style=\"color: #808000; text-decoration-color: #808000\">job</span>=<span style=\"color: #800080; text-decoration-color: #800080; font-weight: bold\">SlurmQOSTRES</span><span style=\"font-weight: bold\">(</span><span style=\"color: #808000; text-decoration-color: #808000\">cpus</span>=<span style=\"color: #008080; text-decoration-color: #008080; font-weight: bold\">192</span>, <span style=\"color: #808000; text-decoration-color: #808000\">gpus</span>=<span style=\"color: #800080; text-decoration-color: #800080; font-style: italic\">None</span>, <span style=\"color: #808000; text-decoration-color: #808000\">mem</span>=<span style=\"color: #800080; text-decoration-color: #800080; font-style: italic\">None</span><span style=\"font-weight: bold\">)</span>, <span style=\"color: #808000; text-decoration-color: #808000\">priority</span>=<span style=\"color: #008080; text-decoration-color: #008080; font-weight: bold\">10</span><span style=\"font-weight: bold\">)</span>\n",
       "            <span style=\"font-weight: bold\">)</span>,\n",
       "            <span style=\"color: #008000; text-decoration-color: #008000\">'med2'</span>: <span style=\"color: #800080; text-decoration-color: #800080; font-weight: bold\">SlurmPartition</span><span style=\"font-weight: bold\">(</span><span style=\"color: #808000; text-decoration-color: #808000\">qos</span>=<span style=\"color: #800080; text-decoration-color: #800080; font-weight: bold\">SlurmQOS</span><span style=\"font-weight: bold\">(</span><span style=\"color: #808000; text-decoration-color: #808000\">group</span>=<span style=\"color: #800080; text-decoration-color: #800080; font-style: italic\">None</span>, <span style=\"color: #808000; text-decoration-color: #808000\">job</span>=<span style=\"color: #800080; text-decoration-color: #800080; font-style: italic\">None</span>, <span style=\"color: #808000; text-decoration-color: #808000\">priority</span>=<span style=\"color: #008080; text-decoration-color: #008080; font-weight: bold\">30</span><span style=\"font-weight: bold\">))</span>\n",
       "        <span style=\"font-weight: bold\">}</span>,\n",
       "        <span style=\"color: #808000; text-decoration-color: #808000\">max_jobs</span>=<span style=\"color: #008080; text-decoration-color: #008080; font-weight: bold\">1024</span>\n",
       "    <span style=\"font-weight: bold\">)</span>\n",
       "<span style=\"font-weight: bold\">)</span>\n",
       "</pre>\n"
      ],
      "text/plain": [
       "\u001b[1;35mPuppetGroupRecord\u001b[0m\u001b[1m(\u001b[0m\n",
       "    \u001b[33mgid\u001b[0m=\u001b[1;36m9998\u001b[0m,\n",
       "    \u001b[33mensure\u001b[0m=\u001b[32m'present'\u001b[0m,\n",
       "    \u001b[33mtag\u001b[0m=\u001b[3;35mNone\u001b[0m,\n",
       "    \u001b[33mstorage\u001b[0m=\u001b[1m[\u001b[0m\n",
       "        \u001b[1;35mPuppetGroupStorage\u001b[0m\u001b[1m(\u001b[0m\n",
       "            \u001b[33mname\u001b[0m=\u001b[32m'adamroot'\u001b[0m,\n",
       "            \u001b[33mowner\u001b[0m=\u001b[32m'root'\u001b[0m,\n",
       "            \u001b[33mgroup\u001b[0m=\u001b[32m'root'\u001b[0m,\n",
       "            \u001b[33mautofs\u001b[0m=\u001b[1;35mPuppetAutofs\u001b[0m\u001b[1m(\u001b[0m\u001b[33mnas\u001b[0m=\u001b[32m'nas-12-3-ib'\u001b[0m, \u001b[33mpath\u001b[0m=\u001b[32m'/nas-12-3/adamgrp'\u001b[0m\u001b[1m)\u001b[0m,\n",
       "            \u001b[33mzfs\u001b[0m=\u001b[1;35mPuppetZFS\u001b[0m\u001b[1m(\u001b[0m\u001b[33mquota\u001b[0m=\u001b[32m'42T'\u001b[0m\u001b[1m)\u001b[0m\n",
       "        \u001b[1m)\u001b[0m\n",
       "    \u001b[1m]\u001b[0m,\n",
       "    \u001b[33mslurm\u001b[0m=\u001b[1;35mSlurmRecord\u001b[0m\u001b[1m(\u001b[0m\n",
       "        \u001b[33maccount\u001b[0m=\u001b[32m'adamgrp'\u001b[0m,\n",
       "        \u001b[33mpartitions\u001b[0m=\u001b[1m{\u001b[0m\n",
       "            \u001b[32m'bml'\u001b[0m: \u001b[1;35mSlurmPartition\u001b[0m\u001b[1m(\u001b[0m\u001b[33mqos\u001b[0m=\u001b[1;35mSlurmQOS\u001b[0m\u001b[1m(\u001b[0m\u001b[33mgroup\u001b[0m=\u001b[3;35mNone\u001b[0m, \u001b[33mjob\u001b[0m=\u001b[3;35mNone\u001b[0m, \u001b[33mpriority\u001b[0m=\u001b[1;36m0\u001b[0m\u001b[1m)\u001b[0m\u001b[1m)\u001b[0m,\n",
       "            \u001b[32m'high'\u001b[0m: \u001b[1;35mSlurmPartition\u001b[0m\u001b[1m(\u001b[0m\n",
       "                \u001b[33mqos\u001b[0m=\u001b[1;35mSlurmQOS\u001b[0m\u001b[1m(\u001b[0m\n",
       "                    \u001b[33mgroup\u001b[0m=\u001b[1;35mSlurmQOSTRES\u001b[0m\u001b[1m(\u001b[0m\u001b[33mcpus\u001b[0m=\u001b[1;36m192\u001b[0m, \u001b[33mgpus\u001b[0m=\u001b[3;35mNone\u001b[0m, \u001b[33mmem\u001b[0m=\u001b[32m'512000M'\u001b[0m\u001b[1m)\u001b[0m,\n",
       "                    \u001b[33mjob\u001b[0m=\u001b[1;35mSlurmQOSTRES\u001b[0m\u001b[1m(\u001b[0m\u001b[33mcpus\u001b[0m=\u001b[1;36m192\u001b[0m, \u001b[33mgpus\u001b[0m=\u001b[3;35mNone\u001b[0m, \u001b[33mmem\u001b[0m=\u001b[3;35mNone\u001b[0m\u001b[1m)\u001b[0m,\n",
       "                    \u001b[33mpriority\u001b[0m=\u001b[1;36m0\u001b[0m\n",
       "                \u001b[1m)\u001b[0m\n",
       "            \u001b[1m)\u001b[0m,\n",
       "            \u001b[32m'high2'\u001b[0m: \u001b[1;35mSlurmPartition\u001b[0m\u001b[1m(\u001b[0m\n",
       "                \u001b[33mqos\u001b[0m=\u001b[1;35mSlurmQOS\u001b[0m\u001b[1m(\u001b[0m\u001b[33mgroup\u001b[0m=\u001b[1;35mSlurmQOSTRES\u001b[0m\u001b[1m(\u001b[0m\u001b[33mcpus\u001b[0m=\u001b[1;36m352\u001b[0m, \u001b[33mgpus\u001b[0m=\u001b[3;35mNone\u001b[0m, \u001b[33mmem\u001b[0m=\u001b[32m'762000M'\u001b[0m\u001b[1m)\u001b[0m, \u001b[33mjob\u001b[0m=\u001b[3;35mNone\u001b[0m, \u001b[33mpriority\u001b[0m=\u001b[1;36m0\u001b[0m\u001b[1m)\u001b[0m\n",
       "            \u001b[1m)\u001b[0m,\n",
       "            \u001b[32m'low'\u001b[0m: \u001b[1;35mSlurmPartition\u001b[0m\u001b[1m(\u001b[0m\n",
       "                \u001b[33mqos\u001b[0m=\u001b[1;35mSlurmQOS\u001b[0m\u001b[1m(\u001b[0m\u001b[33mgroup\u001b[0m=\u001b[3;35mNone\u001b[0m, \u001b[33mjob\u001b[0m=\u001b[1;35mSlurmQOSTRES\u001b[0m\u001b[1m(\u001b[0m\u001b[33mcpus\u001b[0m=\u001b[1;36m192\u001b[0m, \u001b[33mgpus\u001b[0m=\u001b[3;35mNone\u001b[0m, \u001b[33mmem\u001b[0m=\u001b[3;35mNone\u001b[0m\u001b[1m)\u001b[0m, \u001b[33mpriority\u001b[0m=\u001b[1;36m10\u001b[0m\u001b[1m)\u001b[0m\n",
       "            \u001b[1m)\u001b[0m,\n",
       "            \u001b[32m'low2'\u001b[0m: \u001b[1;35mSlurmPartition\u001b[0m\u001b[1m(\u001b[0m\u001b[33mqos\u001b[0m=\u001b[1;35mSlurmQOS\u001b[0m\u001b[1m(\u001b[0m\u001b[33mgroup\u001b[0m=\u001b[3;35mNone\u001b[0m, \u001b[33mjob\u001b[0m=\u001b[3;35mNone\u001b[0m, \u001b[33mpriority\u001b[0m=\u001b[1;36m30\u001b[0m\u001b[1m)\u001b[0m\u001b[1m)\u001b[0m,\n",
       "            \u001b[32m'med'\u001b[0m: \u001b[1;35mSlurmPartition\u001b[0m\u001b[1m(\u001b[0m\n",
       "                \u001b[33mqos\u001b[0m=\u001b[1;35mSlurmQOS\u001b[0m\u001b[1m(\u001b[0m\u001b[33mgroup\u001b[0m=\u001b[3;35mNone\u001b[0m, \u001b[33mjob\u001b[0m=\u001b[1;35mSlurmQOSTRES\u001b[0m\u001b[1m(\u001b[0m\u001b[33mcpus\u001b[0m=\u001b[1;36m192\u001b[0m, \u001b[33mgpus\u001b[0m=\u001b[3;35mNone\u001b[0m, \u001b[33mmem\u001b[0m=\u001b[3;35mNone\u001b[0m\u001b[1m)\u001b[0m, \u001b[33mpriority\u001b[0m=\u001b[1;36m10\u001b[0m\u001b[1m)\u001b[0m\n",
       "            \u001b[1m)\u001b[0m,\n",
       "            \u001b[32m'med2'\u001b[0m: \u001b[1;35mSlurmPartition\u001b[0m\u001b[1m(\u001b[0m\u001b[33mqos\u001b[0m=\u001b[1;35mSlurmQOS\u001b[0m\u001b[1m(\u001b[0m\u001b[33mgroup\u001b[0m=\u001b[3;35mNone\u001b[0m, \u001b[33mjob\u001b[0m=\u001b[3;35mNone\u001b[0m, \u001b[33mpriority\u001b[0m=\u001b[1;36m30\u001b[0m\u001b[1m)\u001b[0m\u001b[1m)\u001b[0m\n",
       "        \u001b[1m}\u001b[0m,\n",
       "        \u001b[33mmax_jobs\u001b[0m=\u001b[1;36m1024\u001b[0m\n",
       "    \u001b[1m)\u001b[0m\n",
       "\u001b[1m)\u001b[0m\n"
      ]
     },
     "metadata": {},
     "output_type": "display_data"
    }
   ],
   "source": [
    "rprint(puppet_mapping.group['adamgrp'])"
   ]
  },
  {
   "cell_type": "code",
   "execution_count": 34,
   "id": "fc5e290a",
   "metadata": {
    "scrolled": true
   },
   "outputs": [],
   "source": [
    "sacctmgr = SAcctMgr()\n",
    "slurm_qos_map, slurm_filtered_map = sacctmgr.get_slurm_qos_state()"
   ]
  },
  {
   "cell_type": "code",
   "execution_count": 6,
   "id": "01f9ef27",
   "metadata": {},
   "outputs": [],
   "source": [
    "slurm_associations = sacctmgr.get_slurm_association_state()"
   ]
  },
  {
   "cell_type": "code",
   "execution_count": 7,
   "id": "ea58b8cc",
   "metadata": {
    "scrolled": true
   },
   "outputs": [
    {
     "data": {
      "text/plain": [
       "{'users': {('abrosen', 'adamgrp', 'high2'): 'adamgrp-high2-qos',\n",
       "  ('abrosen', 'adamgrp', 'bml'): 'adamgrp-bml-qos',\n",
       "  ('abrosen', 'adamgrp', 'low2'): 'adamgrp-low2-qos',\n",
       "  ('abrosen', 'adamgrp', 'med2'): 'adamgrp-med2-qos',\n",
       "  ('abrosen', 'adamgrp', 'high'): 'adamgrp-high-qos',\n",
       "  ('abrosen', 'adamgrp', 'med'): 'adamgrp-med-qos',\n",
       "  ('abrosen', 'adamgrp', 'low'): 'adamgrp-low-qos',\n",
       "  ('adam', 'adamgrp', 'bml'): 'adamgrp-bml-qos',\n",
       "  ('adam', 'adamgrp', 'high2'): 'adamgrp-high2-qos',\n",
       "  ('adam', 'adamgrp', 'med2'): 'adamgrp-med2-qos',\n",
       "  ('adam', 'adamgrp', 'low2'): 'adamgrp-low2-qos',\n",
       "  ('adam', 'adamgrp', 'low'): 'adamgrp-low-qos',\n",
       "  ('adam', 'adamgrp', 'med'): 'adamgrp-med-qos',\n",
       "  ('adam', 'adamgrp', 'high'): 'adamgrp-high-qos',\n",
       "  ('adamerum', 'adamgrp', 'high2'): 'adamgrp-high2-qos',\n",
       "  ('adamerum', 'adamgrp', 'bml'): 'adamgrp-bml-qos',\n",
       "  ('adamerum', 'adamgrp', 'low2'): 'adamgrp-low2-qos',\n",
       "  ('adamerum', 'adamgrp', 'med2'): 'adamgrp-med2-qos',\n",
       "  ('adamerum', 'adamgrp', 'high'): 'adamgrp-high-qos',\n",
       "  ('adamerum', 'adamgrp', 'med'): 'adamgrp-med-qos',\n",
       "  ('adamerum', 'adamgrp', 'low'): 'adamgrp-low-qos',\n",
       "  ('aderogat', 'adamgrp', 'high2'): 'adamgrp-high2-qos',\n",
       "  ('aderogat', 'adamgrp', 'bml'): 'adamgrp-bml-qos',\n",
       "  ('aderogat', 'adamgrp', 'low2'): 'adamgrp-low2-qos',\n",
       "  ('aderogat', 'adamgrp', 'med2'): 'adamgrp-med2-qos',\n",
       "  ('aderogat', 'adamgrp', 'high'): 'adamgrp-high-qos',\n",
       "  ('aderogat', 'adamgrp', 'med'): 'adamgrp-med-qos',\n",
       "  ('aderogat', 'adamgrp', 'low'): 'adamgrp-low-qos',\n",
       "  ('adtaheri', 'adamgrp', 'med2'): 'adamgrp-med2-qos',\n",
       "  ('adtaheri', 'adamgrp', 'low2'): 'adamgrp-low2-qos',\n",
       "  ('adtaheri', 'adamgrp', 'high2'): 'adamgrp-high2-qos',\n",
       "  ('adtaheri', 'adamgrp', 'high'): 'adamgrp-high-qos',\n",
       "  ('adtaheri', 'adamgrp', 'bml'): 'adamgrp-bml-qos',\n",
       "  ('adtaheri', 'adamgrp', 'med'): 'adamgrp-med-qos',\n",
       "  ('adtaheri', 'adamgrp', 'low'): 'adamgrp-low-qos',\n",
       "  ('adwright', 'adamgrp', 'high2'): 'adamgrp-high2-qos',\n",
       "  ('adwright', 'adamgrp', 'bml'): 'adamgrp-bml-qos',\n",
       "  ('adwright', 'adamgrp', 'low2'): 'adamgrp-low2-qos',\n",
       "  ('adwright', 'adamgrp', 'med2'): 'adamgrp-med2-qos',\n",
       "  ('adwright', 'adamgrp', 'low'): 'adamgrp-low-qos',\n",
       "  ('adwright', 'adamgrp', 'med'): 'adamgrp-med-qos',\n",
       "  ('adwright', 'adamgrp', 'high'): 'adamgrp-high-qos',\n",
       "  ('aew75', 'adamgrp', 'high2'): 'adamgrp-high2-qos',\n",
       "  ('aew75', 'adamgrp', 'bml'): 'adamgrp-bml-qos',\n",
       "  ('aew75', 'adamgrp', 'low2'): 'adamgrp-low2-qos',\n",
       "  ('aew75', 'adamgrp', 'med2'): 'adamgrp-med2-qos',\n",
       "  ('aew75', 'adamgrp', 'low'): 'adamgrp-low-qos',\n",
       "  ('aew75', 'adamgrp', 'med'): 'adamgrp-med-qos',\n",
       "  ('aew75', 'adamgrp', 'high'): 'adamgrp-high-qos',\n",
       "  ('aeweber', 'adamgrp', 'high2'): 'adamgrp-high2-qos',\n",
       "  ('aeweber', 'adamgrp', 'bml'): 'adamgrp-bml-qos',\n",
       "  ('aeweber', 'adamgrp', 'low2'): 'adamgrp-low2-qos',\n",
       "  ('aeweber', 'adamgrp', 'med2'): 'adamgrp-med2-qos',\n",
       "  ('aeweber', 'adamgrp', 'high'): 'adamgrp-high-qos',\n",
       "  ('aeweber', 'adamgrp', 'med'): 'adamgrp-med-qos',\n",
       "  ('aeweber', 'adamgrp', 'low'): 'adamgrp-low-qos',\n",
       "  ('agreensp', 'adamgrp', 'high2'): 'adamgrp-high2-qos',\n",
       "  ('agreensp', 'adamgrp', 'bml'): 'adamgrp-bml-qos',\n",
       "  ('agreensp', 'adamgrp', 'low2'): 'adamgrp-low2-qos',\n",
       "  ('agreensp', 'adamgrp', 'med2'): 'adamgrp-med2-qos',\n",
       "  ('agreensp', 'adamgrp', 'high'): 'adamgrp-high-qos',\n",
       "  ('agreensp', 'adamgrp', 'low'): 'adamgrp-low-qos',\n",
       "  ('agreensp', 'adamgrp', 'med'): 'adamgrp-med-qos',\n",
       "  ('ajgal', 'adamgrp', 'high2'): 'adamgrp-high2-qos',\n",
       "  ('ajgal', 'adamgrp', 'bml'): 'adamgrp-bml-qos',\n",
       "  ('ajgal', 'adamgrp', 'low2'): 'adamgrp-low2-qos',\n",
       "  ('ajgal', 'adamgrp', 'med2'): 'adamgrp-med2-qos',\n",
       "  ('ajgal', 'adamgrp', 'high'): 'adamgrp-high-qos',\n",
       "  ('ajgal', 'adamgrp', 'med'): 'adamgrp-med-qos',\n",
       "  ('ajgal', 'adamgrp', 'low'): 'adamgrp-low-qos',\n",
       "  ('ajhow', 'adamgrp', 'bml'): 'adamgrp-bml-qos',\n",
       "  ('ajhow', 'adamgrp', 'high2'): 'adamgrp-high2-qos',\n",
       "  ('ajhow', 'adamgrp', 'med2'): 'adamgrp-med2-qos',\n",
       "  ('ajhow', 'adamgrp', 'low2'): 'adamgrp-low2-qos',\n",
       "  ('ajhow', 'adamgrp', 'high'): 'adamgrp-high-qos',\n",
       "  ('ajhow', 'adamgrp', 'med'): 'adamgrp-med-qos',\n",
       "  ('ajhow', 'adamgrp', 'low'): 'adamgrp-low-qos',\n",
       "  ('ajrios', 'adamgrp', 'high2'): 'adamgrp-high2-qos',\n",
       "  ('ajrios', 'adamgrp', 'bml'): 'adamgrp-bml-qos',\n",
       "  ('ajrios', 'adamgrp', 'low2'): 'adamgrp-low2-qos',\n",
       "  ('ajrios', 'adamgrp', 'med2'): 'adamgrp-med2-qos',\n",
       "  ('ajrios', 'adamgrp', 'high'): 'adamgrp-high-qos',\n",
       "  ('ajrios', 'adamgrp', 'med'): 'adamgrp-med-qos',\n",
       "  ('ajrios', 'adamgrp', 'low'): 'adamgrp-low-qos',\n",
       "  ('ake', 'adamgrp', 'high2'): 'adamgrp-high2-qos',\n",
       "  ('ake', 'adamgrp', 'bml'): 'adamgrp-bml-qos',\n",
       "  ('ake', 'adamgrp', 'low2'): 'adamgrp-low2-qos',\n",
       "  ('ake', 'adamgrp', 'med2'): 'adamgrp-med2-qos',\n",
       "  ('ake', 'adamgrp', 'high'): 'adamgrp-high-qos',\n",
       "  ('ake', 'adamgrp', 'med'): 'adamgrp-med-qos',\n",
       "  ('ake', 'adamgrp', 'low'): 'adamgrp-low-qos',\n",
       "  ('aksrao', 'adamgrp', 'med2'): 'adamgrp-med2-qos',\n",
       "  ('aksrao', 'adamgrp', 'low2'): 'adamgrp-low2-qos',\n",
       "  ('aksrao', 'adamgrp', 'high2'): 'adamgrp-high2-qos',\n",
       "  ('aksrao', 'adamgrp', 'bml'): 'adamgrp-bml-qos',\n",
       "  ('aksrao', 'adamgrp', 'high'): 'adamgrp-high-qos',\n",
       "  ('aksrao', 'adamgrp', 'med'): 'adamgrp-med-qos',\n",
       "  ('aksrao', 'adamgrp', 'low'): 'adamgrp-low-qos',\n",
       "  ('alana', 'adamgrp', 'high2'): 'adamgrp-high2-qos',\n",
       "  ('alana', 'adamgrp', 'bml'): 'adamgrp-bml-qos',\n",
       "  ('alana', 'adamgrp', 'low2'): 'adamgrp-low2-qos',\n",
       "  ('alana', 'adamgrp', 'med2'): 'adamgrp-med2-qos',\n",
       "  ('alana', 'adamgrp', 'low'): 'adamgrp-low-qos',\n",
       "  ('alana', 'adamgrp', 'med'): 'adamgrp-med-qos',\n",
       "  ('alana', 'adamgrp', 'high'): 'adamgrp-high-qos',\n",
       "  ('almoyne', 'adamgrp', 'high2'): 'adamgrp-high2-qos',\n",
       "  ('almoyne', 'adamgrp', 'bml'): 'adamgrp-bml-qos',\n",
       "  ('almoyne', 'adamgrp', 'low2'): 'adamgrp-low2-qos',\n",
       "  ('almoyne', 'adamgrp', 'med2'): 'adamgrp-med2-qos',\n",
       "  ('almoyne', 'adamgrp', 'high'): 'adamgrp-high-qos',\n",
       "  ('almoyne', 'adamgrp', 'med'): 'adamgrp-med-qos',\n",
       "  ('almoyne', 'adamgrp', 'low'): 'adamgrp-low-qos',\n",
       "  ('amewong', 'adamgrp', 'bml'): 'adamgrp-bml-qos',\n",
       "  ('amewong', 'adamgrp', 'high2'): 'adamgrp-high2-qos',\n",
       "  ('amewong', 'adamgrp', 'med2'): 'adamgrp-med2-qos',\n",
       "  ('amewong', 'adamgrp', 'low2'): 'adamgrp-low2-qos',\n",
       "  ('amewong', 'adamgrp', 'high'): 'adamgrp-high-qos',\n",
       "  ('amewong', 'adamgrp', 'med'): 'adamgrp-med-qos',\n",
       "  ('amewong', 'adamgrp', 'low'): 'adamgrp-low-qos',\n",
       "  ('amfayyaz', 'adamgrp', 'high2'): 'adamgrp-high2-qos',\n",
       "  ('amfayyaz', 'adamgrp', 'bml'): 'adamgrp-bml-qos',\n",
       "  ('amfayyaz', 'adamgrp', 'low2'): 'adamgrp-low2-qos',\n",
       "  ('amfayyaz', 'adamgrp', 'med2'): 'adamgrp-med2-qos',\n",
       "  ('amfayyaz', 'adamgrp', 'high'): 'adamgrp-high-qos',\n",
       "  ('amfayyaz', 'adamgrp', 'med'): 'adamgrp-med-qos',\n",
       "  ('amfayyaz', 'adamgrp', 'low'): 'adamgrp-low-qos',\n",
       "  ('amhorst', 'adamgrp', 'high2'): 'adamgrp-high2-qos',\n",
       "  ('amhorst', 'adamgrp', 'bml'): 'adamgrp-bml-qos',\n",
       "  ('amhorst', 'adamgrp', 'low2'): 'adamgrp-low2-qos',\n",
       "  ('amhorst', 'adamgrp', 'med2'): 'adamgrp-med2-qos',\n",
       "  ('amhorst', 'adamgrp', 'low'): 'adamgrp-low-qos',\n",
       "  ('amhorst', 'adamgrp', 'med'): 'adamgrp-med-qos',\n",
       "  ('amhorst', 'adamgrp', 'high'): 'adamgrp-high-qos',\n",
       "  ('amobrien', 'adamgrp', 'med2'): 'adamgrp-med2-qos',\n",
       "  ('amobrien', 'adamgrp', 'med'): 'adamgrp-med-qos',\n",
       "  ('amobrien', 'adamgrp', 'low2'): 'adamgrp-low2-qos',\n",
       "  ('amobrien', 'adamgrp', 'low'): 'adamgrp-low-qos',\n",
       "  ('amobrien', 'adamgrp', 'high2'): 'adamgrp-high2-qos',\n",
       "  ('amobrien', 'adamgrp', 'bml'): 'adamgrp-bml-qos',\n",
       "  ('amobrien', 'adamgrp', 'high'): 'adamgrp-high-qos',\n",
       "  ('apaulson', 'adamgrp', 'high2'): 'adamgrp-high2-qos',\n",
       "  ('apaulson', 'adamgrp', 'bml'): 'adamgrp-bml-qos',\n",
       "  ('apaulson', 'adamgrp', 'low2'): 'adamgrp-low2-qos',\n",
       "  ('apaulson', 'adamgrp', 'med2'): 'adamgrp-med2-qos',\n",
       "  ('apaulson', 'adamgrp', 'high'): 'adamgrp-high-qos',\n",
       "  ('apaulson', 'adamgrp', 'med'): 'adamgrp-med-qos',\n",
       "  ('apaulson', 'adamgrp', 'low'): 'adamgrp-low-qos',\n",
       "  ('aprilzm', 'adamgrp', 'bml'): 'adamgrp-bml-qos',\n",
       "  ('aprilzm', 'adamgrp', 'high2'): 'adamgrp-high2-qos',\n",
       "  ('aprilzm', 'adamgrp', 'med2'): 'adamgrp-med2-qos',\n",
       "  ('aprilzm', 'adamgrp', 'low2'): 'adamgrp-low2-qos',\n",
       "  ('aprilzm', 'adamgrp', 'high'): 'adamgrp-high-qos',\n",
       "  ('aprilzm', 'adamgrp', 'med'): 'adamgrp-med-qos',\n",
       "  ('aprilzm', 'adamgrp', 'low'): 'adamgrp-low-qos',\n",
       "  ('area51se', 'adamgrp', 'high2'): 'adamgrp-high2-qos',\n",
       "  ('area51se', 'adamgrp', 'bml'): 'adamgrp-bml-qos',\n",
       "  ('area51se', 'adamgrp', 'low2'): 'adamgrp-low2-qos',\n",
       "  ('area51se', 'adamgrp', 'med2'): 'adamgrp-med2-qos',\n",
       "  ('area51se', 'adamgrp', 'high'): 'adamgrp-high-qos',\n",
       "  ('area51se', 'adamgrp', 'med'): 'adamgrp-med-qos',\n",
       "  ('area51se', 'adamgrp', 'low'): 'adamgrp-low-qos',\n",
       "  ('argelrr', 'adamgrp', 'high2'): 'adamgrp-high2-qos',\n",
       "  ('argelrr', 'adamgrp', 'bml'): 'adamgrp-bml-qos',\n",
       "  ('argelrr', 'adamgrp', 'low2'): 'adamgrp-low2-qos',\n",
       "  ('argelrr', 'adamgrp', 'med2'): 'adamgrp-med2-qos',\n",
       "  ('argelrr', 'adamgrp', 'high'): 'adamgrp-high-qos',\n",
       "  ('argelrr', 'adamgrp', 'med'): 'adamgrp-med-qos',\n",
       "  ('argelrr', 'adamgrp', 'low'): 'adamgrp-low-qos',\n",
       "  ('arturtaj', 'adamgrp', 'high2'): 'adamgrp-high2-qos',\n",
       "  ('arturtaj', 'adamgrp', 'bml'): 'adamgrp-bml-qos',\n",
       "  ('arturtaj', 'adamgrp', 'low2'): 'adamgrp-low2-qos',\n",
       "  ('arturtaj', 'adamgrp', 'med2'): 'adamgrp-med2-qos',\n",
       "  ('arturtaj', 'adamgrp', 'high'): 'adamgrp-high-qos',\n",
       "  ('arturtaj', 'adamgrp', 'med'): 'adamgrp-med-qos',\n",
       "  ('arturtaj', 'adamgrp', 'low'): 'adamgrp-low-qos',\n",
       "  ('asamaras', 'adamgrp', 'high2'): 'adamgrp-high2-qos',\n",
       "  ('asamaras', 'adamgrp', 'bml'): 'adamgrp-bml-qos',\n",
       "  ('asamaras', 'adamgrp', 'low2'): 'adamgrp-low2-qos',\n",
       "  ('asamaras', 'adamgrp', 'med2'): 'adamgrp-med2-qos',\n",
       "  ('asamaras', 'adamgrp', 'high'): 'adamgrp-high-qos',\n",
       "  ('asamaras', 'adamgrp', 'med'): 'adamgrp-med-qos',\n",
       "  ('asamaras', 'adamgrp', 'low'): 'adamgrp-low-qos',\n",
       "  ('asmits', 'adamgrp', 'high2'): 'adamgrp-high2-qos',\n",
       "  ('asmits', 'adamgrp', 'bml'): 'adamgrp-bml-qos',\n",
       "  ('asmits', 'adamgrp', 'low2'): 'adamgrp-low2-qos',\n",
       "  ('asmits', 'adamgrp', 'med2'): 'adamgrp-med2-qos',\n",
       "  ('asmits', 'adamgrp', 'high'): 'adamgrp-high-qos',\n",
       "  ('asmits', 'adamgrp', 'med'): 'adamgrp-med-qos',\n",
       "  ('asmits', 'adamgrp', 'low'): 'adamgrp-low-qos',\n",
       "  ('ataranto', 'adamgrp', 'high2'): 'adamgrp-high2-qos',\n",
       "  ('ataranto', 'adamgrp', 'bml'): 'adamgrp-bml-qos',\n",
       "  ('ataranto', 'adamgrp', 'low2'): 'adamgrp-low2-qos',\n",
       "  ('ataranto', 'adamgrp', 'med2'): 'adamgrp-med2-qos',\n",
       "  ('ataranto', 'adamgrp', 'low'): 'adamgrp-low-qos',\n",
       "  ('ataranto', 'adamgrp', 'med'): 'adamgrp-med-qos',\n",
       "  ('ataranto', 'adamgrp', 'high'): 'adamgrp-high-qos',\n",
       "  ('avpriest', 'adamgrp', 'high2'): 'adamgrp-high2-qos',\n",
       "  ('avpriest', 'adamgrp', 'bml'): 'adamgrp-bml-qos',\n",
       "  ('avpriest', 'adamgrp', 'low2'): 'adamgrp-low2-qos',\n",
       "  ('avpriest', 'adamgrp', 'med2'): 'adamgrp-med2-qos',\n",
       "  ('avpriest', 'adamgrp', 'high'): 'adamgrp-high-qos',\n",
       "  ('avpriest', 'adamgrp', 'med'): 'adamgrp-med-qos',\n",
       "  ('avpriest', 'adamgrp', 'low'): 'adamgrp-low-qos',\n",
       "  ('azacca', 'adamgrp', 'high2'): 'adamgrp-high2-qos',\n",
       "  ('azacca', 'adamgrp', 'bml'): 'adamgrp-bml-qos',\n",
       "  ('azacca', 'adamgrp', 'low2'): 'adamgrp-low2-qos',\n",
       "  ('azacca', 'adamgrp', 'med2'): 'adamgrp-med2-qos',\n",
       "  ('azacca', 'adamgrp', 'high'): 'adamgrp-high-qos',\n",
       "  ('azacca', 'adamgrp', 'med'): 'adamgrp-med-qos',\n",
       "  ('azacca', 'adamgrp', 'low'): 'adamgrp-low-qos',\n",
       "  ('azhu350', 'adamgrp', 'high2'): 'adamgrp-high2-qos',\n",
       "  ('azhu350', 'adamgrp', 'bml'): 'adamgrp-bml-qos',\n",
       "  ('azhu350', 'adamgrp', 'low2'): 'adamgrp-low2-qos',\n",
       "  ('azhu350', 'adamgrp', 'med2'): 'adamgrp-med2-qos',\n",
       "  ('azhu350', 'adamgrp', 'high'): 'adamgrp-high-qos',\n",
       "  ('azhu350', 'adamgrp', 'med'): 'adamgrp-med-qos',\n",
       "  ('azhu350', 'adamgrp', 'low'): 'adamgrp-low-qos',\n",
       "  ('azingore', 'adamgrp', 'high2'): 'adamgrp-high2-qos',\n",
       "  ('azingore', 'adamgrp', 'bml'): 'adamgrp-bml-qos',\n",
       "  ('azingore', 'adamgrp', 'low2'): 'adamgrp-low2-qos',\n",
       "  ('azingore', 'adamgrp', 'med2'): 'adamgrp-med2-qos',\n",
       "  ('azingore', 'adamgrp', 'high'): 'adamgrp-high-qos',\n",
       "  ('azingore', 'adamgrp', 'med'): 'adamgrp-med-qos',\n",
       "  ('azingore', 'adamgrp', 'low'): 'adamgrp-low-qos',\n",
       "  ('baalford', 'adamgrp', 'high2'): 'adamgrp-high2-qos',\n",
       "  ('baalford', 'adamgrp', 'bml'): 'adamgrp-bml-qos',\n",
       "  ('baalford', 'adamgrp', 'low2'): 'adamgrp-low2-qos',\n",
       "  ('baalford', 'adamgrp', 'med2'): 'adamgrp-med2-qos',\n",
       "  ('baalford', 'adamgrp', 'high'): 'adamgrp-high-qos',\n",
       "  ('baalford', 'adamgrp', 'med'): 'adamgrp-med-qos',\n",
       "  ('baalford', 'adamgrp', 'low'): 'adamgrp-low-qos',\n",
       "  ('bardo777', 'adamgrp', 'high2'): 'adamgrp-high2-qos',\n",
       "  ('bardo777', 'adamgrp', 'bml'): 'adamgrp-bml-qos',\n",
       "  ('bardo777', 'adamgrp', 'low2'): 'adamgrp-low2-qos',\n",
       "  ('bardo777', 'adamgrp', 'med2'): 'adamgrp-med2-qos',\n",
       "  ('bardo777', 'adamgrp', 'high'): 'adamgrp-high-qos',\n",
       "  ('bardo777', 'adamgrp', 'med'): 'adamgrp-med-qos',\n",
       "  ('bardo777', 'adamgrp', 'low'): 'adamgrp-low-qos',\n",
       "  ('belwood', 'adamgrp', 'bml'): 'adamgrp-bml-qos',\n",
       "  ('belwood', 'adamgrp', 'high2'): 'adamgrp-high2-qos',\n",
       "  ('belwood', 'adamgrp', 'med2'): 'adamgrp-med2-qos',\n",
       "  ('belwood', 'adamgrp', 'low2'): 'adamgrp-low2-qos',\n",
       "  ('belwood', 'adamgrp', 'high'): 'adamgrp-high-qos',\n",
       "  ('belwood', 'adamgrp', 'med'): 'adamgrp-med-qos',\n",
       "  ('belwood', 'adamgrp', 'low'): 'adamgrp-low-qos',\n",
       "  ('bkriely', 'adamgrp', 'high2'): 'adamgrp-high2-qos',\n",
       "  ('bkriely', 'adamgrp', 'bml'): 'adamgrp-bml-qos',\n",
       "  ('bkriely', 'adamgrp', 'low2'): 'adamgrp-low2-qos',\n",
       "  ('bkriely', 'adamgrp', 'med2'): 'adamgrp-med2-qos',\n",
       "  ('bkriely', 'adamgrp', 'high'): 'adamgrp-high-qos',\n",
       "  ('bkriely', 'adamgrp', 'low'): 'adamgrp-low-qos',\n",
       "  ('bkriely', 'adamgrp', 'med'): 'adamgrp-med-qos',\n",
       "  ('bktorrev', 'adamgrp', 'high2'): 'adamgrp-high2-qos',\n",
       "  ('bktorrev', 'adamgrp', 'bml'): 'adamgrp-bml-qos',\n",
       "  ('bktorrev', 'adamgrp', 'low2'): 'adamgrp-low2-qos',\n",
       "  ('bktorrev', 'adamgrp', 'med2'): 'adamgrp-med2-qos',\n",
       "  ('bktorrev', 'adamgrp', 'high'): 'adamgrp-high-qos',\n",
       "  ('bktorrev', 'adamgrp', 'low'): 'adamgrp-low-qos',\n",
       "  ('bktorrev', 'adamgrp', 'med'): 'adamgrp-med-qos',\n",
       "  ('blumwald', 'adamgrp', 'high2'): 'adamgrp-high2-qos',\n",
       "  ('blumwald', 'adamgrp', 'bml'): 'adamgrp-bml-qos',\n",
       "  ('blumwald', 'adamgrp', 'low2'): 'adamgrp-low2-qos',\n",
       "  ('blumwald', 'adamgrp', 'med2'): 'adamgrp-med2-qos',\n",
       "  ('blumwald', 'adamgrp', 'low'): 'adamgrp-low-qos',\n",
       "  ('blumwald', 'adamgrp', 'med'): 'adamgrp-med-qos',\n",
       "  ('blumwald', 'adamgrp', 'high'): 'adamgrp-high-qos',\n",
       "  ('bmroque', 'adamgrp', 'high2'): 'adamgrp-high2-qos',\n",
       "  ('bmroque', 'adamgrp', 'bml'): 'adamgrp-bml-qos',\n",
       "  ('bmroque', 'adamgrp', 'low2'): 'adamgrp-low2-qos',\n",
       "  ('bmroque', 'adamgrp', 'med2'): 'adamgrp-med2-qos',\n",
       "  ('bmroque', 'adamgrp', 'high'): 'adamgrp-high-qos',\n",
       "  ('bmroque', 'adamgrp', 'med'): 'adamgrp-med-qos',\n",
       "  ('bmroque', 'adamgrp', 'low'): 'adamgrp-low-qos',\n",
       "  ('bnbailey', 'adamgrp', 'high2'): 'adamgrp-high2-qos',\n",
       "  ('bnbailey', 'adamgrp', 'bml'): 'adamgrp-bml-qos',\n",
       "  ('bnbailey', 'adamgrp', 'low2'): 'adamgrp-low2-qos',\n",
       "  ('bnbailey', 'adamgrp', 'med2'): 'adamgrp-med2-qos',\n",
       "  ('bnbailey', 'adamgrp', 'high'): 'adamgrp-high-qos',\n",
       "  ('bnbailey', 'adamgrp', 'med'): 'adamgrp-med-qos',\n",
       "  ('bnbailey', 'adamgrp', 'low'): 'adamgrp-low-qos',\n",
       "  ('bsquared', 'adamgrp', 'high2'): 'adamgrp-high2-qos',\n",
       "  ('bsquared', 'adamgrp', 'bml'): 'adamgrp-bml-qos',\n",
       "  ('bsquared', 'adamgrp', 'low2'): 'adamgrp-low2-qos',\n",
       "  ('bsquared', 'adamgrp', 'med2'): 'adamgrp-med2-qos',\n",
       "  ('bsquared', 'adamgrp', 'low'): 'adamgrp-low-qos',\n",
       "  ('bsquared', 'adamgrp', 'med'): 'adamgrp-med-qos',\n",
       "  ('bsquared', 'adamgrp', 'high'): 'adamgrp-high-qos',\n",
       "  ('bvhong', 'adamgrp', 'bml'): 'adamgrp-bml-qos',\n",
       "  ('bvhong', 'adamgrp', 'high2'): 'adamgrp-high2-qos',\n",
       "  ('bvhong', 'adamgrp', 'med2'): 'adamgrp-med2-qos',\n",
       "  ('bvhong', 'adamgrp', 'low2'): 'adamgrp-low2-qos',\n",
       "  ('bvhong', 'adamgrp', 'high'): 'adamgrp-high-qos',\n",
       "  ('bvhong', 'adamgrp', 'med'): 'adamgrp-med-qos',\n",
       "  ('bvhong', 'adamgrp', 'low'): 'adamgrp-low-qos',\n",
       "  ('bxie', 'adamgrp', 'high2'): 'adamgrp-high2-qos',\n",
       "  ('bxie', 'adamgrp', 'bml'): 'adamgrp-bml-qos',\n",
       "  ('bxie', 'adamgrp', 'low2'): 'adamgrp-low2-qos',\n",
       "  ('bxie', 'adamgrp', 'med2'): 'adamgrp-med2-qos',\n",
       "  ('bxie', 'adamgrp', 'high'): 'adamgrp-high-qos',\n",
       "  ('bxie', 'adamgrp', 'med'): 'adamgrp-med-qos',\n",
       "  ('bxie', 'adamgrp', 'low'): 'adamgrp-low-qos',\n",
       "  ('cabecerr', 'adamgrp', 'high2'): 'adamgrp-high2-qos',\n",
       "  ('cabecerr', 'adamgrp', 'bml'): 'adamgrp-bml-qos',\n",
       "  ('cabecerr', 'adamgrp', 'low2'): 'adamgrp-low2-qos',\n",
       "  ('cabecerr', 'adamgrp', 'med2'): 'adamgrp-med2-qos',\n",
       "  ('cabecerr', 'adamgrp', 'high'): 'adamgrp-high-qos',\n",
       "  ('cabecerr', 'adamgrp', 'low'): 'adamgrp-low-qos',\n",
       "  ('cabecerr', 'adamgrp', 'med'): 'adamgrp-med-qos',\n",
       "  ('camw', 'adamgrp', 'med2'): 'adamgrp-med2-qos',\n",
       "  ('camw', 'adamgrp', 'med'): 'adamgrp-med-qos',\n",
       "  ('camw', 'adamgrp', 'low2'): 'adamgrp-low2-qos',\n",
       "  ('camw', 'adamgrp', 'low'): 'adamgrp-low-qos',\n",
       "  ('camw', 'adamgrp', 'high2'): 'adamgrp-high2-qos',\n",
       "  ('camw', 'adamgrp', 'high'): 'adamgrp-high-qos',\n",
       "  ('camw', 'adamgrp', 'bml'): 'adamgrp-bml-qos',\n",
       "  ('canary89', 'adamgrp', 'high2'): 'adamgrp-high2-qos',\n",
       "  ('canary89', 'adamgrp', 'bml'): 'adamgrp-bml-qos',\n",
       "  ('canary89', 'adamgrp', 'low2'): 'adamgrp-low2-qos',\n",
       "  ('canary89', 'adamgrp', 'med2'): 'adamgrp-med2-qos',\n",
       "  ('canary89', 'adamgrp', 'high'): 'adamgrp-high-qos',\n",
       "  ('canary89', 'adamgrp', 'med'): 'adamgrp-med-qos',\n",
       "  ('canary89', 'adamgrp', 'low'): 'adamgrp-low-qos',\n",
       "  ('cas346', 'adamgrp', 'high2'): 'adamgrp-high2-qos',\n",
       "  ('cas346', 'adamgrp', 'bml'): 'adamgrp-bml-qos',\n",
       "  ('cas346', 'adamgrp', 'low2'): 'adamgrp-low2-qos',\n",
       "  ('cas346', 'adamgrp', 'med2'): 'adamgrp-med2-qos',\n",
       "  ('cas346', 'adamgrp', 'high'): 'adamgrp-high-qos',\n",
       "  ('cas346', 'adamgrp', 'med'): 'adamgrp-med-qos',\n",
       "  ('cas346', 'adamgrp', 'low'): 'adamgrp-low-qos',\n",
       "  ('cbadger', 'adamgrp', 'high2'): 'adamgrp-high2-qos',\n",
       "  ('cbadger', 'adamgrp', 'bml'): 'adamgrp-bml-qos',\n",
       "  ('cbadger', 'adamgrp', 'low2'): 'adamgrp-low2-qos',\n",
       "  ('cbadger', 'adamgrp', 'med2'): 'adamgrp-med2-qos',\n",
       "  ('cbadger', 'adamgrp', 'low'): 'adamgrp-low-qos',\n",
       "  ('cbadger', 'adamgrp', 'med'): 'adamgrp-med-qos',\n",
       "  ('cbadger', 'adamgrp', 'high'): 'adamgrp-high-qos',\n",
       "  ('cbookman', 'adamgrp', 'bml'): 'adamgrp-bml-qos',\n",
       "  ('cbookman', 'adamgrp', 'high2'): 'adamgrp-high2-qos',\n",
       "  ('cbookman', 'adamgrp', 'med2'): 'adamgrp-med2-qos',\n",
       "  ('cbookman', 'adamgrp', 'low2'): 'adamgrp-low2-qos',\n",
       "  ('cbookman', 'adamgrp', 'high'): 'adamgrp-high-qos',\n",
       "  ('cbookman', 'adamgrp', 'med'): 'adamgrp-med-qos',\n",
       "  ('cbookman', 'adamgrp', 'low'): 'adamgrp-low-qos',\n",
       "  ('ccarlson', 'adamgrp', 'high2'): 'adamgrp-high2-qos',\n",
       "  ('ccarlson', 'adamgrp', 'bml'): 'adamgrp-bml-qos',\n",
       "  ('ccarlson', 'adamgrp', 'low2'): 'adamgrp-low2-qos',\n",
       "  ('ccarlson', 'adamgrp', 'med2'): 'adamgrp-med2-qos',\n",
       "  ('ccarlson', 'adamgrp', 'high'): 'adamgrp-high-qos',\n",
       "  ('ccarlson', 'adamgrp', 'med'): 'adamgrp-med-qos',\n",
       "  ('ccarlson', 'adamgrp', 'low'): 'adamgrp-low-qos',\n",
       "  ('ccasteel', 'adamgrp', 'high2'): 'adamgrp-high2-qos',\n",
       "  ('ccasteel', 'adamgrp', 'bml'): 'adamgrp-bml-qos',\n",
       "  ('ccasteel', 'adamgrp', 'low2'): 'adamgrp-low2-qos',\n",
       "  ('ccasteel', 'adamgrp', 'med2'): 'adamgrp-med2-qos',\n",
       "  ('ccasteel', 'adamgrp', 'high'): 'adamgrp-high-qos',\n",
       "  ('ccasteel', 'adamgrp', 'med'): 'adamgrp-med-qos',\n",
       "  ('ccasteel', 'adamgrp', 'low'): 'adamgrp-low-qos',\n",
       "  ('ccollier', 'adamgrp', 'high2'): 'adamgrp-high2-qos',\n",
       "  ('ccollier', 'adamgrp', 'bml'): 'adamgrp-bml-qos',\n",
       "  ('ccollier', 'adamgrp', 'low2'): 'adamgrp-low2-qos',\n",
       "  ('ccollier', 'adamgrp', 'med2'): 'adamgrp-med2-qos',\n",
       "  ('ccollier', 'adamgrp', 'high'): 'adamgrp-high-qos',\n",
       "  ('ccollier', 'adamgrp', 'low'): 'adamgrp-low-qos',\n",
       "  ('ccollier', 'adamgrp', 'med'): 'adamgrp-med-qos',\n",
       "  ('chhzhu', 'adamgrp', 'high2'): 'adamgrp-high2-qos',\n",
       "  ('chhzhu', 'adamgrp', 'bml'): 'adamgrp-bml-qos',\n",
       "  ('chhzhu', 'adamgrp', 'low2'): 'adamgrp-low2-qos',\n",
       "  ('chhzhu', 'adamgrp', 'med2'): 'adamgrp-med2-qos',\n",
       "  ('chhzhu', 'adamgrp', 'low'): 'adamgrp-low-qos',\n",
       "  ('chhzhu', 'adamgrp', 'med'): 'adamgrp-med-qos',\n",
       "  ('chhzhu', 'adamgrp', 'high'): 'adamgrp-high-qos',\n",
       "  ('cjohn', 'adamgrp', 'high2'): 'adamgrp-high2-qos',\n",
       "  ('cjohn', 'adamgrp', 'bml'): 'adamgrp-bml-qos',\n",
       "  ('cjohn', 'adamgrp', 'low2'): 'adamgrp-low2-qos',\n",
       "  ('cjohn', 'adamgrp', 'med2'): 'adamgrp-med2-qos',\n",
       "  ('cjohn', 'adamgrp', 'low'): 'adamgrp-low-qos',\n",
       "  ('cjohn', 'adamgrp', 'med'): 'adamgrp-med-qos',\n",
       "  ('cjohn', 'adamgrp', 'high'): 'adamgrp-high-qos',\n",
       "  ('clancyl', 'adamgrp', 'bml'): 'adamgrp-bml-qos',\n",
       "  ('clancyl', 'adamgrp', 'high2'): 'adamgrp-high2-qos',\n",
       "  ('clancyl', 'adamgrp', 'med2'): 'adamgrp-med2-qos',\n",
       "  ('clancyl', 'adamgrp', 'low2'): 'adamgrp-low2-qos',\n",
       "  ('clancyl', 'adamgrp', 'high'): 'adamgrp-high-qos',\n",
       "  ('clancyl', 'adamgrp', 'med'): 'adamgrp-med-qos',\n",
       "  ('clancyl', 'adamgrp', 'low'): 'adamgrp-low-qos',\n",
       "  ('cmrramir', 'adamgrp', 'high2'): 'adamgrp-high2-qos',\n",
       "  ('cmrramir', 'adamgrp', 'bml'): 'adamgrp-bml-qos',\n",
       "  ('cmrramir', 'adamgrp', 'low2'): 'adamgrp-low2-qos',\n",
       "  ('cmrramir', 'adamgrp', 'med2'): 'adamgrp-med2-qos',\n",
       "  ('cmrramir', 'adamgrp', 'high'): 'adamgrp-high-qos',\n",
       "  ('cmrramir', 'adamgrp', 'med'): 'adamgrp-med-qos',\n",
       "  ('cmrramir', 'adamgrp', 'low'): 'adamgrp-low-qos',\n",
       "  ('couvreur', 'adamgrp', 'high2'): 'adamgrp-high2-qos',\n",
       "  ('couvreur', 'adamgrp', 'bml'): 'adamgrp-bml-qos',\n",
       "  ('couvreur', 'adamgrp', 'low2'): 'adamgrp-low2-qos',\n",
       "  ('couvreur', 'adamgrp', 'med2'): 'adamgrp-med2-qos',\n",
       "  ('couvreur', 'adamgrp', 'high'): 'adamgrp-high-qos',\n",
       "  ('couvreur', 'adamgrp', 'low'): 'adamgrp-low-qos',\n",
       "  ('couvreur', 'adamgrp', 'med'): 'adamgrp-med-qos',\n",
       "  ('crest845', 'adamgrp', 'high2'): 'adamgrp-high2-qos',\n",
       "  ('crest845', 'adamgrp', 'bml'): 'adamgrp-bml-qos',\n",
       "  ('crest845', 'adamgrp', 'low2'): 'adamgrp-low2-qos',\n",
       "  ('crest845', 'adamgrp', 'med2'): 'adamgrp-med2-qos',\n",
       "  ('crest845', 'adamgrp', 'high'): 'adamgrp-high-qos',\n",
       "  ('crest845', 'adamgrp', 'med'): 'adamgrp-med-qos',\n",
       "  ('crest845', 'adamgrp', 'low'): 'adamgrp-low-qos',\n",
       "  ('csomura', 'adamgrp', 'high2'): 'adamgrp-high2-qos',\n",
       "  ('csomura', 'adamgrp', 'bml'): 'adamgrp-bml-qos',\n",
       "  ('csomura', 'adamgrp', 'low2'): 'adamgrp-low2-qos',\n",
       "  ('csomura', 'adamgrp', 'med2'): 'adamgrp-med2-qos',\n",
       "  ('csomura', 'adamgrp', 'high'): 'adamgrp-high-qos',\n",
       "  ('csomura', 'adamgrp', 'med'): 'adamgrp-med-qos',\n",
       "  ('csomura', 'adamgrp', 'low'): 'adamgrp-low-qos',\n",
       "  ('cspicker', 'adamgrp', 'high2'): 'adamgrp-high2-qos',\n",
       "  ('cspicker', 'adamgrp', 'bml'): 'adamgrp-bml-qos',\n",
       "  ('cspicker', 'adamgrp', 'low2'): 'adamgrp-low2-qos',\n",
       "  ('cspicker', 'adamgrp', 'med2'): 'adamgrp-med2-qos',\n",
       "  ('cspicker', 'adamgrp', 'high'): 'adamgrp-high-qos',\n",
       "  ('cspicker', 'adamgrp', 'med'): 'adamgrp-med-qos',\n",
       "  ('cspicker', 'adamgrp', 'low'): 'adamgrp-low-qos',\n",
       "  ('ctbrown', 'adamgrp', 'high2'): 'adamgrp-high2-qos',\n",
       "  ('ctbrown', 'adamgrp', 'bml'): 'adamgrp-bml-qos',\n",
       "  ('ctbrown', 'adamgrp', 'low2'): 'adamgrp-low2-qos',\n",
       "  ('ctbrown', 'adamgrp', 'med2'): 'adamgrp-med2-qos',\n",
       "  ('ctbrown', 'adamgrp', 'high'): 'adamgrp-high-qos',\n",
       "  ('ctbrown', 'adamgrp', 'med'): 'adamgrp-med-qos',\n",
       "  ('ctbrown', 'adamgrp', 'low'): 'adamgrp-low-qos',\n",
       "  ('cveller', 'adamgrp', 'high2'): 'adamgrp-high2-qos',\n",
       "  ('cveller', 'adamgrp', 'bml'): 'adamgrp-bml-qos',\n",
       "  ('cveller', 'adamgrp', 'low2'): 'adamgrp-low2-qos',\n",
       "  ('cveller', 'adamgrp', 'med2'): 'adamgrp-med2-qos',\n",
       "  ('cveller', 'adamgrp', 'high'): 'adamgrp-high-qos',\n",
       "  ('cveller', 'adamgrp', 'med'): 'adamgrp-med-qos',\n",
       "  ('cveller', 'adamgrp', 'low'): 'adamgrp-low-qos',\n",
       "  ('cwmande', 'adamgrp', 'high2'): 'adamgrp-high2-qos',\n",
       "  ('cwmande', 'adamgrp', 'bml'): 'adamgrp-bml-qos',\n",
       "  ('cwmande', 'adamgrp', 'low2'): 'adamgrp-low2-qos',\n",
       "  ('cwmande', 'adamgrp', 'med2'): 'adamgrp-med2-qos',\n",
       "  ('cwmande', 'adamgrp', 'high'): 'adamgrp-high-qos',\n",
       "  ('cwmande', 'adamgrp', 'med'): 'adamgrp-med-qos',\n",
       "  ('cwmande', 'adamgrp', 'low'): 'adamgrp-low-qos',\n",
       "  ('cyswong', 'adamgrp', 'high2'): 'adamgrp-high2-qos',\n",
       "  ('cyswong', 'adamgrp', 'bml'): 'adamgrp-bml-qos',\n",
       "  ('cyswong', 'adamgrp', 'low2'): 'adamgrp-low2-qos',\n",
       "  ('cyswong', 'adamgrp', 'med2'): 'adamgrp-med2-qos',\n",
       "  ('cyswong', 'adamgrp', 'high'): 'adamgrp-high-qos',\n",
       "  ('cyswong', 'adamgrp', 'med'): 'adamgrp-med-qos',\n",
       "  ('cyswong', 'adamgrp', 'low'): 'adamgrp-low-qos',\n",
       "  ('dass', 'adamgrp', 'high2'): 'adamgrp-high2-qos',\n",
       "  ('dass', 'adamgrp', 'bml'): 'adamgrp-bml-qos',\n",
       "  ('dass', 'adamgrp', 'low2'): 'adamgrp-low2-qos',\n",
       "  ('dass', 'adamgrp', 'med2'): 'adamgrp-med2-qos',\n",
       "  ('dass', 'adamgrp', 'high'): 'adamgrp-high-qos',\n",
       "  ('dass', 'adamgrp', 'low'): 'adamgrp-low-qos',\n",
       "  ('dass', 'adamgrp', 'med'): 'adamgrp-med-qos',\n",
       "  ('dayang', 'adamgrp', 'high2'): 'adamgrp-high2-qos',\n",
       "  ('dayang', 'adamgrp', 'bml'): 'adamgrp-bml-qos',\n",
       "  ('dayang', 'adamgrp', 'low2'): 'adamgrp-low2-qos',\n",
       "  ('dayang', 'adamgrp', 'med2'): 'adamgrp-med2-qos',\n",
       "  ('dayang', 'adamgrp', 'high'): 'adamgrp-high-qos',\n",
       "  ('dayang', 'adamgrp', 'med'): 'adamgrp-med-qos',\n",
       "  ('dayang', 'adamgrp', 'low'): 'adamgrp-low-qos',\n",
       "  ('dbs4181', 'adamgrp', 'high2'): 'adamgrp-high2-qos',\n",
       "  ('dbs4181', 'adamgrp', 'bml'): 'adamgrp-bml-qos',\n",
       "  ('dbs4181', 'adamgrp', 'low2'): 'adamgrp-low2-qos',\n",
       "  ('dbs4181', 'adamgrp', 'med2'): 'adamgrp-med2-qos',\n",
       "  ('dbs4181', 'adamgrp', 'high'): 'adamgrp-high-qos',\n",
       "  ('dbs4181', 'adamgrp', 'low'): 'adamgrp-low-qos',\n",
       "  ('dbs4181', 'adamgrp', 'med'): 'adamgrp-med-qos',\n",
       "  ('dcs', 'adamgrp', 'high2'): 'adamgrp-high2-qos',\n",
       "  ('dcs', 'adamgrp', 'bml'): 'adamgrp-bml-qos',\n",
       "  ('dcs', 'adamgrp', 'low2'): 'adamgrp-low2-qos',\n",
       "  ('dcs', 'adamgrp', 'med2'): 'adamgrp-med2-qos',\n",
       "  ('dcs', 'adamgrp', 'low'): 'adamgrp-low-qos',\n",
       "  ('dcs', 'adamgrp', 'med'): 'adamgrp-med-qos',\n",
       "  ('dcs', 'adamgrp', 'high'): 'adamgrp-high-qos',\n",
       "  ('djskins', 'adamgrp', 'high2'): 'adamgrp-high2-qos',\n",
       "  ('djskins', 'adamgrp', 'bml'): 'adamgrp-bml-qos',\n",
       "  ('djskins', 'adamgrp', 'low2'): 'adamgrp-low2-qos',\n",
       "  ('djskins', 'adamgrp', 'med2'): 'adamgrp-med2-qos',\n",
       "  ('djskins', 'adamgrp', 'high'): 'adamgrp-high-qos',\n",
       "  ('djskins', 'adamgrp', 'med'): 'adamgrp-med-qos',\n",
       "  ('djskins', 'adamgrp', 'low'): 'adamgrp-low-qos',\n",
       "  ('dreineke', 'adamgrp', 'high2'): 'adamgrp-high2-qos',\n",
       "  ('dreineke', 'adamgrp', 'bml'): 'adamgrp-bml-qos',\n",
       "  ('dreineke', 'adamgrp', 'low2'): 'adamgrp-low2-qos',\n",
       "  ('dreineke', 'adamgrp', 'med2'): 'adamgrp-med2-qos',\n",
       "  ('dreineke', 'adamgrp', 'high'): 'adamgrp-high-qos',\n",
       "  ('dreineke', 'adamgrp', 'low'): 'adamgrp-low-qos',\n",
       "  ('dreineke', 'adamgrp', 'med'): 'adamgrp-med-qos',\n",
       "  ('dsteffen', 'adamgrp', 'med2'): 'adamgrp-med2-qos',\n",
       "  ('dsteffen', 'adamgrp', 'low2'): 'adamgrp-low2-qos',\n",
       "  ('dsteffen', 'adamgrp', 'high2'): 'adamgrp-high2-qos',\n",
       "  ('dsteffen', 'adamgrp', 'bml'): 'adamgrp-bml-qos',\n",
       "  ('dsteffen', 'adamgrp', 'high'): 'adamgrp-high-qos',\n",
       "  ('dsteffen', 'adamgrp', 'med'): 'adamgrp-med-qos',\n",
       "  ('dsteffen', 'adamgrp', 'low'): 'adamgrp-low-qos',\n",
       "  ('dynova', 'adamgrp', 'high2'): 'adamgrp-high2-qos',\n",
       "  ('dynova', 'adamgrp', 'bml'): 'adamgrp-bml-qos',\n",
       "  ('dynova', 'adamgrp', 'low2'): 'adamgrp-low2-qos',\n",
       "  ('dynova', 'adamgrp', 'med2'): 'adamgrp-med2-qos',\n",
       "  ('dynova', 'adamgrp', 'high'): 'adamgrp-high-qos',\n",
       "  ('dynova', 'adamgrp', 'med'): 'adamgrp-med-qos',\n",
       "  ('dynova', 'adamgrp', 'low'): 'adamgrp-low-qos',\n",
       "  ('eazepeda', 'adamgrp', 'high2'): 'adamgrp-high2-qos',\n",
       "  ('eazepeda', 'adamgrp', 'bml'): 'adamgrp-bml-qos',\n",
       "  ('eazepeda', 'adamgrp', 'low2'): 'adamgrp-low2-qos',\n",
       "  ('eazepeda', 'adamgrp', 'med2'): 'adamgrp-med2-qos',\n",
       "  ('eazepeda', 'adamgrp', 'high'): 'adamgrp-high-qos',\n",
       "  ('eazepeda', 'adamgrp', 'med'): 'adamgrp-med-qos',\n",
       "  ('eazepeda', 'adamgrp', 'low'): 'adamgrp-low-qos',\n",
       "  ('edumas', 'adamgrp', 'high2'): 'adamgrp-high2-qos',\n",
       "  ('edumas', 'adamgrp', 'bml'): 'adamgrp-bml-qos',\n",
       "  ('edumas', 'adamgrp', 'low2'): 'adamgrp-low2-qos',\n",
       "  ('edumas', 'adamgrp', 'med2'): 'adamgrp-med2-qos',\n",
       "  ('edumas', 'adamgrp', 'low'): 'adamgrp-low-qos',\n",
       "  ('edumas', 'adamgrp', 'med'): 'adamgrp-med-qos',\n",
       "  ('edumas', 'adamgrp', 'high'): 'adamgrp-high-qos',\n",
       "  ('edwardmw', 'adamgrp', 'bml'): 'adamgrp-bml-qos',\n",
       "  ('edwardmw', 'adamgrp', 'high2'): 'adamgrp-high2-qos',\n",
       "  ('edwardmw', 'adamgrp', 'med2'): 'adamgrp-med2-qos',\n",
       "  ('edwardmw', 'adamgrp', 'low2'): 'adamgrp-low2-qos',\n",
       "  ('edwardmw', 'adamgrp', 'high'): 'adamgrp-high-qos',\n",
       "  ('edwardmw', 'adamgrp', 'med'): 'adamgrp-med-qos',\n",
       "  ('edwardmw', 'adamgrp', 'low'): 'adamgrp-low-qos',\n",
       "  ('ehenry', 'adamgrp', 'high2'): 'adamgrp-high2-qos',\n",
       "  ('ehenry', 'adamgrp', 'bml'): 'adamgrp-bml-qos',\n",
       "  ('ehenry', 'adamgrp', 'low2'): 'adamgrp-low2-qos',\n",
       "  ('ehenry', 'adamgrp', 'med2'): 'adamgrp-med2-qos',\n",
       "  ('ehenry', 'adamgrp', 'high'): 'adamgrp-high-qos',\n",
       "  ('ehenry', 'adamgrp', 'med'): 'adamgrp-med-qos',\n",
       "  ('ehenry', 'adamgrp', 'low'): 'adamgrp-low-qos',\n",
       "  ('eleger', 'adamgrp', 'high2'): 'adamgrp-high2-qos',\n",
       "  ('eleger', 'adamgrp', 'bml'): 'adamgrp-bml-qos',\n",
       "  ('eleger', 'adamgrp', 'low2'): 'adamgrp-low2-qos',\n",
       "  ('eleger', 'adamgrp', 'med2'): 'adamgrp-med2-qos',\n",
       "  ('eleger', 'adamgrp', 'high'): 'adamgrp-high-qos',\n",
       "  ('eleger', 'adamgrp', 'med'): 'adamgrp-med-qos',\n",
       "  ('eleger', 'adamgrp', 'low'): 'adamgrp-low-qos',\n",
       "  ('eleonhar', 'adamgrp', 'high2'): 'adamgrp-high2-qos',\n",
       "  ('eleonhar', 'adamgrp', 'bml'): 'adamgrp-bml-qos',\n",
       "  ('eleonhar', 'adamgrp', 'low2'): 'adamgrp-low2-qos',\n",
       "  ('eleonhar', 'adamgrp', 'med2'): 'adamgrp-med2-qos',\n",
       "  ('eleonhar', 'adamgrp', 'high'): 'adamgrp-high-qos',\n",
       "  ('eleonhar', 'adamgrp', 'med'): 'adamgrp-med-qos',\n",
       "  ('eleonhar', 'adamgrp', 'low'): 'adamgrp-low-qos',\n",
       "  ('emarms', 'adamgrp', 'high2'): 'adamgrp-high2-qos',\n",
       "  ('emarms', 'adamgrp', 'bml'): 'adamgrp-bml-qos',\n",
       "  ('emarms', 'adamgrp', 'low2'): 'adamgrp-low2-qos',\n",
       "  ('emarms', 'adamgrp', 'med2'): 'adamgrp-med2-qos',\n",
       "  ('emarms', 'adamgrp', 'high'): 'adamgrp-high-qos',\n",
       "  ('emarms', 'adamgrp', 'med'): 'adamgrp-med-qos',\n",
       "  ('emarms', 'adamgrp', 'low'): 'adamgrp-low-qos',\n",
       "  ('enshipma', 'adamgrp', 'bml'): 'adamgrp-bml-qos',\n",
       "  ('enshipma', 'adamgrp', 'high2'): 'adamgrp-high2-qos',\n",
       "  ('enshipma', 'adamgrp', 'med2'): 'adamgrp-med2-qos',\n",
       "  ('enshipma', 'adamgrp', 'low2'): 'adamgrp-low2-qos',\n",
       "  ('enshipma', 'adamgrp', 'med'): 'adamgrp-med-qos',\n",
       "  ('enshipma', 'adamgrp', 'low'): 'adamgrp-low-qos',\n",
       "  ('enshipma', 'adamgrp', 'high'): 'adamgrp-high-qos',\n",
       "  ('epontike', 'adamgrp', 'high2'): 'adamgrp-high2-qos',\n",
       "  ('epontike', 'adamgrp', 'bml'): 'adamgrp-bml-qos',\n",
       "  ('epontike', 'adamgrp', 'low2'): 'adamgrp-low2-qos',\n",
       "  ('epontike', 'adamgrp', 'med2'): 'adamgrp-med2-qos',\n",
       "  ('epontike', 'adamgrp', 'high'): 'adamgrp-high-qos',\n",
       "  ('epontike', 'adamgrp', 'med'): 'adamgrp-med-qos',\n",
       "  ('epontike', 'adamgrp', 'low'): 'adamgrp-low-qos',\n",
       "  ('eruiz47', 'adamgrp', 'bml'): 'adamgrp-bml-qos',\n",
       "  ('eruiz47', 'adamgrp', 'high2'): 'adamgrp-high2-qos',\n",
       "  ('eruiz47', 'adamgrp', 'med2'): 'adamgrp-med2-qos',\n",
       "  ('eruiz47', 'adamgrp', 'low2'): 'adamgrp-low2-qos',\n",
       "  ('eruiz47', 'adamgrp', 'high'): 'adamgrp-high-qos',\n",
       "  ('eruiz47', 'adamgrp', 'med'): 'adamgrp-med-qos',\n",
       "  ('eruiz47', 'adamgrp', 'low'): 'adamgrp-low-qos',\n",
       "  ('feldmann', 'adamgrp', 'high2'): 'adamgrp-high2-qos',\n",
       "  ('feldmann', 'adamgrp', 'bml'): 'adamgrp-bml-qos',\n",
       "  ('feldmann', 'adamgrp', 'low2'): 'adamgrp-low2-qos',\n",
       "  ('feldmann', 'adamgrp', 'med2'): 'adamgrp-med2-qos',\n",
       "  ('feldmann', 'adamgrp', 'low'): 'adamgrp-low-qos',\n",
       "  ('feldmann', 'adamgrp', 'med'): 'adamgrp-med-qos',\n",
       "  ('feldmann', 'adamgrp', 'high'): 'adamgrp-high-qos',\n",
       "  ('ffogarty', 'adamgrp', 'high2'): 'adamgrp-high2-qos',\n",
       "  ('ffogarty', 'adamgrp', 'bml'): 'adamgrp-bml-qos',\n",
       "  ('ffogarty', 'adamgrp', 'low2'): 'adamgrp-low2-qos',\n",
       "  ('ffogarty', 'adamgrp', 'med2'): 'adamgrp-med2-qos',\n",
       "  ('ffogarty', 'adamgrp', 'high'): 'adamgrp-high-qos',\n",
       "  ('ffogarty', 'adamgrp', 'med'): 'adamgrp-med-qos',\n",
       "  ('ffogarty', 'adamgrp', 'low'): 'adamgrp-low-qos',\n",
       "  ('fmoore', 'adamgrp', 'high2'): 'adamgrp-high2-qos',\n",
       "  ('fmoore', 'adamgrp', 'bml'): 'adamgrp-bml-qos',\n",
       "  ('fmoore', 'adamgrp', 'low2'): 'adamgrp-low2-qos',\n",
       "  ('fmoore', 'adamgrp', 'med2'): 'adamgrp-med2-qos',\n",
       "  ('fmoore', 'adamgrp', 'low'): 'adamgrp-low-qos',\n",
       "  ('fmoore', 'adamgrp', 'med'): 'adamgrp-med-qos',\n",
       "  ('fmoore', 'adamgrp', 'high'): 'adamgrp-high-qos',\n",
       "  ('fpyang2', 'adamgrp', 'high2'): 'adamgrp-high2-qos',\n",
       "  ('fpyang2', 'adamgrp', 'bml'): 'adamgrp-bml-qos',\n",
       "  ('fpyang2', 'adamgrp', 'low2'): 'adamgrp-low2-qos',\n",
       "  ('fpyang2', 'adamgrp', 'med2'): 'adamgrp-med2-qos',\n",
       "  ('fpyang2', 'adamgrp', 'high'): 'adamgrp-high-qos',\n",
       "  ('fpyang2', 'adamgrp', 'med'): 'adamgrp-med-qos',\n",
       "  ('fpyang2', 'adamgrp', 'low'): 'adamgrp-low-qos',\n",
       "  ('fresnedo', 'adamgrp', 'high2'): 'adamgrp-high2-qos',\n",
       "  ('fresnedo', 'adamgrp', 'bml'): 'adamgrp-bml-qos',\n",
       "  ('fresnedo', 'adamgrp', 'low2'): 'adamgrp-low2-qos',\n",
       "  ('fresnedo', 'adamgrp', 'med2'): 'adamgrp-med2-qos',\n",
       "  ('fresnedo', 'adamgrp', 'high'): 'adamgrp-high-qos',\n",
       "  ('fresnedo', 'adamgrp', 'low'): 'adamgrp-low-qos',\n",
       "  ('fresnedo', 'adamgrp', 'med'): 'adamgrp-med-qos',\n",
       "  ('fzdkelt', 'adamgrp', 'high2'): 'adamgrp-high2-qos',\n",
       "  ('fzdkelt', 'adamgrp', 'bml'): 'adamgrp-bml-qos',\n",
       "  ('fzdkelt', 'adamgrp', 'low2'): 'adamgrp-low2-qos',\n",
       "  ('fzdkelt', 'adamgrp', 'med2'): 'adamgrp-med2-qos',\n",
       "  ('fzdkelt', 'adamgrp', 'high'): 'adamgrp-high-qos',\n",
       "  ('fzdkelt', 'adamgrp', 'med'): 'adamgrp-med-qos',\n",
       "  ('fzdkelt', 'adamgrp', 'low'): 'adamgrp-low-qos',\n",
       "  ('fzguarni', 'adamgrp', 'high2'): 'adamgrp-high2-qos',\n",
       "  ('fzguarni', 'adamgrp', 'bml'): 'adamgrp-bml-qos',\n",
       "  ('fzguarni', 'adamgrp', 'low2'): 'adamgrp-low2-qos',\n",
       "  ('fzguarni', 'adamgrp', 'med2'): 'adamgrp-med2-qos',\n",
       "  ('fzguarni', 'adamgrp', 'high'): 'adamgrp-high-qos',\n",
       "  ('fzguarni', 'adamgrp', 'low'): 'adamgrp-low-qos',\n",
       "  ('fzguarni', 'adamgrp', 'med'): 'adamgrp-med-qos',\n",
       "  ('fzjenkin', 'adamgrp', 'high2'): 'adamgrp-high2-qos',\n",
       "  ('fzjenkin', 'adamgrp', 'bml'): 'adamgrp-bml-qos',\n",
       "  ('fzjenkin', 'adamgrp', 'low2'): 'adamgrp-low2-qos',\n",
       "  ('fzjenkin', 'adamgrp', 'med2'): 'adamgrp-med2-qos',\n",
       "  ('fzjenkin', 'adamgrp', 'high'): 'adamgrp-high-qos',\n",
       "  ('fzjenkin', 'adamgrp', 'med'): 'adamgrp-med-qos',\n",
       "  ('fzjenkin', 'adamgrp', 'low'): 'adamgrp-low-qos',\n",
       "  ('gcx0413', 'adamgrp', 'med2'): 'adamgrp-med2-qos',\n",
       "  ('gcx0413', 'adamgrp', 'low2'): 'adamgrp-low2-qos',\n",
       "  ('gcx0413', 'adamgrp', 'high2'): 'adamgrp-high2-qos',\n",
       "  ('gcx0413', 'adamgrp', 'bml'): 'adamgrp-bml-qos',\n",
       "  ('gcx0413', 'adamgrp', 'high'): 'adamgrp-high-qos',\n",
       "  ('gcx0413', 'adamgrp', 'med'): 'adamgrp-med-qos',\n",
       "  ('gcx0413', 'adamgrp', 'low'): 'adamgrp-low-qos',\n",
       "  ('gdarena', 'adamgrp', 'high2'): 'adamgrp-high2-qos',\n",
       "  ('gdarena', 'adamgrp', 'bml'): 'adamgrp-bml-qos',\n",
       "  ('gdarena', 'adamgrp', 'low2'): 'adamgrp-low2-qos',\n",
       "  ('gdarena', 'adamgrp', 'med2'): 'adamgrp-med2-qos',\n",
       "  ('gdarena', 'adamgrp', 'low'): 'adamgrp-low-qos',\n",
       "  ('gdarena', 'adamgrp', 'med'): 'adamgrp-med-qos',\n",
       "  ('gdarena', 'adamgrp', 'high'): 'adamgrp-high-qos',\n",
       "  ('ghasemme', 'adamgrp', 'high2'): 'adamgrp-high2-qos',\n",
       "  ('ghasemme', 'adamgrp', 'bml'): 'adamgrp-bml-qos',\n",
       "  ('ghasemme', 'adamgrp', 'low2'): 'adamgrp-low2-qos',\n",
       "  ('ghasemme', 'adamgrp', 'med2'): 'adamgrp-med2-qos',\n",
       "  ('ghasemme', 'adamgrp', 'high'): 'adamgrp-high-qos',\n",
       "  ('ghasemme', 'adamgrp', 'low'): 'adamgrp-low-qos',\n",
       "  ('ghasemme', 'adamgrp', 'med'): 'adamgrp-med-qos',\n",
       "  ('ginnie', 'adamgrp', 'med2'): 'adamgrp-med2-qos',\n",
       "  ('ginnie', 'adamgrp', 'med'): 'adamgrp-med-qos',\n",
       "  ('ginnie', 'adamgrp', 'low2'): 'adamgrp-low2-qos',\n",
       "  ('ginnie', 'adamgrp', 'low'): 'adamgrp-low-qos',\n",
       "  ('ginnie', 'adamgrp', 'high2'): 'adamgrp-high2-qos',\n",
       "  ('ginnie', 'adamgrp', 'bml'): 'adamgrp-bml-qos',\n",
       "  ('ginnie', 'adamgrp', 'high'): 'adamgrp-high-qos',\n",
       "  ('giorgk', 'adamgrp', 'med2'): 'adamgrp-med2-qos',\n",
       "  ('giorgk', 'adamgrp', 'low2'): 'adamgrp-low2-qos',\n",
       "  ('giorgk', 'adamgrp', 'high2'): 'adamgrp-high2-qos',\n",
       "  ('giorgk', 'adamgrp', 'bml'): 'adamgrp-bml-qos',\n",
       "  ('giorgk', 'adamgrp', 'high'): 'adamgrp-high-qos',\n",
       "  ('giorgk', 'adamgrp', 'med'): 'adamgrp-med-qos',\n",
       "  ('giorgk', 'adamgrp', 'low'): 'adamgrp-low-qos',\n",
       "  ('gitanshu', 'adamgrp', 'high2'): 'adamgrp-high2-qos',\n",
       "  ('gitanshu', 'adamgrp', 'bml'): 'adamgrp-bml-qos',\n",
       "  ('gitanshu', 'adamgrp', 'low2'): 'adamgrp-low2-qos',\n",
       "  ('gitanshu', 'adamgrp', 'med2'): 'adamgrp-med2-qos',\n",
       "  ('gitanshu', 'adamgrp', 'high'): 'adamgrp-high-qos',\n",
       "  ('gitanshu', 'adamgrp', 'low'): 'adamgrp-low-qos',\n",
       "  ('gitanshu', 'adamgrp', 'med'): 'adamgrp-med-qos',\n",
       "  ('giubrune', 'adamgrp', 'high2'): 'adamgrp-high2-qos',\n",
       "  ('giubrune', 'adamgrp', 'bml'): 'adamgrp-bml-qos',\n",
       "  ('giubrune', 'adamgrp', 'low2'): 'adamgrp-low2-qos',\n",
       "  ('giubrune', 'adamgrp', 'med2'): 'adamgrp-med2-qos',\n",
       "  ('giubrune', 'adamgrp', 'low'): 'adamgrp-low-qos',\n",
       "  ('giubrune', 'adamgrp', 'med'): 'adamgrp-med-qos',\n",
       "  ('giubrune', 'adamgrp', 'high'): 'adamgrp-high-qos',\n",
       "  ('gmcoop', 'adamgrp', 'high2'): 'adamgrp-high2-qos',\n",
       "  ('gmcoop', 'adamgrp', 'bml'): 'adamgrp-bml-qos',\n",
       "  ('gmcoop', 'adamgrp', 'low2'): 'adamgrp-low2-qos',\n",
       "  ('gmcoop', 'adamgrp', 'med2'): 'adamgrp-med2-qos',\n",
       "  ('gmcoop', 'adamgrp', 'high'): 'adamgrp-high-qos',\n",
       "  ('gmcoop', 'adamgrp', 'med'): 'adamgrp-med-qos',\n",
       "  ('gmcoop', 'adamgrp', 'low'): 'adamgrp-low-qos',\n",
       "  ('gmhorne', 'adamgrp', 'bml'): 'adamgrp-bml-qos',\n",
       "  ('gmhorne', 'adamgrp', 'high2'): 'adamgrp-high2-qos',\n",
       "  ('gmhorne', 'adamgrp', 'med2'): 'adamgrp-med2-qos',\n",
       "  ('gmhorne', 'adamgrp', 'low2'): 'adamgrp-low2-qos',\n",
       "  ('gmhorne', 'adamgrp', 'high'): 'adamgrp-high-qos',\n",
       "  ('gmhorne', 'adamgrp', 'med'): 'adamgrp-med-qos',\n",
       "  ('gmhorne', 'adamgrp', 'low'): 'adamgrp-low-qos',\n",
       "  ('gmonroe', 'adamgrp', 'high2'): 'adamgrp-high2-qos',\n",
       "  ('gmonroe', 'adamgrp', 'bml'): 'adamgrp-bml-qos',\n",
       "  ('gmonroe', 'adamgrp', 'low2'): 'adamgrp-low2-qos',\n",
       "  ('gmonroe', 'adamgrp', 'med2'): 'adamgrp-med2-qos',\n",
       "  ('gmonroe', 'adamgrp', 'high'): 'adamgrp-high-qos',\n",
       "  ('gmonroe', 'adamgrp', 'med'): 'adamgrp-med-qos',\n",
       "  ('gmonroe', 'adamgrp', 'low'): 'adamgrp-low-qos',\n",
       "  ('gmschmid', 'adamgrp', 'high2'): 'adamgrp-high2-qos',\n",
       "  ('gmschmid', 'adamgrp', 'bml'): 'adamgrp-bml-qos',\n",
       "  ('gmschmid', 'adamgrp', 'low2'): 'adamgrp-low2-qos',\n",
       "  ('gmschmid', 'adamgrp', 'med2'): 'adamgrp-med2-qos',\n",
       "  ('gmschmid', 'adamgrp', 'high'): 'adamgrp-high-qos',\n",
       "  ('gmschmid', 'adamgrp', 'med'): 'adamgrp-med-qos',\n",
       "  ('gmschmid', 'adamgrp', 'low'): 'adamgrp-low-qos',\n",
       "  ('gtkwan', 'adamgrp', 'med2'): 'adamgrp-med2-qos',\n",
       "  ('gtkwan', 'adamgrp', 'low2'): 'adamgrp-low2-qos',\n",
       "  ('gtkwan', 'adamgrp', 'high2'): 'adamgrp-high2-qos',\n",
       "  ('gtkwan', 'adamgrp', 'bml'): 'adamgrp-bml-qos',\n",
       "  ('gtkwan', 'adamgrp', 'high'): 'adamgrp-high-qos',\n",
       "  ('gtkwan', 'adamgrp', 'med'): 'adamgrp-med-qos',\n",
       "  ('gtkwan', 'adamgrp', 'low'): 'adamgrp-low-qos',\n",
       "  ('guatemal', 'adamgrp', 'high2'): 'adamgrp-high2-qos',\n",
       "  ('guatemal', 'adamgrp', 'bml'): 'adamgrp-bml-qos',\n",
       "  ('guatemal', 'adamgrp', 'low2'): 'adamgrp-low2-qos',\n",
       "  ('guatemal', 'adamgrp', 'med2'): 'adamgrp-med2-qos',\n",
       "  ('guatemal', 'adamgrp', 'high'): 'adamgrp-high-qos',\n",
       "  ('guatemal', 'adamgrp', 'med'): 'adamgrp-med-qos',\n",
       "  ('guatemal', 'adamgrp', 'low'): 'adamgrp-low-qos',\n",
       "  ('hardiga3', 'adamgrp', 'high2'): 'adamgrp-high2-qos',\n",
       "  ('hardiga3', 'adamgrp', 'bml'): 'adamgrp-bml-qos',\n",
       "  ('hardiga3', 'adamgrp', 'low2'): 'adamgrp-low2-qos',\n",
       "  ('hardiga3', 'adamgrp', 'med2'): 'adamgrp-med2-qos',\n",
       "  ('hardiga3', 'adamgrp', 'low'): 'adamgrp-low-qos',\n",
       "  ('hardiga3', 'adamgrp', 'med'): 'adamgrp-med-qos',\n",
       "  ('hardiga3', 'adamgrp', 'high'): 'adamgrp-high-qos',\n",
       "  ('hjkkim', 'adamgrp', 'high2'): 'adamgrp-high2-qos',\n",
       "  ('hjkkim', 'adamgrp', 'bml'): 'adamgrp-bml-qos',\n",
       "  ('hjkkim', 'adamgrp', 'low2'): 'adamgrp-low2-qos',\n",
       "  ('hjkkim', 'adamgrp', 'med2'): 'adamgrp-med2-qos',\n",
       "  ('hjkkim', 'adamgrp', 'low'): 'adamgrp-low-qos',\n",
       "  ('hjkkim', 'adamgrp', 'med'): 'adamgrp-med-qos',\n",
       "  ('hjkkim', 'adamgrp', 'high'): 'adamgrp-high-qos',\n",
       "  ('holstege', 'adamgrp', 'high2'): 'adamgrp-high2-qos',\n",
       "  ('holstege', 'adamgrp', 'bml'): 'adamgrp-bml-qos',\n",
       "  ('holstege', 'adamgrp', 'low2'): 'adamgrp-low2-qos',\n",
       "  ('holstege', 'adamgrp', 'med2'): 'adamgrp-med2-qos',\n",
       "  ('holstege', 'adamgrp', 'high'): 'adamgrp-high-qos',\n",
       "  ('holstege', 'adamgrp', 'med'): 'adamgrp-med-qos',\n",
       "  ('holstege', 'adamgrp', 'low'): 'adamgrp-low-qos',\n",
       "  ('hrjones', 'adamgrp', 'med2'): 'adamgrp-med2-qos',\n",
       "  ('hrjones', 'adamgrp', 'low2'): 'adamgrp-low2-qos',\n",
       "  ('hrjones', 'adamgrp', 'high2'): 'adamgrp-high2-qos',\n",
       "  ('hrjones', 'adamgrp', 'bml'): 'adamgrp-bml-qos',\n",
       "  ('hrjones', 'adamgrp', 'high'): 'adamgrp-high-qos',\n",
       "  ('hrjones', 'adamgrp', 'med'): 'adamgrp-med-qos',\n",
       "  ('hrjones', 'adamgrp', 'low'): 'adamgrp-low-qos',\n",
       "  ('huangyh', 'adamgrp', 'high2'): 'adamgrp-high2-qos',\n",
       "  ('huangyh', 'adamgrp', 'bml'): 'adamgrp-bml-qos',\n",
       "  ('huangyh', 'adamgrp', 'low2'): 'adamgrp-low2-qos',\n",
       "  ('huangyh', 'adamgrp', 'med2'): 'adamgrp-med2-qos',\n",
       "  ('huangyh', 'adamgrp', 'high'): 'adamgrp-high-qos',\n",
       "  ('huangyh', 'adamgrp', 'med'): 'adamgrp-med-qos',\n",
       "  ('huangyh', 'adamgrp', 'low'): 'adamgrp-low-qos',\n",
       "  ('imtiyaz', 'adamgrp', 'high2'): 'adamgrp-high2-qos',\n",
       "  ('imtiyaz', 'adamgrp', 'bml'): 'adamgrp-bml-qos',\n",
       "  ('imtiyaz', 'adamgrp', 'low2'): 'adamgrp-low2-qos',\n",
       "  ('imtiyaz', 'adamgrp', 'med2'): 'adamgrp-med2-qos',\n",
       "  ('imtiyaz', 'adamgrp', 'high'): 'adamgrp-high-qos',\n",
       "  ('imtiyaz', 'adamgrp', 'med'): 'adamgrp-med-qos',\n",
       "  ('imtiyaz', 'adamgrp', 'low'): 'adamgrp-low-qos',\n",
       "  ('ingridy', 'adamgrp', 'high2'): 'adamgrp-high2-qos',\n",
       "  ('ingridy', 'adamgrp', 'bml'): 'adamgrp-bml-qos',\n",
       "  ('ingridy', 'adamgrp', 'low2'): 'adamgrp-low2-qos',\n",
       "  ('ingridy', 'adamgrp', 'med2'): 'adamgrp-med2-qos',\n",
       "  ('ingridy', 'adamgrp', 'high'): 'adamgrp-high-qos',\n",
       "  ('ingridy', 'adamgrp', 'low'): 'adamgrp-low-qos',\n",
       "  ('ingridy', 'adamgrp', 'med'): 'adamgrp-med-qos',\n",
       "  ('iraij', 'adamgrp', 'high2'): 'adamgrp-high2-qos',\n",
       "  ('iraij', 'adamgrp', 'bml'): 'adamgrp-bml-qos',\n",
       "  ('iraij', 'adamgrp', 'low2'): 'adamgrp-low2-qos',\n",
       "  ('iraij', 'adamgrp', 'med2'): 'adamgrp-med2-qos',\n",
       "  ('iraij', 'adamgrp', 'high'): 'adamgrp-high-qos',\n",
       "  ('iraij', 'adamgrp', 'med'): 'adamgrp-med-qos',\n",
       "  ('iraij', 'adamgrp', 'low'): 'adamgrp-low-qos',\n",
       "  ('irber', 'adamgrp', 'high2'): 'adamgrp-high2-qos',\n",
       "  ('irber', 'adamgrp', 'bml'): 'adamgrp-bml-qos',\n",
       "  ('irber', 'adamgrp', 'low2'): 'adamgrp-low2-qos',\n",
       "  ('irber', 'adamgrp', 'med2'): 'adamgrp-med2-qos',\n",
       "  ('irber', 'adamgrp', 'low'): 'adamgrp-low-qos',\n",
       "  ('irber', 'adamgrp', 'med'): 'adamgrp-med-qos',\n",
       "  ('irber', 'adamgrp', 'high'): 'adamgrp-high-qos',\n",
       "  ('irsitepu', 'adamgrp', 'high2'): 'adamgrp-high2-qos',\n",
       "  ('irsitepu', 'adamgrp', 'bml'): 'adamgrp-bml-qos',\n",
       "  ('irsitepu', 'adamgrp', 'low2'): 'adamgrp-low2-qos',\n",
       "  ('irsitepu', 'adamgrp', 'med2'): 'adamgrp-med2-qos',\n",
       "  ('irsitepu', 'adamgrp', 'low'): 'adamgrp-low-qos',\n",
       "  ('irsitepu', 'adamgrp', 'med'): 'adamgrp-med-qos',\n",
       "  ('irsitepu', 'adamgrp', 'high'): 'adamgrp-high-qos',\n",
       "  ('irwright', 'adamgrp', 'med2'): 'adamgrp-med2-qos',\n",
       "  ('irwright', 'adamgrp', 'low2'): 'adamgrp-low2-qos',\n",
       "  ('irwright', 'adamgrp', 'high2'): 'adamgrp-high2-qos',\n",
       "  ('irwright', 'adamgrp', 'bml'): 'adamgrp-bml-qos',\n",
       "  ('irwright', 'adamgrp', 'high'): 'adamgrp-high-qos',\n",
       "  ('irwright', 'adamgrp', 'med'): 'adamgrp-med-qos',\n",
       "  ('irwright', 'adamgrp', 'low'): 'adamgrp-low-qos',\n",
       "  ('isjilu21', 'adamgrp', 'high2'): 'adamgrp-high2-qos',\n",
       "  ('isjilu21', 'adamgrp', 'bml'): 'adamgrp-bml-qos',\n",
       "  ('isjilu21', 'adamgrp', 'low2'): 'adamgrp-low2-qos',\n",
       "  ('isjilu21', 'adamgrp', 'med2'): 'adamgrp-med2-qos',\n",
       "  ('isjilu21', 'adamgrp', 'high'): 'adamgrp-high-qos',\n",
       "  ('isjilu21', 'adamgrp', 'med'): 'adamgrp-med-qos',\n",
       "  ('isjilu21', 'adamgrp', 'low'): 'adamgrp-low-qos',\n",
       "  ('ithompso', 'adamgrp', 'high2'): 'adamgrp-high2-qos',\n",
       "  ('ithompso', 'adamgrp', 'bml'): 'adamgrp-bml-qos',\n",
       "  ('ithompso', 'adamgrp', 'low2'): 'adamgrp-low2-qos',\n",
       "  ('ithompso', 'adamgrp', 'med2'): 'adamgrp-med2-qos',\n",
       "  ('ithompso', 'adamgrp', 'low'): 'adamgrp-low-qos',\n",
       "  ('ithompso', 'adamgrp', 'med'): 'adamgrp-med-qos',\n",
       "  ('ithompso', 'adamgrp', 'high'): 'adamgrp-high-qos',\n",
       "  ('ivan0909', 'adamgrp', 'high2'): 'adamgrp-high2-qos',\n",
       "  ('ivan0909', 'adamgrp', 'bml'): 'adamgrp-bml-qos',\n",
       "  ('ivan0909', 'adamgrp', 'low2'): 'adamgrp-low2-qos',\n",
       "  ('ivan0909', 'adamgrp', 'med2'): 'adamgrp-med2-qos',\n",
       "  ('ivan0909', 'adamgrp', 'low'): 'adamgrp-low-qos',\n",
       "  ('ivan0909', 'adamgrp', 'med'): 'adamgrp-med-qos',\n",
       "  ('ivan0909', 'adamgrp', 'high'): 'adamgrp-high-qos',\n",
       "  ('jaletts', 'adamgrp', 'high2'): 'adamgrp-high2-qos',\n",
       "  ('jaletts', 'adamgrp', 'bml'): 'adamgrp-bml-qos',\n",
       "  ('jaletts', 'adamgrp', 'low2'): 'adamgrp-low2-qos',\n",
       "  ('jaletts', 'adamgrp', 'med2'): 'adamgrp-med2-qos',\n",
       "  ('jaletts', 'adamgrp', 'high'): 'adamgrp-high-qos',\n",
       "  ('jaletts', 'adamgrp', 'med'): 'adamgrp-med-qos',\n",
       "  ('jaletts', 'adamgrp', 'low'): 'adamgrp-low-qos',\n",
       "  ('jawdat', 'adamgrp', 'med2'): 'adamgrp-med2-qos',\n",
       "  ('jawdat', 'adamgrp', 'low2'): 'adamgrp-low2-qos',\n",
       "  ('jawdat', 'adamgrp', 'high2'): 'adamgrp-high2-qos',\n",
       "  ('jawdat', 'adamgrp', 'high'): 'adamgrp-high-qos',\n",
       "  ('jawdat', 'adamgrp', 'bml'): 'adamgrp-bml-qos',\n",
       "  ('jawdat', 'adamgrp', 'med'): 'adamgrp-med-qos',\n",
       "  ('jawdat', 'adamgrp', 'low'): 'adamgrp-low-qos',\n",
       "  ('jbemerso', 'adamgrp', 'high2'): 'adamgrp-high2-qos',\n",
       "  ('jbemerso', 'adamgrp', 'bml'): 'adamgrp-bml-qos',\n",
       "  ('jbemerso', 'adamgrp', 'low2'): 'adamgrp-low2-qos',\n",
       "  ('jbemerso', 'adamgrp', 'med2'): 'adamgrp-med2-qos',\n",
       "  ('jbemerso', 'adamgrp', 'low'): 'adamgrp-low-qos',\n",
       "  ('jbemerso', 'adamgrp', 'med'): 'adamgrp-med-qos',\n",
       "  ('jbemerso', 'adamgrp', 'high'): 'adamgrp-high-qos',\n",
       "  ('jcbacha', 'adamgrp', 'high2'): 'adamgrp-high2-qos',\n",
       "  ('jcbacha', 'adamgrp', 'bml'): 'adamgrp-bml-qos',\n",
       "  ('jcbacha', 'adamgrp', 'low2'): 'adamgrp-low2-qos',\n",
       "  ('jcbacha', 'adamgrp', 'med2'): 'adamgrp-med2-qos',\n",
       "  ('jcbacha', 'adamgrp', 'high'): 'adamgrp-high-qos',\n",
       "  ('jcbacha', 'adamgrp', 'med'): 'adamgrp-med-qos',\n",
       "  ('jcbacha', 'adamgrp', 'low'): 'adamgrp-low-qos',\n",
       "  ('jcberny', 'adamgrp', 'high2'): 'adamgrp-high2-qos',\n",
       "  ('jcberny', 'adamgrp', 'bml'): 'adamgrp-bml-qos',\n",
       "  ('jcberny', 'adamgrp', 'low2'): 'adamgrp-low2-qos',\n",
       "  ('jcberny', 'adamgrp', 'med2'): 'adamgrp-med2-qos',\n",
       "  ('jcberny', 'adamgrp', 'low'): 'adamgrp-low-qos',\n",
       "  ('jcberny', 'adamgrp', 'med'): 'adamgrp-med-qos',\n",
       "  ('jcberny', 'adamgrp', 'high'): 'adamgrp-high-qos',\n",
       "  ('jcnigg', 'adamgrp', 'high2'): 'adamgrp-high2-qos',\n",
       "  ('jcnigg', 'adamgrp', 'bml'): 'adamgrp-bml-qos',\n",
       "  ('jcnigg', 'adamgrp', 'low2'): 'adamgrp-low2-qos',\n",
       "  ('jcnigg', 'adamgrp', 'med2'): 'adamgrp-med2-qos',\n",
       "  ('jcnigg', 'adamgrp', 'low'): 'adamgrp-low-qos',\n",
       "  ('jcnigg', 'adamgrp', 'med'): 'adamgrp-med-qos',\n",
       "  ('jcnigg', 'adamgrp', 'high'): 'adamgrp-high-qos',\n",
       "  ('jdelfini', 'adamgrp', 'high2'): 'adamgrp-high2-qos',\n",
       "  ('jdelfini', 'adamgrp', 'bml'): 'adamgrp-bml-qos',\n",
       "  ('jdelfini', 'adamgrp', 'low2'): 'adamgrp-low2-qos',\n",
       "  ('jdelfini', 'adamgrp', 'med2'): 'adamgrp-med2-qos',\n",
       "  ('jdelfini', 'adamgrp', 'high'): 'adamgrp-high-qos',\n",
       "  ('jdelfini', 'adamgrp', 'med'): 'adamgrp-med-qos',\n",
       "  ('jdelfini', 'adamgrp', 'low'): 'adamgrp-low-qos',\n",
       "  ('jdowell', 'adamgrp', 'high2'): 'adamgrp-high2-qos',\n",
       "  ('jdowell', 'adamgrp', 'bml'): 'adamgrp-bml-qos',\n",
       "  ('jdowell', 'adamgrp', 'low2'): 'adamgrp-low2-qos',\n",
       "  ('jdowell', 'adamgrp', 'med2'): 'adamgrp-med2-qos',\n",
       "  ('jdowell', 'adamgrp', 'high'): 'adamgrp-high-qos',\n",
       "  ('jdowell', 'adamgrp', 'med'): 'adamgrp-med-qos',\n",
       "  ('jdowell', 'adamgrp', 'low'): 'adamgrp-low-qos',\n",
       "  ('jdwest94', 'adamgrp', 'high2'): 'adamgrp-high2-qos',\n",
       "  ('jdwest94', 'adamgrp', 'bml'): 'adamgrp-bml-qos',\n",
       "  ('jdwest94', 'adamgrp', 'low2'): 'adamgrp-low2-qos',\n",
       "  ('jdwest94', 'adamgrp', 'med2'): 'adamgrp-med2-qos',\n",
       "  ('jdwest94', 'adamgrp', 'high'): 'adamgrp-high-qos',\n",
       "  ('jdwest94', 'adamgrp', 'med'): 'adamgrp-med-qos',\n",
       "  ('jdwest94', 'adamgrp', 'low'): 'adamgrp-low-qos',\n",
       "  ('jdyuzon', 'adamgrp', 'high2'): 'adamgrp-high2-qos',\n",
       "  ('jdyuzon', 'adamgrp', 'bml'): 'adamgrp-bml-qos',\n",
       "  ('jdyuzon', 'adamgrp', 'low2'): 'adamgrp-low2-qos',\n",
       "  ('jdyuzon', 'adamgrp', 'med2'): 'adamgrp-med2-qos',\n",
       "  ('jdyuzon', 'adamgrp', 'high'): 'adamgrp-high-qos',\n",
       "  ('jdyuzon', 'adamgrp', 'low'): 'adamgrp-low-qos',\n",
       "  ('jdyuzon', 'adamgrp', 'med'): 'adamgrp-med-qos',\n",
       "  ('jes12010', 'adamgrp', 'high2'): 'adamgrp-high2-qos',\n",
       "  ('jes12010', 'adamgrp', 'bml'): 'adamgrp-bml-qos',\n",
       "  ('jes12010', 'adamgrp', 'low2'): 'adamgrp-low2-qos',\n",
       "  ('jes12010', 'adamgrp', 'med2'): 'adamgrp-med2-qos',\n",
       "  ('jes12010', 'adamgrp', 'low'): 'adamgrp-low-qos',\n",
       "  ('jes12010', 'adamgrp', 'med'): 'adamgrp-med-qos',\n",
       "  ('jes12010', 'adamgrp', 'high'): 'adamgrp-high-qos',\n",
       "  ('jessieau', 'adamgrp', 'high2'): 'adamgrp-high2-qos',\n",
       "  ('jessieau', 'adamgrp', 'bml'): 'adamgrp-bml-qos',\n",
       "  ('jessieau', 'adamgrp', 'low2'): 'adamgrp-low2-qos',\n",
       "  ('jessieau', 'adamgrp', 'med2'): 'adamgrp-med2-qos',\n",
       "  ('jessieau', 'adamgrp', 'high'): 'adamgrp-high-qos',\n",
       "  ('jessieau', 'adamgrp', 'med'): 'adamgrp-med-qos',\n",
       "  ('jessieau', 'adamgrp', 'low'): 'adamgrp-low-qos',\n",
       "  ('jiezhu', 'adamgrp', 'high2'): 'adamgrp-high2-qos',\n",
       "  ('jiezhu', 'adamgrp', 'bml'): 'adamgrp-bml-qos',\n",
       "  ('jiezhu', 'adamgrp', 'low2'): 'adamgrp-low2-qos',\n",
       "  ('jiezhu', 'adamgrp', 'med2'): 'adamgrp-med2-qos',\n",
       "  ('jiezhu', 'adamgrp', 'high'): 'adamgrp-high-qos',\n",
       "  ('jiezhu', 'adamgrp', 'med'): 'adamgrp-med-qos',\n",
       "  ('jiezhu', 'adamgrp', 'low'): 'adamgrp-low-qos',\n",
       "  ('jinzhang', 'adamgrp', 'high2'): 'adamgrp-high2-qos',\n",
       "  ('jinzhang', 'adamgrp', 'bml'): 'adamgrp-bml-qos',\n",
       "  ('jinzhang', 'adamgrp', 'low2'): 'adamgrp-low2-qos',\n",
       "  ('jinzhang', 'adamgrp', 'med2'): 'adamgrp-med2-qos',\n",
       "  ('jinzhang', 'adamgrp', 'high'): 'adamgrp-high-qos',\n",
       "  ('jinzhang', 'adamgrp', 'med'): 'adamgrp-med-qos',\n",
       "  ('jinzhang', 'adamgrp', 'low'): 'adamgrp-low-qos',\n",
       "  ('jmearles', 'adamgrp', 'high2'): 'adamgrp-high2-qos',\n",
       "  ('jmearles', 'adamgrp', 'bml'): 'adamgrp-bml-qos',\n",
       "  ('jmearles', 'adamgrp', 'low2'): 'adamgrp-low2-qos',\n",
       "  ('jmearles', 'adamgrp', 'med2'): 'adamgrp-med2-qos',\n",
       "  ('jmearles', 'adamgrp', 'high'): 'adamgrp-high-qos',\n",
       "  ('jmearles', 'adamgrp', 'med'): 'adamgrp-med-qos',\n",
       "  ('jmearles', 'adamgrp', 'low'): 'adamgrp-low-qos',\n",
       "  ('jnhall', 'adamgrp', 'high2'): 'adamgrp-high2-qos',\n",
       "  ('jnhall', 'adamgrp', 'bml'): 'adamgrp-bml-qos',\n",
       "  ('jnhall', 'adamgrp', 'low2'): 'adamgrp-low2-qos',\n",
       "  ('jnhall', 'adamgrp', 'med2'): 'adamgrp-med2-qos',\n",
       "  ('jnhall', 'adamgrp', 'low'): 'adamgrp-low-qos',\n",
       "  ('jnhall', 'adamgrp', 'med'): 'adamgrp-med-qos',\n",
       "  ('jnhall', 'adamgrp', 'high'): 'adamgrp-high-qos',\n",
       "  ('jnill', 'adamgrp', 'high2'): 'adamgrp-high2-qos',\n",
       "  ('jnill', 'adamgrp', 'bml'): 'adamgrp-bml-qos',\n",
       "  ('jnill', 'adamgrp', 'low2'): 'adamgrp-low2-qos',\n",
       "  ('jnill', 'adamgrp', 'med2'): 'adamgrp-med2-qos',\n",
       "  ('jnill', 'adamgrp', 'high'): 'adamgrp-high-qos',\n",
       "  ('jnill', 'adamgrp', 'low'): 'adamgrp-low-qos',\n",
       "  ('jnill', 'adamgrp', 'med'): 'adamgrp-med-qos',\n",
       "  ('jody0806', 'adamgrp', 'high2'): 'adamgrp-high2-qos',\n",
       "  ('jody0806', 'adamgrp', 'bml'): 'adamgrp-bml-qos',\n",
       "  ('jody0806', 'adamgrp', 'low2'): 'adamgrp-low2-qos',\n",
       "  ('jody0806', 'adamgrp', 'med2'): 'adamgrp-med2-qos',\n",
       "  ('jody0806', 'adamgrp', 'high'): 'adamgrp-high-qos',\n",
       "  ('jody0806', 'adamgrp', 'med'): 'adamgrp-med-qos',\n",
       "  ('jody0806', 'adamgrp', 'low'): 'adamgrp-low-qos',\n",
       "  ('johnmc', 'adamgrp', 'bml'): 'adamgrp-bml-qos',\n",
       "  ('johnmc', 'adamgrp', 'high2'): 'adamgrp-high2-qos',\n",
       "  ('johnmc', 'adamgrp', 'low2'): 'adamgrp-low2-qos',\n",
       "  ('johnmc', 'adamgrp', 'med2'): 'adamgrp-med2-qos',\n",
       "  ('johnmc', 'adamgrp', 'high'): 'adamgrp-high-qos',\n",
       "  ('johnmc', 'adamgrp', 'med'): 'adamgrp-med-qos',\n",
       "  ('johnmc', 'adamgrp', 'low'): 'adamgrp-low-qos',\n",
       "  ('jomack', 'adamgrp', 'high2'): 'adamgrp-high2-qos',\n",
       "  ('jomack', 'adamgrp', 'bml'): 'adamgrp-bml-qos',\n",
       "  ('jomack', 'adamgrp', 'low2'): 'adamgrp-low2-qos',\n",
       "  ('jomack', 'adamgrp', 'med2'): 'adamgrp-med2-qos',\n",
       "  ('jomack', 'adamgrp', 'high'): 'adamgrp-high-qos',\n",
       "  ('jomack', 'adamgrp', 'med'): 'adamgrp-med-qos',\n",
       "  ('jomack', 'adamgrp', 'low'): 'adamgrp-low-qos',\n",
       "  ('jpgerke', 'adamgrp', 'med2'): 'adamgrp-med2-qos',\n",
       "  ('jpgerke', 'adamgrp', 'med'): 'adamgrp-med-qos',\n",
       "  ('jpgerke', 'adamgrp', 'low2'): 'adamgrp-low2-qos',\n",
       "  ('jpgerke', 'adamgrp', 'low'): 'adamgrp-low-qos',\n",
       "  ('jpgerke', 'adamgrp', 'high2'): 'adamgrp-high2-qos',\n",
       "  ('jpgerke', 'adamgrp', 'bml'): 'adamgrp-bml-qos',\n",
       "  ('jpgerke', 'adamgrp', 'high'): 'adamgrp-high-qos',\n",
       "  ('jrlyen', 'adamgrp', 'high2'): 'adamgrp-high2-qos',\n",
       "  ('jrlyen', 'adamgrp', 'bml'): 'adamgrp-bml-qos',\n",
       "  ('jrlyen', 'adamgrp', 'low2'): 'adamgrp-low2-qos',\n",
       "  ('jrlyen', 'adamgrp', 'med2'): 'adamgrp-med2-qos',\n",
       "  ('jrlyen', 'adamgrp', 'high'): 'adamgrp-high-qos',\n",
       "  ('jrlyen', 'adamgrp', 'med'): 'adamgrp-med-qos',\n",
       "  ('jrlyen', 'adamgrp', 'low'): 'adamgrp-low-qos',\n",
       "  ('jsfranci', 'adamgrp', 'high2'): 'adamgrp-high2-qos',\n",
       "  ('jsfranci', 'adamgrp', 'bml'): 'adamgrp-bml-qos',\n",
       "  ('jsfranci', 'adamgrp', 'low2'): 'adamgrp-low2-qos',\n",
       "  ('jsfranci', 'adamgrp', 'med2'): 'adamgrp-med2-qos',\n",
       "  ('jsfranci', 'adamgrp', 'high'): 'adamgrp-high-qos',\n",
       "  ('jsfranci', 'adamgrp', 'med'): 'adamgrp-med-qos',\n",
       "  ('jsfranci', 'adamgrp', 'low'): 'adamgrp-low-qos',\n",
       "  ('jsingh98', 'adamgrp', 'high2'): 'adamgrp-high2-qos',\n",
       "  ('jsingh98', 'adamgrp', 'bml'): 'adamgrp-bml-qos',\n",
       "  ('jsingh98', 'adamgrp', 'low2'): 'adamgrp-low2-qos',\n",
       "  ('jsingh98', 'adamgrp', 'med2'): 'adamgrp-med2-qos',\n",
       "  ('jsingh98', 'adamgrp', 'low'): 'adamgrp-low-qos',\n",
       "  ('jsingh98', 'adamgrp', 'med'): 'adamgrp-med-qos',\n",
       "  ('jsingh98', 'adamgrp', 'high'): 'adamgrp-high-qos',\n",
       "  ('julian92', 'adamgrp', 'high2'): 'adamgrp-high2-qos',\n",
       "  ('julian92', 'adamgrp', 'bml'): 'adamgrp-bml-qos',\n",
       "  ('julian92', 'adamgrp', 'low2'): 'adamgrp-low2-qos',\n",
       "  ('julian92', 'adamgrp', 'med2'): 'adamgrp-med2-qos',\n",
       "  ('julian92', 'adamgrp', 'high'): 'adamgrp-high-qos',\n",
       "  ('julian92', 'adamgrp', 'med'): 'adamgrp-med-qos',\n",
       "  ('julian92', 'adamgrp', 'low'): 'adamgrp-low-qos',\n",
       "  ('jyyi', 'adamgrp', 'med2'): 'adamgrp-med2-qos',\n",
       "  ('jyyi', 'adamgrp', 'low2'): 'adamgrp-low2-qos',\n",
       "  ('jyyi', 'adamgrp', 'high2'): 'adamgrp-high2-qos',\n",
       "  ('jyyi', 'adamgrp', 'bml'): 'adamgrp-bml-qos',\n",
       "  ('jyyi', 'adamgrp', 'high'): 'adamgrp-high-qos',\n",
       "  ('jyyi', 'adamgrp', 'med'): 'adamgrp-med-qos',\n",
       "  ...},\n",
       " 'accounts': {'adamgrp': 1024,\n",
       "  'aigelgrp': None,\n",
       "  'awhitehegrp': None,\n",
       "  'baskettgrp': None,\n",
       "  'bennettgrp': None,\n",
       "  'bit150': None,\n",
       "  'bnbaileygrp': None,\n",
       "  'brannalagrp': None,\n",
       "  'brnjohnsgrp': None,\n",
       "  'clswettgrp': None,\n",
       "  'ctbrowngrp': None,\n",
       "  'darcantugrp': None,\n",
       "  'datalabgrp': None,\n",
       "  'diepenbrockgrp': None,\n",
       "  'donggrp': None,\n",
       "  'dubcovskygrp': None,\n",
       "  'ecl243grp': None,\n",
       "  'ejf4grp': None,\n",
       "  'entnemgrp': None,\n",
       "  'fvaldovigrp': None,\n",
       "  'geptsgrp': None,\n",
       "  'gittagrp': None,\n",
       "  'gmcoopgrp': None,\n",
       "  'gmonroegrp': None,\n",
       "  'hastingsgrp': None,\n",
       "  'hijmansgrp': None,\n",
       "  'jbemersogrp': None,\n",
       "  'jbondgrp': None,\n",
       "  'jingrp': None,\n",
       "  'jmearlesgrp': None,\n",
       "  'jorgelmrgrp': None,\n",
       "  'jrigrp': None,\n",
       "  'jyllwgrp': None,\n",
       "  'kerrigrp': None,\n",
       "  'kjergrp': None,\n",
       "  'knappgrp': None,\n",
       "  'latimergrp': None,\n",
       "  'magertongrp': None,\n",
       "  'mahergrp': None,\n",
       "  'marymgrp': None,\n",
       "  'millermrgrp': None,\n",
       "  'millsgrp': None,\n",
       "  'moniergrp': None,\n",
       "  'pasternackgrp': None,\n",
       "  'paullricgrp': None,\n",
       "  'qtlchenggrp': None,\n",
       "  'rbaygrp': None,\n",
       "  'rhijmansgrp': None,\n",
       "  'runciegrp': None,\n",
       "  'rustyhgrp': None,\n",
       "  'schmittgrp': None,\n",
       "  'slupskygrp': None,\n",
       "  'weimergrp': None,\n",
       "  'zhougrp': None,\n",
       "  'zimanyigrp': None}}"
      ]
     },
     "execution_count": 7,
     "metadata": {},
     "output_type": "execute_result"
    }
   ],
   "source": [
    "slurm_associations"
   ]
  },
  {
   "cell_type": "code",
   "execution_count": 37,
   "id": "0e741d71",
   "metadata": {},
   "outputs": [],
   "source": [
    "def get_qos_name(account_name, partition_name):\n",
    "    return f'{account_name}-{partition_name}-qos'"
   ]
  },
  {
   "cell_type": "code",
   "execution_count": 38,
   "id": "7ffcb607",
   "metadata": {},
   "outputs": [],
   "source": [
    "def build_puppet_association_state(puppet_mapping):\n",
    "    sacctmgr = SAcctMgr()\n",
    "    puppet_associations = dict(users={}, accounts={})\n",
    "    #command_queue = []\n",
    "\n",
    "    for group_name, group in puppet_mapping.group.items():\n",
    "        if group.slurm is not None:\n",
    "            puppet_associations['accounts'][group_name] = group.slurm.max_jobs\n",
    "\n",
    "    for user_name, user in puppet_mapping.user.items():\n",
    "\n",
    "        inherited_partitions = []\n",
    "\n",
    "        # Get groups first...\n",
    "        if user.groups is not None:\n",
    "            for group_name in user.groups:\n",
    "                if group_name in puppet_mapping.group:\n",
    "                    group = puppet_mapping.group[group_name]\n",
    "                    if group.slurm is not None and group.slurm.partitions is not None:\n",
    "                        inherited_partitions.append((group_name, group.slurm.partitions))\n",
    "        # Now via account associations\n",
    "        if user.slurm is not None and user.slurm.account is not None:\n",
    "            for account in user.slurm.account:\n",
    "                group = puppet_mapping.group[account]\n",
    "                inherited_partitions.append((account, group.slurm.partitions))\n",
    "\n",
    "        for account_name, partitions in inherited_partitions:\n",
    "            for partition_name, partition in partitions.items():\n",
    "                qos_name = get_qos_name(account_name, partition_name)\n",
    "                puppet_associations['users'][(user_name, account_name, partition_name)] = qos_name\n",
    "                #command_queue.append(sacctmgr.add_user(user_name, account_name, partition_name, qos_name))\n",
    "    return puppet_associations"
   ]
  },
  {
   "cell_type": "code",
   "execution_count": 39,
   "id": "bfa582b4",
   "metadata": {},
   "outputs": [],
   "source": [
    "puppet_associations = build_puppet_association_state(puppet_mapping)"
   ]
  },
  {
   "cell_type": "code",
   "execution_count": 40,
   "id": "83a2ec3c",
   "metadata": {},
   "outputs": [],
   "source": [
    "def build_puppet_qos_state(puppet_mapping):\n",
    "    qos_map = {}\n",
    "    for group_name, group in puppet_mapping.group.items():\n",
    "        if group.slurm is None or group.slurm.partitions is None:\n",
    "            continue\n",
    "        for partition_name, partition in group.slurm.partitions.items():\n",
    "            qos_name = get_qos_name(group_name, partition_name)\n",
    "            qos_map[qos_name] = partition.qos\n",
    "    return qos_map"
   ]
  },
  {
   "cell_type": "code",
   "execution_count": 41,
   "id": "60836f64",
   "metadata": {},
   "outputs": [],
   "source": [
    "puppet_qos_map = build_puppet_qos_state(puppet_mapping)"
   ]
  },
  {
   "cell_type": "code",
   "execution_count": 42,
   "id": "dff9f271",
   "metadata": {},
   "outputs": [],
   "source": [
    "def reconcile_qoses(old_qoses, new_qoses):\n",
    "    deletions = []\n",
    "    updates = []\n",
    "    additions = []\n",
    "    \n",
    "    for qos_name, old_qos in old_qoses.items():\n",
    "        if qos_name not in new_qoses:\n",
    "            deletions.append(qos_name)\n",
    "        else:\n",
    "            new_qos = new_qoses[qos_name]\n",
    "            if old_qos != new_qos:\n",
    "                updates.append((qos_name, new_qos))\n",
    "    \n",
    "    for qos_name, new_qos in new_qoses.items():\n",
    "        if qos_name not in old_qoses:\n",
    "            additions.append((qos_name, new_qos))\n",
    "    \n",
    "    return deletions, updates, additions"
   ]
  },
  {
   "cell_type": "code",
   "execution_count": 43,
   "id": "d27627d6",
   "metadata": {},
   "outputs": [],
   "source": [
    "def reconcile_users(old_assocs, new_assocs):\n",
    "    deletions = []\n",
    "    updates = []\n",
    "    additions = []\n",
    "    \n",
    "    # Deletions and updates: check old associations against new\n",
    "    for assoc_key in old_assocs:\n",
    "        if assoc_key not in new_assocs:\n",
    "            deletions.append(assoc_key)\n",
    "        else:\n",
    "            if old_assocs[assoc_key] != new_assocs[assoc_key]:\n",
    "                #print(f'Change {assoc_key}: {old_assocs[assoc_key]} => {new_assocs[assoc_key]}')\n",
    "                updates.append(assoc_key + (new_assocs[assoc_key],))\n",
    "    \n",
    "    # Additions: new user associations checked against old\n",
    "    for assoc_key in new_assocs:\n",
    "        if assoc_key not in old_assocs:\n",
    "            additions.append(assoc_key + (new_assocs[assoc_key],))\n",
    "    \n",
    "    return deletions, updates, additions                        "
   ]
  },
  {
   "cell_type": "code",
   "execution_count": 44,
   "id": "b9c85d44",
   "metadata": {},
   "outputs": [],
   "source": [
    "def reconcile_accounts(old_accounts, new_accounts):\n",
    "    deletions = []\n",
    "    updates = []\n",
    "    additions = []\n",
    "    \n",
    "    for account_name, old_extra in old_accounts.items():\n",
    "        if account_name not in new_accounts:\n",
    "            deletions.append(account_name)\n",
    "        else:\n",
    "            if old_extra != new_accounts[account_name]:\n",
    "                updates.append((account_name, new_accounts[account_name]))\n",
    "    for account_name, new_extra in new_accounts.items():\n",
    "        if account_name not in old_accounts:\n",
    "            additions.append((account_name, new_extra))\n",
    "    \n",
    "    return deletions, updates, additions"
   ]
  },
  {
   "cell_type": "code",
   "execution_count": 20,
   "id": "3229f5cb",
   "metadata": {},
   "outputs": [],
   "source": [
    "d, u, a = reconcile_users(slurm_associations['users'], puppet_associations['users'])"
   ]
  },
  {
   "cell_type": "code",
   "execution_count": 24,
   "id": "874c7602",
   "metadata": {},
   "outputs": [],
   "source": [
    "d, u, a = reconcile_accounts(slurm_associations['accounts'], puppet_associations['accounts'])"
   ]
  },
  {
   "cell_type": "code",
   "execution_count": 25,
   "id": "3053d1ab",
   "metadata": {},
   "outputs": [
    {
     "data": {
      "text/plain": [
       "['admin',\n",
       " 'admingrp',\n",
       " 'agertongrp',\n",
       " 'billaccount',\n",
       " 'briangrp',\n",
       " 'camw-test-2',\n",
       " 'cantugrp',\n",
       " 'emoniergrp',\n",
       " 'entnem',\n",
       " 'farm-test',\n",
       " 'fzdkeltgrp',\n",
       " 'geminigrp',\n",
       " 'gpul',\n",
       " 'gquongrp',\n",
       " 'gtaylorgrp',\n",
       " 'imtiyazgrp',\n",
       " 'mldichtegrp',\n",
       " 'sivasankargrp',\n",
       " 'testing']"
      ]
     },
     "execution_count": 25,
     "metadata": {},
     "output_type": "execute_result"
    }
   ],
   "source": [
    "d"
   ]
  },
  {
   "cell_type": "code",
   "execution_count": 40,
   "id": "f86f9629",
   "metadata": {},
   "outputs": [],
   "source": [
    "d, u, a = reconcile_qoses(slurm_qos_map, puppet_qos_map)"
   ]
  },
  {
   "cell_type": "code",
   "execution_count": 45,
   "id": "dd1c39ed",
   "metadata": {},
   "outputs": [],
   "source": [
    "def generate_commands(sacctmgr, slurm_assocations, slurm_qoses, puppet_associations, puppet_qoses):\n",
    "    user_deletions, user_updates, user_additions = reconcile_users(slurm_associations['users'], \n",
    "                                                                   puppet_associations['users'])\n",
    "    account_deletions, account_updates, account_additions = reconcile_accounts(slurm_associations['accounts'], \n",
    "                                                                               puppet_associations['accounts'])\n",
    "    qos_deletions, qos_updates, qos_additions = reconcile_qoses(slurm_qoses, \n",
    "                                                                puppet_qoses)\n",
    "    \n",
    "    command_queue = []\n",
    "    \n",
    "    for addition in qos_additions:\n",
    "        command_queue.append(sacctmgr.add_qos(*addition))\n",
    "    for update in qos_updates:\n",
    "        command_queue.append(sacctmgr.modify_qos(*update))\n",
    "    for update in user_updates:\n",
    "        command_queue.append(sacctmgr.modify_user_qos(*update))\n",
    "    for deletion in user_deletions:\n",
    "        command_queue.append(sacctmgr.remove_user(*deletion))\n",
    "    for deletion in qos_deletions:\n",
    "        command_queue.append(sacctmgr.remove_qos(deletion))\n",
    "    for addition in account_additions:\n",
    "        command_queue.append(sacctmgr.add_account(*addition))\n",
    "    for update in account_updates:\n",
    "        command_queue.append(sacctmgr.modify_account(*update))\n",
    "    for addition in user_additions:\n",
    "        command_queue.append(sacctmgr.add_user(*addition))\n",
    "    for deletion in account_deletions:\n",
    "        command_queue.append(sacctmgr.remove_account(deletion))\n",
    "\n",
    "    return command_queue"
   ]
  },
  {
   "cell_type": "code",
   "execution_count": 46,
   "id": "39b65b12",
   "metadata": {},
   "outputs": [],
   "source": [
    "commands = generate_commands(SAcctMgr(sudo=True), slurm_associations, slurm_qos_map, puppet_associations, puppet_qos_map)"
   ]
  },
  {
   "cell_type": "code",
   "execution_count": 47,
   "id": "18832512",
   "metadata": {},
   "outputs": [
    {
     "data": {
      "text/plain": [
       "[]"
      ]
     },
     "execution_count": 47,
     "metadata": {},
     "output_type": "execute_result"
    }
   ],
   "source": [
    "commands"
   ]
  },
  {
   "cell_type": "code",
   "execution_count": 48,
   "id": "00a517a7",
   "metadata": {},
   "outputs": [
    {
     "data": {
      "text/plain": [
       "0"
      ]
     },
     "execution_count": 48,
     "metadata": {},
     "output_type": "execute_result"
    }
   ],
   "source": [
    "len(commands)"
   ]
  },
  {
   "cell_type": "code",
   "execution_count": 30,
   "id": "6a172123",
   "metadata": {},
   "outputs": [],
   "source": [
    "from rich.progress import track\n",
    "import time"
   ]
  },
  {
   "cell_type": "code",
   "execution_count": 31,
   "id": "fe82fe92",
   "metadata": {},
   "outputs": [
    {
     "data": {
      "application/vnd.jupyter.widget-view+json": {
       "model_id": "0370386d1aca486a980870f15f00731b",
       "version_major": 2,
       "version_minor": 0
      },
      "text/plain": [
       "Output()"
      ]
     },
     "metadata": {},
     "output_type": "display_data"
    },
    {
     "data": {
      "text/html": [
       "<pre style=\"white-space:pre;overflow-x:auto;line-height:normal;font-family:Menlo,'DejaVu Sans Mono',consolas,'Courier New',monospace\">Error: /usr/bin/sudo /share/apps/22.04/slurm/22.05.8/bin/sacctmgr -iQ remove account admin\n",
       "</pre>\n"
      ],
      "text/plain": [
       "Error: /usr/bin/sudo /share/apps/22.04/slurm/22.05.8/bin/sacctmgr -iQ remove account admin\n"
      ]
     },
     "metadata": {},
     "output_type": "display_data"
    },
    {
     "data": {
      "text/html": [
       "<pre style=\"white-space:pre;overflow-x:auto;line-height:normal;font-family:Menlo,'DejaVu Sans Mono',consolas,'Courier New',monospace\">Ran: /usr/bin/sudo /share/apps/22.04/slurm/22.05.8/bin/sacctmgr -iQ remove account admingrp\n",
       "</pre>\n"
      ],
      "text/plain": [
       "Ran: /usr/bin/sudo /share/apps/22.04/slurm/22.05.8/bin/sacctmgr -iQ remove account admingrp\n"
      ]
     },
     "metadata": {},
     "output_type": "display_data"
    },
    {
     "data": {
      "text/html": [
       "<pre style=\"white-space:pre;overflow-x:auto;line-height:normal;font-family:Menlo,'DejaVu Sans Mono',consolas,'Courier New',monospace\">Ran: /usr/bin/sudo /share/apps/22.04/slurm/22.05.8/bin/sacctmgr -iQ remove account agertongrp\n",
       "</pre>\n"
      ],
      "text/plain": [
       "Ran: /usr/bin/sudo /share/apps/22.04/slurm/22.05.8/bin/sacctmgr -iQ remove account agertongrp\n"
      ]
     },
     "metadata": {},
     "output_type": "display_data"
    },
    {
     "data": {
      "text/html": [
       "<pre style=\"white-space:pre;overflow-x:auto;line-height:normal;font-family:Menlo,'DejaVu Sans Mono',consolas,'Courier New',monospace\">Ran: /usr/bin/sudo /share/apps/22.04/slurm/22.05.8/bin/sacctmgr -iQ remove account billaccount\n",
       "</pre>\n"
      ],
      "text/plain": [
       "Ran: /usr/bin/sudo /share/apps/22.04/slurm/22.05.8/bin/sacctmgr -iQ remove account billaccount\n"
      ]
     },
     "metadata": {},
     "output_type": "display_data"
    },
    {
     "data": {
      "text/html": [
       "<pre style=\"white-space:pre;overflow-x:auto;line-height:normal;font-family:Menlo,'DejaVu Sans Mono',consolas,'Courier New',monospace\">Ran: /usr/bin/sudo /share/apps/22.04/slurm/22.05.8/bin/sacctmgr -iQ remove account briangrp\n",
       "</pre>\n"
      ],
      "text/plain": [
       "Ran: /usr/bin/sudo /share/apps/22.04/slurm/22.05.8/bin/sacctmgr -iQ remove account briangrp\n"
      ]
     },
     "metadata": {},
     "output_type": "display_data"
    },
    {
     "data": {
      "text/html": [
       "<pre style=\"white-space:pre;overflow-x:auto;line-height:normal;font-family:Menlo,'DejaVu Sans Mono',consolas,'Courier New',monospace\">Ran: /usr/bin/sudo /share/apps/22.04/slurm/22.05.8/bin/sacctmgr -iQ remove account camw-test-2\n",
       "</pre>\n"
      ],
      "text/plain": [
       "Ran: /usr/bin/sudo /share/apps/22.04/slurm/22.05.8/bin/sacctmgr -iQ remove account camw-test-2\n"
      ]
     },
     "metadata": {},
     "output_type": "display_data"
    },
    {
     "data": {
      "text/html": [
       "<pre style=\"white-space:pre;overflow-x:auto;line-height:normal;font-family:Menlo,'DejaVu Sans Mono',consolas,'Courier New',monospace\">Ran: /usr/bin/sudo /share/apps/22.04/slurm/22.05.8/bin/sacctmgr -iQ remove account cantugrp\n",
       "</pre>\n"
      ],
      "text/plain": [
       "Ran: /usr/bin/sudo /share/apps/22.04/slurm/22.05.8/bin/sacctmgr -iQ remove account cantugrp\n"
      ]
     },
     "metadata": {},
     "output_type": "display_data"
    },
    {
     "data": {
      "text/html": [
       "<pre style=\"white-space:pre;overflow-x:auto;line-height:normal;font-family:Menlo,'DejaVu Sans Mono',consolas,'Courier New',monospace\">Ran: /usr/bin/sudo /share/apps/22.04/slurm/22.05.8/bin/sacctmgr -iQ remove account emoniergrp\n",
       "</pre>\n"
      ],
      "text/plain": [
       "Ran: /usr/bin/sudo /share/apps/22.04/slurm/22.05.8/bin/sacctmgr -iQ remove account emoniergrp\n"
      ]
     },
     "metadata": {},
     "output_type": "display_data"
    },
    {
     "data": {
      "text/html": [
       "<pre style=\"white-space:pre;overflow-x:auto;line-height:normal;font-family:Menlo,'DejaVu Sans Mono',consolas,'Courier New',monospace\">Ran: /usr/bin/sudo /share/apps/22.04/slurm/22.05.8/bin/sacctmgr -iQ remove account entnem\n",
       "</pre>\n"
      ],
      "text/plain": [
       "Ran: /usr/bin/sudo /share/apps/22.04/slurm/22.05.8/bin/sacctmgr -iQ remove account entnem\n"
      ]
     },
     "metadata": {},
     "output_type": "display_data"
    },
    {
     "data": {
      "text/html": [
       "<pre style=\"white-space:pre;overflow-x:auto;line-height:normal;font-family:Menlo,'DejaVu Sans Mono',consolas,'Courier New',monospace\">Ran: /usr/bin/sudo /share/apps/22.04/slurm/22.05.8/bin/sacctmgr -iQ remove account farm-test\n",
       "</pre>\n"
      ],
      "text/plain": [
       "Ran: /usr/bin/sudo /share/apps/22.04/slurm/22.05.8/bin/sacctmgr -iQ remove account farm-test\n"
      ]
     },
     "metadata": {},
     "output_type": "display_data"
    },
    {
     "data": {
      "text/html": [
       "<pre style=\"white-space:pre;overflow-x:auto;line-height:normal;font-family:Menlo,'DejaVu Sans Mono',consolas,'Courier New',monospace\">Ran: /usr/bin/sudo /share/apps/22.04/slurm/22.05.8/bin/sacctmgr -iQ remove account fzdkeltgrp\n",
       "</pre>\n"
      ],
      "text/plain": [
       "Ran: /usr/bin/sudo /share/apps/22.04/slurm/22.05.8/bin/sacctmgr -iQ remove account fzdkeltgrp\n"
      ]
     },
     "metadata": {},
     "output_type": "display_data"
    },
    {
     "data": {
      "text/html": [
       "<pre style=\"white-space:pre;overflow-x:auto;line-height:normal;font-family:Menlo,'DejaVu Sans Mono',consolas,'Courier New',monospace\">Ran: /usr/bin/sudo /share/apps/22.04/slurm/22.05.8/bin/sacctmgr -iQ remove account geminigrp\n",
       "</pre>\n"
      ],
      "text/plain": [
       "Ran: /usr/bin/sudo /share/apps/22.04/slurm/22.05.8/bin/sacctmgr -iQ remove account geminigrp\n"
      ]
     },
     "metadata": {},
     "output_type": "display_data"
    },
    {
     "data": {
      "text/html": [
       "<pre style=\"white-space:pre;overflow-x:auto;line-height:normal;font-family:Menlo,'DejaVu Sans Mono',consolas,'Courier New',monospace\">Ran: /usr/bin/sudo /share/apps/22.04/slurm/22.05.8/bin/sacctmgr -iQ remove account gpul\n",
       "</pre>\n"
      ],
      "text/plain": [
       "Ran: /usr/bin/sudo /share/apps/22.04/slurm/22.05.8/bin/sacctmgr -iQ remove account gpul\n"
      ]
     },
     "metadata": {},
     "output_type": "display_data"
    },
    {
     "data": {
      "text/html": [
       "<pre style=\"white-space:pre;overflow-x:auto;line-height:normal;font-family:Menlo,'DejaVu Sans Mono',consolas,'Courier New',monospace\">Ran: /usr/bin/sudo /share/apps/22.04/slurm/22.05.8/bin/sacctmgr -iQ remove account gquongrp\n",
       "</pre>\n"
      ],
      "text/plain": [
       "Ran: /usr/bin/sudo /share/apps/22.04/slurm/22.05.8/bin/sacctmgr -iQ remove account gquongrp\n"
      ]
     },
     "metadata": {},
     "output_type": "display_data"
    },
    {
     "data": {
      "text/html": [
       "<pre style=\"white-space:pre;overflow-x:auto;line-height:normal;font-family:Menlo,'DejaVu Sans Mono',consolas,'Courier New',monospace\">Ran: /usr/bin/sudo /share/apps/22.04/slurm/22.05.8/bin/sacctmgr -iQ remove account gtaylorgrp\n",
       "</pre>\n"
      ],
      "text/plain": [
       "Ran: /usr/bin/sudo /share/apps/22.04/slurm/22.05.8/bin/sacctmgr -iQ remove account gtaylorgrp\n"
      ]
     },
     "metadata": {},
     "output_type": "display_data"
    },
    {
     "data": {
      "text/html": [
       "<pre style=\"white-space:pre;overflow-x:auto;line-height:normal;font-family:Menlo,'DejaVu Sans Mono',consolas,'Courier New',monospace\">Ran: /usr/bin/sudo /share/apps/22.04/slurm/22.05.8/bin/sacctmgr -iQ remove account imtiyazgrp\n",
       "</pre>\n"
      ],
      "text/plain": [
       "Ran: /usr/bin/sudo /share/apps/22.04/slurm/22.05.8/bin/sacctmgr -iQ remove account imtiyazgrp\n"
      ]
     },
     "metadata": {},
     "output_type": "display_data"
    },
    {
     "data": {
      "text/html": [
       "<pre style=\"white-space:pre;overflow-x:auto;line-height:normal;font-family:Menlo,'DejaVu Sans Mono',consolas,'Courier New',monospace\">Ran: /usr/bin/sudo /share/apps/22.04/slurm/22.05.8/bin/sacctmgr -iQ remove account mldichtegrp\n",
       "</pre>\n"
      ],
      "text/plain": [
       "Ran: /usr/bin/sudo /share/apps/22.04/slurm/22.05.8/bin/sacctmgr -iQ remove account mldichtegrp\n"
      ]
     },
     "metadata": {},
     "output_type": "display_data"
    },
    {
     "data": {
      "text/html": [
       "<pre style=\"white-space:pre;overflow-x:auto;line-height:normal;font-family:Menlo,'DejaVu Sans Mono',consolas,'Courier New',monospace\">Ran: /usr/bin/sudo /share/apps/22.04/slurm/22.05.8/bin/sacctmgr -iQ remove account sivasankargrp\n",
       "</pre>\n"
      ],
      "text/plain": [
       "Ran: /usr/bin/sudo /share/apps/22.04/slurm/22.05.8/bin/sacctmgr -iQ remove account sivasankargrp\n"
      ]
     },
     "metadata": {},
     "output_type": "display_data"
    },
    {
     "data": {
      "text/html": [
       "<pre style=\"white-space:pre;overflow-x:auto;line-height:normal;font-family:Menlo,'DejaVu Sans Mono',consolas,'Courier New',monospace\">Error: /usr/bin/sudo /share/apps/22.04/slurm/22.05.8/bin/sacctmgr -iQ remove account testing\n",
       "</pre>\n"
      ],
      "text/plain": [
       "Error: /usr/bin/sudo /share/apps/22.04/slurm/22.05.8/bin/sacctmgr -iQ remove account testing\n"
      ]
     },
     "metadata": {},
     "output_type": "display_data"
    },
    {
     "data": {
      "text/html": [
       "<pre style=\"white-space:pre;overflow-x:auto;line-height:normal;font-family:Menlo,'DejaVu Sans Mono',consolas,'Courier New',monospace\"></pre>\n"
      ],
      "text/plain": []
     },
     "metadata": {},
     "output_type": "display_data"
    },
    {
     "data": {
      "text/html": [
       "<pre style=\"white-space:pre;overflow-x:auto;line-height:normal;font-family:Menlo,'DejaVu Sans Mono',consolas,'Courier New',monospace\">\n",
       "</pre>\n"
      ],
      "text/plain": [
       "\n"
      ]
     },
     "metadata": {},
     "output_type": "display_data"
    }
   ],
   "source": [
    "for i, command in enumerate(track(commands)):\n",
    "    #if i % 100 == 0:\n",
    "    #    print(f'{i}. Run:', command)\n",
    "    #command()\n",
    "    try:\n",
    "        command()\n",
    "        print('Ran:', command)\n",
    "    except sh.ErrorReturnCode_1:\n",
    "        print('Error:', command)"
   ]
  },
  {
   "cell_type": "code",
   "execution_count": 25,
   "id": "9d3132aa",
   "metadata": {},
   "outputs": [
    {
     "data": {
      "text/plain": [
       "<Command '/usr/bin/sudo /share/apps/22.04/slurm/22.05.8/bin/sacctmgr -i modify user jf set qos=paullricgrp-low-qos defaultqos=-1 where account=paullricgrp partition=low'>"
      ]
     },
     "execution_count": 25,
     "metadata": {},
     "output_type": "execute_result"
    }
   ],
   "source": [
    "commands[6000]"
   ]
  },
  {
   "cell_type": "code",
   "execution_count": 42,
   "id": "7c432af6",
   "metadata": {},
   "outputs": [
    {
     "data": {
      "text/plain": [
       "PuppetUserRecord(fullname='Camille Scott', email='cswel@ucdavis.edu', uid=1134153, gid=1134153, groups=['spack-user', 'conda-user', 'software-user', 'ctbrowngrp', 'adamgrp'], password='$y$j9T$v8sSBTyrM6.a6tDQllEi7/$3ENsV0Df.DlJ2/CyrWLo.nu9fwi/zMtdTbq6Jow.Ev9', shell='/bin/zsh', tag=['ssh-tag', 'sudo-tag', 'root-ssh-tag'], home=None, ensure='present', membership=None, storage=PuppetUserStorage(zfs=False, autofs=PuppetAutofs(nas='nas-6-0-ib', path='/nas-6-0/ctbrowngrp/')), slurm=None)"
      ]
     },
     "execution_count": 42,
     "metadata": {},
     "output_type": "execute_result"
    }
   ],
   "source": [
    "puppet_mapping.user['camw']"
   ]
  },
  {
   "cell_type": "code",
   "execution_count": 50,
   "id": "7303f4b6",
   "metadata": {},
   "outputs": [],
   "source": [
    "def size_to_megs(size):\n",
    "    size = size.strip()\n",
    "    if size[-1] in 'Mm':\n",
    "        return int(size[:-1])\n",
    "    if size[-1] in 'Gg':\n",
    "        return int(size[:-1]) * 1000\n",
    "    if size[-1] in 'Tt':\n",
    "        return int(size[:-1]) * 1000000\n",
    "    else:\n",
    "        raise ValueError(f'{size} is not an allowed value.')"
   ]
  },
  {
   "cell_type": "code",
   "execution_count": 58,
   "id": "b7ba1e73",
   "metadata": {},
   "outputs": [
    {
     "ename": "ValueError",
     "evalue": "1p is not an allowed value.",
     "output_type": "error",
     "traceback": [
      "\u001b[0;31m---------------------------------------------------------------------------\u001b[0m",
      "\u001b[0;31mValueError\u001b[0m                                Traceback (most recent call last)",
      "Cell \u001b[0;32mIn[58], line 1\u001b[0m\n\u001b[0;32m----> 1\u001b[0m \u001b[43msize_to_megs\u001b[49m\u001b[43m(\u001b[49m\u001b[38;5;124;43m'\u001b[39;49m\u001b[38;5;124;43m1p\u001b[39;49m\u001b[38;5;124;43m'\u001b[39;49m\u001b[43m)\u001b[49m\n",
      "Cell \u001b[0;32mIn[50], line 10\u001b[0m, in \u001b[0;36msize_to_megs\u001b[0;34m(size)\u001b[0m\n\u001b[1;32m      8\u001b[0m     \u001b[38;5;28;01mreturn\u001b[39;00m \u001b[38;5;28mint\u001b[39m(size[:\u001b[38;5;241m-\u001b[39m\u001b[38;5;241m1\u001b[39m]) \u001b[38;5;241m*\u001b[39m \u001b[38;5;241m1000000\u001b[39m\n\u001b[1;32m      9\u001b[0m \u001b[38;5;28;01melse\u001b[39;00m:\n\u001b[0;32m---> 10\u001b[0m     \u001b[38;5;28;01mraise\u001b[39;00m \u001b[38;5;167;01mValueError\u001b[39;00m(\u001b[38;5;124mf\u001b[39m\u001b[38;5;124m'\u001b[39m\u001b[38;5;132;01m{\u001b[39;00msize\u001b[38;5;132;01m}\u001b[39;00m\u001b[38;5;124m is not an allowed value.\u001b[39m\u001b[38;5;124m'\u001b[39m)\n",
      "\u001b[0;31mValueError\u001b[0m: 1p is not an allowed value."
     ]
    }
   ],
   "source": [
    "size_to_megs('1p')"
   ]
  },
  {
   "cell_type": "code",
   "execution_count": 53,
   "id": "4ff18660",
   "metadata": {},
   "outputs": [
    {
     "name": "stdout",
     "output_type": "stream",
     "text": [
      "Update ('datalab-18', 'ctbrowngrp', 'high2', 'ctbrowngrp-high2-qos')\n",
      "Update ('datalab-18', 'ctbrowngrp', 'med2', 'ctbrowngrp-med2-qos')\n",
      "Update ('datalab-18', 'ctbrowngrp', 'low2', 'ctbrowngrp-low2-qos')\n",
      "Update ('datalab-18', 'datalabgrp', 'gpu-a100-h', 'datalabgrp-gpu-a100-h-qos')\n",
      "Update ('datalab-18', 'datalabgrp', 'high2', 'datalabgrp-high2-qos')\n",
      "Update ('datalab-18', 'datalabgrp', 'med2', 'datalabgrp-med2-qos')\n",
      "Update ('datalab-18', 'datalabgrp', 'low2', 'datalabgrp-low2-qos')\n",
      "Delete ('datalab-18', 'farm-test', 'med2-test')\n",
      "Add ('datalab-18', 'ctbrowngrp', 'bmh', 'ctbrowngrp-bmh-qos')\n",
      "Add ('datalab-18', 'ctbrowngrp', 'bml', 'ctbrowngrp-bml-qos')\n",
      "Add ('datalab-18', 'ctbrowngrp', 'bmm', 'ctbrowngrp-bmm-qos')\n",
      "Add ('datalab-18', 'ctbrowngrp', 'gpu-a100-h', 'ctbrowngrp-gpu-a100-h-qos')\n",
      "Add ('datalab-18', 'ctbrowngrp', 'gpuh', 'ctbrowngrp-gpuh-qos')\n",
      "Add ('datalab-18', 'ctbrowngrp', 'gpum', 'ctbrowngrp-gpum-qos')\n",
      "Add ('datalab-18', 'ctbrowngrp', 'high', 'ctbrowngrp-high-qos')\n",
      "Add ('datalab-18', 'ctbrowngrp', 'low', 'ctbrowngrp-low-qos')\n",
      "Add ('datalab-18', 'ctbrowngrp', 'med', 'ctbrowngrp-med-qos')\n"
     ]
    }
   ],
   "source": [
    "for record in updates:\n",
    "    if 'datalab-18' in record:\n",
    "        print('Update', record)\n",
    "\n",
    "for record in deletions:\n",
    "    if 'datalab-18' in record:\n",
    "        print('Delete', record)\n",
    "        \n",
    "for record in additions:\n",
    "    if 'datalab-18' in record:\n",
    "        print('Add', record)"
   ]
  },
  {
   "cell_type": "code",
   "execution_count": 182,
   "id": "7d21feb7",
   "metadata": {},
   "outputs": [
    {
     "data": {
      "text/plain": [
       "['aariani',\n",
       " 'aburkert',\n",
       " 'aldoc',\n",
       " 'aldocb',\n",
       " 'aliceyu8',\n",
       " 'allinerp',\n",
       " 'amweis',\n",
       " 'askol',\n",
       " 'barao',\n",
       " 'bcbaikie',\n",
       " 'bebenson',\n",
       " 'bigmemh',\n",
       " 'borax',\n",
       " 'buduchin',\n",
       " 'bwelly',\n",
       " 'carrascogonzales',\n",
       " 'cesaram',\n",
       " 'cluste',\n",
       " 'cmaylor',\n",
       " 'cylinder',\n",
       " 'daisysj',\n",
       " 'dlabolle',\n",
       " 'ecgranad',\n",
       " 'ehellwig',\n",
       " 'eoziolor',\n",
       " 'erikent',\n",
       " 'fengq',\n",
       " 'gabmendo',\n",
       " 'grizimer',\n",
       " 'gthantha',\n",
       " 'herreral',\n",
       " 'jameyc',\n",
       " 'johnmola',\n",
       " 'jri-01',\n",
       " 'jri-02',\n",
       " 'jri-03',\n",
       " 'jri-04',\n",
       " 'jri-05',\n",
       " 'jri-06',\n",
       " 'jri-07',\n",
       " 'jri-08',\n",
       " 'jri-09',\n",
       " 'jri-10',\n",
       " 'jri-11',\n",
       " 'jri-12',\n",
       " 'jri-13',\n",
       " 'jri-14',\n",
       " 'jri-15',\n",
       " 'jri-16',\n",
       " 'jri-17',\n",
       " 'jri-18',\n",
       " 'jri-19',\n",
       " 'jri-20',\n",
       " 'jri-21',\n",
       " 'jri-22',\n",
       " 'jri-23',\n",
       " 'jri-24',\n",
       " 'jri-25',\n",
       " 'jri-26',\n",
       " 'jri-27',\n",
       " 'jri-28',\n",
       " 'jri-29',\n",
       " 'jri-30',\n",
       " 'jri-31',\n",
       " 'jri-32',\n",
       " 'jri-33',\n",
       " 'jri-34',\n",
       " 'jri-35',\n",
       " 'jri-36',\n",
       " 'jri-37',\n",
       " 'jri-38',\n",
       " 'jri-39',\n",
       " 'jri-40',\n",
       " 'jvanheer',\n",
       " 'katng23',\n",
       " 'kensia',\n",
       " 'kvdistor',\n",
       " 'laurens',\n",
       " 'laurynne',\n",
       " 'mclewis',\n",
       " 'memm',\n",
       " 'mltrego',\n",
       " 'msyedaqu',\n",
       " 'mtreiber',\n",
       " 'nymsuhhall',\n",
       " 'ohill',\n",
       " 'psbapat',\n",
       " 'restruch',\n",
       " 'rggriggs',\n",
       " 'robertph',\n",
       " 'rsniderm',\n",
       " 'sakre',\n",
       " 'scsastry',\n",
       " 'seanro00',\n",
       " 'set',\n",
       " 'spatel23',\n",
       " 'srmt',\n",
       " 'srmtanalysis',\n",
       " 'swadener',\n",
       " 'swong',\n",
       " 'user',\n",
       " 'vfbetsis',\n",
       " 'westwise',\n",
       " 'wscuello',\n",
       " 'yoslee',\n",
       " 'yoxue',\n",
       " 'zhuyuant',\n",
       " 'zzikhoury']"
      ]
     },
     "execution_count": 182,
     "metadata": {},
     "output_type": "execute_result"
    }
   ],
   "source": [
    "sorted(skipped_users)"
   ]
  },
  {
   "cell_type": "code",
   "execution_count": 123,
   "id": "c3743968",
   "metadata": {
    "scrolled": false
   },
   "outputs": [
    {
     "data": {
      "text/plain": [
       "dict_keys(['set_item_removed', 'set_item_added'])"
      ]
     },
     "execution_count": 123,
     "metadata": {},
     "output_type": "execute_result"
    }
   ],
   "source": [
    "diff.keys()"
   ]
  },
  {
   "cell_type": "code",
   "execution_count": 52,
   "id": "4d6f5e21",
   "metadata": {},
   "outputs": [
    {
     "data": {
      "text/plain": [
       "PuppetUserRecord(fullname='William R Conner', email='wrconner@ucdavis.edu', uid=606183, gid=606183, groups=['jcchiugrp'], password='x', shell='/bin/bash', tag=None, home=None, ensure='present', membership=None, storage=PuppetUserStorage(zfs=False, autofs=PuppetAutofs(nas='nas-4-0-ib', path='/nas-4-0/jcchiugrp2/')))"
      ]
     },
     "execution_count": 52,
     "metadata": {},
     "output_type": "execute_result"
    }
   ],
   "source": [
    "user"
   ]
  },
  {
   "cell_type": "code",
   "execution_count": 55,
   "id": "7d97072e",
   "metadata": {},
   "outputs": [
    {
     "data": {
      "text/plain": [
       "PuppetGroupRecord(gid=29956, ensure='present', tag=None, storage=[PuppetGroupStorage(name='jcchiugrp-SCRATCH', owner='jcchiu', group=None, autofs=PuppetAutofs(nas='nas-11-2-ib', path='/export/3/jcchiugrp-SCRATCH'), zfs=None), PuppetGroupStorage(name='jcchiugrp', owner='jcchiu', group=None, autofs=PuppetAutofs(nas='nas-4-0-ib', path='/nas-4-0/jcchiugrp2'), zfs=PuppetZFS(quota='30T'))], slurm=None)"
      ]
     },
     "execution_count": 55,
     "metadata": {},
     "output_type": "execute_result"
    }
   ],
   "source": [
    "group"
   ]
  },
  {
   "cell_type": "code",
   "execution_count": 53,
   "id": "fcb58658",
   "metadata": {},
   "outputs": [
    {
     "data": {
      "text/plain": [
       "PuppetUserRecord(fullname='Lacie Gail Newton', email='lgnewton@ucdavis.edu', uid=1496015, gid=1496015, groups=['jbondgrp'], password='x', shell='/bin/bash', tag=None, home=None, ensure='present', membership=None, storage=PuppetUserStorage(zfs=False, autofs=PuppetAutofs(nas='nas-10-1-ib', path='/export/4/')))"
      ]
     },
     "execution_count": 53,
     "metadata": {},
     "output_type": "execute_result"
    }
   ],
   "source": [
    "puppet_mapping.user['lgnewton']"
   ]
  },
  {
   "cell_type": "code",
   "execution_count": 62,
   "id": "6f3f10ee",
   "metadata": {},
   "outputs": [
    {
     "data": {
      "text/plain": [
       "[('entnemgrp',\n",
       "  'low',\n",
       "  SlurmPartition(qos=SlurmQOS(group=None, job=None, priority='10'))),\n",
       " ('entnemgrp',\n",
       "  'med',\n",
       "  SlurmPartition(qos=SlurmQOS(group=None, job=None, priority='10'))),\n",
       " ('entnemgrp',\n",
       "  'high',\n",
       "  SlurmPartition(qos=SlurmQOS(group=SlurmQOSTRES(cpus='192', gpus=None, mem='500G'), job=None, priority='0'))),\n",
       " ('entnemgrp',\n",
       "  'bigmemm',\n",
       "  SlurmPartition(qos=SlurmQOS(group=None, job=None, priority='10'))),\n",
       " ('entnemgrp',\n",
       "  'bigmemht',\n",
       "  SlurmPartition(qos=SlurmQOS(group=SlurmQOSTRES(cpus='96', gpus=None, mem='1000000M'), job=None, priority='0'))),\n",
       " ('entnemgrp',\n",
       "  'bigmeml',\n",
       "  SlurmPartition(qos=SlurmQOS(group=None, job=None, priority='10')))]"
      ]
     },
     "execution_count": 62,
     "metadata": {},
     "output_type": "execute_result"
    }
   ],
   "source": [
    "assoc_map['users'][user_name]"
   ]
  },
  {
   "cell_type": "code",
   "execution_count": 64,
   "id": "2a2df032",
   "metadata": {},
   "outputs": [
    {
     "data": {
      "text/html": [
       "<pre style=\"white-space:pre;overflow-x:auto;line-height:normal;font-family:Menlo,'DejaVu Sans Mono',consolas,'Courier New',monospace\"><span style=\"color: #800080; text-decoration-color: #800080; font-weight: bold\">SlurmRecord</span><span style=\"font-weight: bold\">(</span>\n",
       "    <span style=\"color: #808000; text-decoration-color: #808000\">account</span>=<span style=\"color: #008000; text-decoration-color: #008000\">'entnemgrp'</span>,\n",
       "    <span style=\"color: #808000; text-decoration-color: #808000\">partitions</span>=<span style=\"font-weight: bold\">{</span>\n",
       "        <span style=\"color: #008000; text-decoration-color: #008000\">'bigmemht'</span>: <span style=\"color: #800080; text-decoration-color: #800080; font-weight: bold\">SlurmPartition</span><span style=\"font-weight: bold\">(</span>\n",
       "            <span style=\"color: #808000; text-decoration-color: #808000\">qos</span>=<span style=\"color: #800080; text-decoration-color: #800080; font-weight: bold\">SlurmQOS</span><span style=\"font-weight: bold\">(</span><span style=\"color: #808000; text-decoration-color: #808000\">group</span>=<span style=\"color: #800080; text-decoration-color: #800080; font-weight: bold\">SlurmQOSTRES</span><span style=\"font-weight: bold\">(</span><span style=\"color: #808000; text-decoration-color: #808000\">cpus</span>=<span style=\"color: #008000; text-decoration-color: #008000\">'96'</span>, <span style=\"color: #808000; text-decoration-color: #808000\">gpus</span>=<span style=\"color: #800080; text-decoration-color: #800080; font-style: italic\">None</span>, <span style=\"color: #808000; text-decoration-color: #808000\">mem</span>=<span style=\"color: #008000; text-decoration-color: #008000\">'1000000M'</span><span style=\"font-weight: bold\">)</span>, <span style=\"color: #808000; text-decoration-color: #808000\">job</span>=<span style=\"color: #800080; text-decoration-color: #800080; font-style: italic\">None</span>, <span style=\"color: #808000; text-decoration-color: #808000\">priority</span>=<span style=\"color: #008000; text-decoration-color: #008000\">'0'</span><span style=\"font-weight: bold\">)</span>\n",
       "        <span style=\"font-weight: bold\">)</span>,\n",
       "        <span style=\"color: #008000; text-decoration-color: #008000\">'bigmemm'</span>: <span style=\"color: #800080; text-decoration-color: #800080; font-weight: bold\">SlurmPartition</span><span style=\"font-weight: bold\">(</span><span style=\"color: #808000; text-decoration-color: #808000\">qos</span>=<span style=\"color: #800080; text-decoration-color: #800080; font-weight: bold\">SlurmQOS</span><span style=\"font-weight: bold\">(</span><span style=\"color: #808000; text-decoration-color: #808000\">group</span>=<span style=\"color: #800080; text-decoration-color: #800080; font-style: italic\">None</span>, <span style=\"color: #808000; text-decoration-color: #808000\">job</span>=<span style=\"color: #800080; text-decoration-color: #800080; font-style: italic\">None</span>, <span style=\"color: #808000; text-decoration-color: #808000\">priority</span>=<span style=\"color: #008000; text-decoration-color: #008000\">'10'</span><span style=\"font-weight: bold\">))</span>,\n",
       "        <span style=\"color: #008000; text-decoration-color: #008000\">'bigmeml'</span>: <span style=\"color: #800080; text-decoration-color: #800080; font-weight: bold\">SlurmPartition</span><span style=\"font-weight: bold\">(</span><span style=\"color: #808000; text-decoration-color: #808000\">qos</span>=<span style=\"color: #800080; text-decoration-color: #800080; font-weight: bold\">SlurmQOS</span><span style=\"font-weight: bold\">(</span><span style=\"color: #808000; text-decoration-color: #808000\">group</span>=<span style=\"color: #800080; text-decoration-color: #800080; font-style: italic\">None</span>, <span style=\"color: #808000; text-decoration-color: #808000\">job</span>=<span style=\"color: #800080; text-decoration-color: #800080; font-style: italic\">None</span>, <span style=\"color: #808000; text-decoration-color: #808000\">priority</span>=<span style=\"color: #008000; text-decoration-color: #008000\">'10'</span><span style=\"font-weight: bold\">))</span>,\n",
       "        <span style=\"color: #008000; text-decoration-color: #008000\">'high'</span>: <span style=\"color: #800080; text-decoration-color: #800080; font-weight: bold\">SlurmPartition</span><span style=\"font-weight: bold\">(</span>\n",
       "            <span style=\"color: #808000; text-decoration-color: #808000\">qos</span>=<span style=\"color: #800080; text-decoration-color: #800080; font-weight: bold\">SlurmQOS</span><span style=\"font-weight: bold\">(</span><span style=\"color: #808000; text-decoration-color: #808000\">group</span>=<span style=\"color: #800080; text-decoration-color: #800080; font-weight: bold\">SlurmQOSTRES</span><span style=\"font-weight: bold\">(</span><span style=\"color: #808000; text-decoration-color: #808000\">cpus</span>=<span style=\"color: #008000; text-decoration-color: #008000\">'192'</span>, <span style=\"color: #808000; text-decoration-color: #808000\">gpus</span>=<span style=\"color: #800080; text-decoration-color: #800080; font-style: italic\">None</span>, <span style=\"color: #808000; text-decoration-color: #808000\">mem</span>=<span style=\"color: #008000; text-decoration-color: #008000\">'500G'</span><span style=\"font-weight: bold\">)</span>, <span style=\"color: #808000; text-decoration-color: #808000\">job</span>=<span style=\"color: #800080; text-decoration-color: #800080; font-style: italic\">None</span>, <span style=\"color: #808000; text-decoration-color: #808000\">priority</span>=<span style=\"color: #008000; text-decoration-color: #008000\">'0'</span><span style=\"font-weight: bold\">)</span>\n",
       "        <span style=\"font-weight: bold\">)</span>,\n",
       "        <span style=\"color: #008000; text-decoration-color: #008000\">'med'</span>: <span style=\"color: #800080; text-decoration-color: #800080; font-weight: bold\">SlurmPartition</span><span style=\"font-weight: bold\">(</span><span style=\"color: #808000; text-decoration-color: #808000\">qos</span>=<span style=\"color: #800080; text-decoration-color: #800080; font-weight: bold\">SlurmQOS</span><span style=\"font-weight: bold\">(</span><span style=\"color: #808000; text-decoration-color: #808000\">group</span>=<span style=\"color: #800080; text-decoration-color: #800080; font-style: italic\">None</span>, <span style=\"color: #808000; text-decoration-color: #808000\">job</span>=<span style=\"color: #800080; text-decoration-color: #800080; font-style: italic\">None</span>, <span style=\"color: #808000; text-decoration-color: #808000\">priority</span>=<span style=\"color: #008000; text-decoration-color: #008000\">'10'</span><span style=\"font-weight: bold\">))</span>,\n",
       "        <span style=\"color: #008000; text-decoration-color: #008000\">'low'</span>: <span style=\"color: #800080; text-decoration-color: #800080; font-weight: bold\">SlurmPartition</span><span style=\"font-weight: bold\">(</span><span style=\"color: #808000; text-decoration-color: #808000\">qos</span>=<span style=\"color: #800080; text-decoration-color: #800080; font-weight: bold\">SlurmQOS</span><span style=\"font-weight: bold\">(</span><span style=\"color: #808000; text-decoration-color: #808000\">group</span>=<span style=\"color: #800080; text-decoration-color: #800080; font-style: italic\">None</span>, <span style=\"color: #808000; text-decoration-color: #808000\">job</span>=<span style=\"color: #800080; text-decoration-color: #800080; font-style: italic\">None</span>, <span style=\"color: #808000; text-decoration-color: #808000\">priority</span>=<span style=\"color: #008000; text-decoration-color: #008000\">'10'</span><span style=\"font-weight: bold\">))</span>\n",
       "    <span style=\"font-weight: bold\">}</span>,\n",
       "    <span style=\"color: #808000; text-decoration-color: #808000\">max_jobs</span>=<span style=\"color: #800080; text-decoration-color: #800080; font-style: italic\">None</span>\n",
       "<span style=\"font-weight: bold\">)</span>\n",
       "</pre>\n"
      ],
      "text/plain": [
       "\u001b[1;35mSlurmRecord\u001b[0m\u001b[1m(\u001b[0m\n",
       "    \u001b[33maccount\u001b[0m=\u001b[32m'entnemgrp'\u001b[0m,\n",
       "    \u001b[33mpartitions\u001b[0m=\u001b[1m{\u001b[0m\n",
       "        \u001b[32m'bigmemht'\u001b[0m: \u001b[1;35mSlurmPartition\u001b[0m\u001b[1m(\u001b[0m\n",
       "            \u001b[33mqos\u001b[0m=\u001b[1;35mSlurmQOS\u001b[0m\u001b[1m(\u001b[0m\u001b[33mgroup\u001b[0m=\u001b[1;35mSlurmQOSTRES\u001b[0m\u001b[1m(\u001b[0m\u001b[33mcpus\u001b[0m=\u001b[32m'96'\u001b[0m, \u001b[33mgpus\u001b[0m=\u001b[3;35mNone\u001b[0m, \u001b[33mmem\u001b[0m=\u001b[32m'1000000M'\u001b[0m\u001b[1m)\u001b[0m, \u001b[33mjob\u001b[0m=\u001b[3;35mNone\u001b[0m, \u001b[33mpriority\u001b[0m=\u001b[32m'0'\u001b[0m\u001b[1m)\u001b[0m\n",
       "        \u001b[1m)\u001b[0m,\n",
       "        \u001b[32m'bigmemm'\u001b[0m: \u001b[1;35mSlurmPartition\u001b[0m\u001b[1m(\u001b[0m\u001b[33mqos\u001b[0m=\u001b[1;35mSlurmQOS\u001b[0m\u001b[1m(\u001b[0m\u001b[33mgroup\u001b[0m=\u001b[3;35mNone\u001b[0m, \u001b[33mjob\u001b[0m=\u001b[3;35mNone\u001b[0m, \u001b[33mpriority\u001b[0m=\u001b[32m'10'\u001b[0m\u001b[1m)\u001b[0m\u001b[1m)\u001b[0m,\n",
       "        \u001b[32m'bigmeml'\u001b[0m: \u001b[1;35mSlurmPartition\u001b[0m\u001b[1m(\u001b[0m\u001b[33mqos\u001b[0m=\u001b[1;35mSlurmQOS\u001b[0m\u001b[1m(\u001b[0m\u001b[33mgroup\u001b[0m=\u001b[3;35mNone\u001b[0m, \u001b[33mjob\u001b[0m=\u001b[3;35mNone\u001b[0m, \u001b[33mpriority\u001b[0m=\u001b[32m'10'\u001b[0m\u001b[1m)\u001b[0m\u001b[1m)\u001b[0m,\n",
       "        \u001b[32m'high'\u001b[0m: \u001b[1;35mSlurmPartition\u001b[0m\u001b[1m(\u001b[0m\n",
       "            \u001b[33mqos\u001b[0m=\u001b[1;35mSlurmQOS\u001b[0m\u001b[1m(\u001b[0m\u001b[33mgroup\u001b[0m=\u001b[1;35mSlurmQOSTRES\u001b[0m\u001b[1m(\u001b[0m\u001b[33mcpus\u001b[0m=\u001b[32m'192'\u001b[0m, \u001b[33mgpus\u001b[0m=\u001b[3;35mNone\u001b[0m, \u001b[33mmem\u001b[0m=\u001b[32m'500G'\u001b[0m\u001b[1m)\u001b[0m, \u001b[33mjob\u001b[0m=\u001b[3;35mNone\u001b[0m, \u001b[33mpriority\u001b[0m=\u001b[32m'0'\u001b[0m\u001b[1m)\u001b[0m\n",
       "        \u001b[1m)\u001b[0m,\n",
       "        \u001b[32m'med'\u001b[0m: \u001b[1;35mSlurmPartition\u001b[0m\u001b[1m(\u001b[0m\u001b[33mqos\u001b[0m=\u001b[1;35mSlurmQOS\u001b[0m\u001b[1m(\u001b[0m\u001b[33mgroup\u001b[0m=\u001b[3;35mNone\u001b[0m, \u001b[33mjob\u001b[0m=\u001b[3;35mNone\u001b[0m, \u001b[33mpriority\u001b[0m=\u001b[32m'10'\u001b[0m\u001b[1m)\u001b[0m\u001b[1m)\u001b[0m,\n",
       "        \u001b[32m'low'\u001b[0m: \u001b[1;35mSlurmPartition\u001b[0m\u001b[1m(\u001b[0m\u001b[33mqos\u001b[0m=\u001b[1;35mSlurmQOS\u001b[0m\u001b[1m(\u001b[0m\u001b[33mgroup\u001b[0m=\u001b[3;35mNone\u001b[0m, \u001b[33mjob\u001b[0m=\u001b[3;35mNone\u001b[0m, \u001b[33mpriority\u001b[0m=\u001b[32m'10'\u001b[0m\u001b[1m)\u001b[0m\u001b[1m)\u001b[0m\n",
       "    \u001b[1m}\u001b[0m,\n",
       "    \u001b[33mmax_jobs\u001b[0m=\u001b[3;35mNone\u001b[0m\n",
       "\u001b[1m)\u001b[0m\n"
      ]
     },
     "metadata": {},
     "output_type": "display_data"
    }
   ],
   "source": [
    "pprint(assoc_map['accounts']['entnemgrp'])"
   ]
  },
  {
   "cell_type": "markdown",
   "id": "120493f1",
   "metadata": {},
   "source": [
    "---"
   ]
  },
  {
   "cell_type": "code",
   "execution_count": 14,
   "id": "d0cf39e0",
   "metadata": {},
   "outputs": [
    {
     "data": {
      "text/plain": [
       "SlurmRecord(account='gpul', partitions={'gpul': SlurmPartition(qos=SlurmQOS(group=None, job=None, priority='0'))}, max_jobs=None)"
      ]
     },
     "execution_count": 14,
     "metadata": {},
     "output_type": "execute_result"
    }
   ],
   "source": [
    "assoc_map['accounts']['gpul']"
   ]
  },
  {
   "cell_type": "code",
   "execution_count": 15,
   "id": "2fbc823a",
   "metadata": {},
   "outputs": [],
   "source": [
    "sacctmgr = SAcctMgr()"
   ]
  },
  {
   "cell_type": "code",
   "execution_count": 18,
   "id": "8f661405",
   "metadata": {},
   "outputs": [
    {
     "data": {
      "text/plain": [
       "<Command '/work/HPCCF/cheeto/sacctmgr -i add qos testqos GrpCpus=192 GrpMem=500G'>"
      ]
     },
     "execution_count": 18,
     "metadata": {},
     "output_type": "execute_result"
    }
   ],
   "source": [
    "sacctmgr.add_qos('testqos', assoc_map['adamgrp'].partitions['high'].qos)"
   ]
  },
  {
   "cell_type": "code",
   "execution_count": 19,
   "id": "4f1cfef6",
   "metadata": {},
   "outputs": [
    {
     "data": {
      "text/plain": [
       "<Command '/work/HPCCF/cheeto/sacctmgr -i add account testaccount'>"
      ]
     },
     "execution_count": 19,
     "metadata": {},
     "output_type": "execute_result"
    }
   ],
   "source": [
    "sacctmgr.add_account('testaccount')"
   ]
  },
  {
   "cell_type": "code",
   "execution_count": 20,
   "id": "04852314",
   "metadata": {},
   "outputs": [
    {
     "data": {
      "text/plain": [
       "<Command '/work/HPCCF/cheeto/sacctmgr -i modify qos testqos set GrpCpus=192 GrpMem=500G'>"
      ]
     },
     "execution_count": 20,
     "metadata": {},
     "output_type": "execute_result"
    }
   ],
   "source": [
    "sacctmgr.modify_qos('testqos', qos)"
   ]
  },
  {
   "cell_type": "code",
   "execution_count": 21,
   "id": "9628b68c",
   "metadata": {},
   "outputs": [
    {
     "data": {
      "text/plain": [
       "<Command '/work/HPCCF/cheeto/sacctmgr -i add user testuser account=testaccount partition=testpartition qos=testqos'>"
      ]
     },
     "execution_count": 21,
     "metadata": {},
     "output_type": "execute_result"
    }
   ],
   "source": [
    "sacctmgr.add_user('testuser', 'testaccount', 'testpartition', 'testqos')"
   ]
  },
  {
   "cell_type": "code",
   "execution_count": 22,
   "id": "ac036873",
   "metadata": {},
   "outputs": [
    {
     "data": {
      "text/plain": [
       "<Command '/work/HPCCF/cheeto/sacctmgr -i remove user testuser'>"
      ]
     },
     "execution_count": 22,
     "metadata": {},
     "output_type": "execute_result"
    }
   ],
   "source": [
    "sacctmgr.remove_user('testuser')"
   ]
  },
  {
   "cell_type": "code",
   "execution_count": 23,
   "id": "65bd38ea",
   "metadata": {},
   "outputs": [
    {
     "data": {
      "text/plain": [
       "<Command '/work/HPCCF/cheeto/sacctmgr -i remove user testuser account=testaccount'>"
      ]
     },
     "execution_count": 23,
     "metadata": {},
     "output_type": "execute_result"
    }
   ],
   "source": [
    "sacctmgr.remove_user('testuser', account_name='testaccount')"
   ]
  },
  {
   "cell_type": "code",
   "execution_count": 24,
   "id": "27d5e554",
   "metadata": {},
   "outputs": [
    {
     "data": {
      "text/plain": [
       "<Command '/work/HPCCF/cheeto/sacctmgr -i remove user testuser partition=testpartition'>"
      ]
     },
     "execution_count": 24,
     "metadata": {},
     "output_type": "execute_result"
    }
   ],
   "source": [
    "sacctmgr.remove_user('testuser', partition_name='testpartition')"
   ]
  },
  {
   "cell_type": "code",
   "execution_count": 25,
   "id": "480d49ae",
   "metadata": {},
   "outputs": [
    {
     "data": {
      "text/plain": [
       "<Command '/work/HPCCF/cheeto/sacctmgr -i remove user testuser account=testaccount partition=testpartition'>"
      ]
     },
     "execution_count": 25,
     "metadata": {},
     "output_type": "execute_result"
    }
   ],
   "source": [
    "sacctmgr.remove_user('testuser', account_name='testaccount', partition_name='testpartition')"
   ]
  },
  {
   "cell_type": "markdown",
   "id": "c3394d7c",
   "metadata": {},
   "source": [
    "## QoS Audit"
   ]
  },
  {
   "cell_type": "code",
   "execution_count": 5,
   "id": "19ee1454",
   "metadata": {},
   "outputs": [],
   "source": [
    "qoses = build_puppet_qos_state(puppet_mapping)"
   ]
  },
  {
   "cell_type": "code",
   "execution_count": 7,
   "id": "1079949c",
   "metadata": {},
   "outputs": [],
   "source": [
    "def partition_from_qos_name(qos_name):\n",
    "    tokens = qos_name.split('-')\n",
    "    return tokens[-2]"
   ]
  },
  {
   "cell_type": "code",
   "execution_count": 8,
   "id": "62fd7841",
   "metadata": {},
   "outputs": [
    {
     "data": {
      "text/plain": [
       "{'datalabgrp-gpu-a100-h-qos': SlurmQOS(group=SlurmQOSTRES(cpus=32, gpus=1, mem='128000M'), job=None, priority=0),\n",
       " 'datalabgrp-high2-qos': SlurmQOS(group=SlurmQOSTRES(cpus=256, gpus=None, mem='512000M'), job=None, priority=0),\n",
       " 'datalabgrp-low2-qos': SlurmQOS(group=None, job=None, priority=10),\n",
       " 'datalabgrp-med2-qos': SlurmQOS(group=None, job=None, priority=10),\n",
       " 'qtlchenggrp-bmh-qos': SlurmQOS(group=SlurmQOSTRES(cpus=96, gpus=None, mem='1000000M'), job=None, priority=0),\n",
       " 'qtlchenggrp-bml-qos': SlurmQOS(group=None, job=None, priority=10),\n",
       " 'qtlchenggrp-bmm-qos': SlurmQOS(group=None, job=None, priority=10),\n",
       " 'qtlchenggrp-gpuh-qos': SlurmQOS(group=SlurmQOSTRES(cpus=6, gpus=1, mem='96000M'), job=None, priority=0),\n",
       " 'qtlchenggrp-high-qos': SlurmQOS(group=SlurmQOSTRES(cpus=128, gpus=None, mem='256000M'), job=None, priority=40),\n",
       " 'qtlchenggrp-high2-qos': SlurmQOS(group=SlurmQOSTRES(cpus=96, gpus=None, mem='256000M'), job=None, priority=0),\n",
       " 'qtlchenggrp-low-qos': SlurmQOS(group=None, job=None, priority=10),\n",
       " 'qtlchenggrp-low2-qos': SlurmQOS(group=None, job=None, priority=10),\n",
       " 'qtlchenggrp-med-qos': SlurmQOS(group=None, job=None, priority=10),\n",
       " 'qtlchenggrp-med2-qos': SlurmQOS(group=None, job=None, priority=10),\n",
       " 'jorgelmrgrp-high2-qos': SlurmQOS(group=SlurmQOSTRES(cpus=512, gpus=None, mem='1024000M'), job=None, priority=0),\n",
       " 'jorgelmrgrp-low2-qos': SlurmQOS(group=None, job=None, priority=20),\n",
       " 'jorgelmrgrp-med2-qos': SlurmQOS(group=None, job=None, priority=20),\n",
       " 'gtaylorgrp-high2-qos': SlurmQOS(group=SlurmQOSTRES(cpus=256, gpus=None, mem='512000M'), job=None, priority=0),\n",
       " 'gtaylorgrp-low2-qos': SlurmQOS(group=None, job=None, priority=10),\n",
       " 'gtaylorgrp-med2-qos': SlurmQOS(group=None, job=None, priority=10),\n",
       " 'hastingsgrp-high-qos': SlurmQOS(group=SlurmQOSTRES(cpus=192, gpus=None, mem='512000M'), job=None, priority=0),\n",
       " 'hastingsgrp-high2-qos': SlurmQOS(group=SlurmQOSTRES(cpus=256, gpus=None, mem='10200000M'), job=None, priority=0),\n",
       " 'hastingsgrp-low-qos': SlurmQOS(group=None, job=None, priority=80),\n",
       " 'hastingsgrp-low2-qos': SlurmQOS(group=None, job=None, priority=40),\n",
       " 'hastingsgrp-med-qos': SlurmQOS(group=None, job=None, priority=80),\n",
       " 'hastingsgrp-med2-qos': SlurmQOS(group=None, job=None, priority=40),\n",
       " 'rustyhgrp-high2-qos': SlurmQOS(group=SlurmQOSTRES(cpus=224, gpus=None, mem='512000M'), job=None, priority=0),\n",
       " 'rustyhgrp-low2-qos': SlurmQOS(group=None, job=None, priority=20),\n",
       " 'rustyhgrp-med2-qos': SlurmQOS(group=None, job=None, priority=20),\n",
       " 'jrigrp-bigmemh-qos': SlurmQOS(group=SlurmQOSTRES(cpus=128, gpus=None, mem='980000M'), job=None, priority=20),\n",
       " 'jrigrp-bigmeml-qos': SlurmQOS(group=None, job=None, priority=20),\n",
       " 'jrigrp-bigmemm-qos': SlurmQOS(group=None, job=None, priority=20),\n",
       " 'jrigrp-high-qos': SlurmQOS(group=SlurmQOSTRES(cpus=128, gpus=None, mem='512000M'), job=None, priority=0),\n",
       " 'jrigrp-high2-qos': SlurmQOS(group=SlurmQOSTRES(cpus=640, gpus=None, mem='1500000M'), job=None, priority=0),\n",
       " 'jrigrp-low-qos': SlurmQOS(group=SlurmQOSTRES(cpus=128, gpus=None, mem=None), job=None, priority=20),\n",
       " 'jrigrp-low2-qos': SlurmQOS(group=None, job=None, priority=40),\n",
       " 'jrigrp-med-qos': SlurmQOS(group=SlurmQOSTRES(cpus=128, gpus=None, mem=None), job=None, priority=20),\n",
       " 'jrigrp-med2-qos': SlurmQOS(group=None, job=None, priority=40),\n",
       " 'jbondgrp-bigmemht-qos': SlurmQOS(group=SlurmQOSTRES(cpus=96, gpus=None, mem='1000000M'), job=None, priority=0),\n",
       " 'jbondgrp-bigmeml-qos': SlurmQOS(group=None, job=None, priority=10),\n",
       " 'jbondgrp-bigmemm-qos': SlurmQOS(group=None, job=None, priority=10),\n",
       " 'jbondgrp-high2-qos': SlurmQOS(group=SlurmQOSTRES(cpus=256, gpus=None, mem='1024000M'), job=None, priority=0),\n",
       " 'jbondgrp-low2-qos': SlurmQOS(group=None, job=None, priority=40),\n",
       " 'jbondgrp-med2-qos': SlurmQOS(group=None, job=None, priority=40),\n",
       " 'millermrgrp-bigmemh-qos': SlurmQOS(group=SlurmQOSTRES(cpus=64, gpus=None, mem='500000M'), job=None, priority=0),\n",
       " 'millermrgrp-bigmeml-qos': SlurmQOS(group=None, job=None, priority=10),\n",
       " 'millermrgrp-bigmemm-qos': SlurmQOS(group=None, job=None, priority=10),\n",
       " 'millermrgrp-bmh-qos': SlurmQOS(group=SlurmQOSTRES(cpus=64, gpus=None, mem='500000M'), job=None, priority=0),\n",
       " 'millermrgrp-bml-qos': SlurmQOS(group=None, job=None, priority=10),\n",
       " 'millermrgrp-bmm-qos': SlurmQOS(group=None, job=None, priority=10),\n",
       " 'millermrgrp-high-qos': SlurmQOS(group=SlurmQOSTRES(cpus=168, gpus=None, mem='448000M'), job=None, priority=0),\n",
       " 'millermrgrp-low-qos': SlurmQOS(group=None, job=None, priority=70),\n",
       " 'millermrgrp-med-qos': SlurmQOS(group=None, job=None, priority=70),\n",
       " 'fvaldovigrp-high2-qos': SlurmQOS(group=SlurmQOSTRES(cpus=1024, gpus=None, mem='2000000M'), job=None, priority=0),\n",
       " 'fvaldovigrp-low2-qos': SlurmQOS(group=None, job=None, priority=40),\n",
       " 'fvaldovigrp-med2-qos': SlurmQOS(group=None, job=None, priority=40),\n",
       " 'magertongrp-high2-qos': SlurmQOS(group=SlurmQOSTRES(cpus=256, gpus=None, mem='980000M'), job=None, priority=20),\n",
       " 'magertongrp-low2-qos': SlurmQOS(group=None, job=None, priority=20),\n",
       " 'magertongrp-med2-qos': SlurmQOS(group=None, job=None, priority=20),\n",
       " 'marymgrp-high2-qos': SlurmQOS(group=SlurmQOSTRES(cpus=128, gpus=None, mem='256000M'), job=None, priority=0),\n",
       " 'marymgrp-low2-qos': SlurmQOS(group=None, job=None, priority=10),\n",
       " 'marymgrp-med2-qos': SlurmQOS(group=None, job=None, priority=10),\n",
       " 'gmonroegrp-bmh-qos': SlurmQOS(group=SlurmQOSTRES(cpus=352, gpus=None, mem='3000000M'), job=None, priority=0),\n",
       " 'gmonroegrp-bml-qos': SlurmQOS(group=None, job=None, priority=20),\n",
       " 'gmonroegrp-bmm-qos': SlurmQOS(group=None, job=None, priority=20),\n",
       " 'gmonroegrp-gpu-a100-h-qos': SlurmQOS(group=SlurmQOSTRES(cpus=32, gpus=1, mem='128000M'), job=None, priority=0),\n",
       " 'gpum-users-gpum-qos': SlurmQOS(group=SlurmQOSTRES(cpus=60, gpus=10, mem='983040M'), job=None, priority=0),\n",
       " 'fzdkeltgrp-high2-qos': SlurmQOS(group=SlurmQOSTRES(cpus=256, gpus=None, mem='512000M'), job=None, priority=0),\n",
       " 'fzdkeltgrp-low2-qos': SlurmQOS(group=None, job=None, priority=10),\n",
       " 'fzdkeltgrp-med2-qos': SlurmQOS(group=None, job=None, priority=10),\n",
       " 'runciegrp-bit150h-qos': SlurmQOS(group=SlurmQOSTRES(cpus=96, gpus=None, mem='256000M'), job=None, priority=0),\n",
       " 'runciegrp-high-qos': SlurmQOS(group=SlurmQOSTRES(cpus=96, gpus=None, mem='256000M'), job=None, priority=0),\n",
       " 'runciegrp-high2-qos': SlurmQOS(group=SlurmQOSTRES(cpus=96, gpus=None, mem='256000M'), job=None, priority=0),\n",
       " 'runciegrp-low-qos': SlurmQOS(group=None, job=None, priority=40),\n",
       " 'runciegrp-low2-qos': SlurmQOS(group=None, job=None, priority=10),\n",
       " 'runciegrp-med-qos': SlurmQOS(group=None, job=None, priority=40),\n",
       " 'runciegrp-med2-qos': SlurmQOS(group=None, job=None, priority=10),\n",
       " 'dichtergrp-high2-qos': SlurmQOS(group=SlurmQOSTRES(cpus=256, gpus=None, mem='512000M'), job=None, priority=0),\n",
       " 'dichtergrp-low2-qos': SlurmQOS(group=None, job=None, priority=10),\n",
       " 'dichtergrp-med2-qos': SlurmQOS(group=None, job=None, priority=10),\n",
       " 'zhougrp-bigmemh-qos': SlurmQOS(group=SlurmQOSTRES(cpus=96, gpus=None, mem='1000000M'), job=None, priority=0),\n",
       " 'zhougrp-bigmeml-qos': SlurmQOS(group=None, job=None, priority=10),\n",
       " 'zhougrp-bigmemm-qos': SlurmQOS(group=None, job=None, priority=10),\n",
       " 'zhougrp-bmh-qos': SlurmQOS(group=SlurmQOSTRES(cpus=96, gpus=None, mem='1000M'), job=None, priority=0),\n",
       " 'zhougrp-bml-qos': SlurmQOS(group=None, job=None, priority=10),\n",
       " 'zhougrp-bmm-qos': SlurmQOS(group=None, job=None, priority=10),\n",
       " 'zhougrp-gpu-a100-h-qos': SlurmQOS(group=SlurmQOSTRES(cpus=32, gpus=1, mem='128000M'), job=None, priority=0),\n",
       " 'zhougrp-high-qos': SlurmQOS(group=SlurmQOSTRES(cpus=192, gpus=None, mem='512000M'), job=None, priority=0),\n",
       " 'zhougrp-low-qos': SlurmQOS(group=None, job=None, priority=80),\n",
       " 'zhougrp-med-qos': SlurmQOS(group=None, job=None, priority=80),\n",
       " 'bennettgrp-high-qos': SlurmQOS(group=SlurmQOSTRES(cpus=128, gpus=None, mem='256000M'), job=None, priority=0),\n",
       " 'bennettgrp-low-qos': SlurmQOS(group=None, job=None, priority=40),\n",
       " 'bennettgrp-med-qos': SlurmQOS(group=None, job=None, priority=40),\n",
       " 'adamgrp-bml-qos': SlurmQOS(group=None, job=None, priority=0),\n",
       " 'adamgrp-high-qos': SlurmQOS(group=SlurmQOSTRES(cpus=192, gpus=None, mem='512000M'), job=SlurmQOSTRES(cpus=192, gpus=None, mem=None), priority=0),\n",
       " 'adamgrp-high2-qos': SlurmQOS(group=SlurmQOSTRES(cpus=352, gpus=None, mem='762000M'), job=None, priority=0),\n",
       " 'adamgrp-med-qos': SlurmQOS(group=None, job=SlurmQOSTRES(cpus=192, gpus=None, mem=None), priority=10),\n",
       " 'adamgrp-med2-qos': SlurmQOS(group=None, job=None, priority=30),\n",
       " 'jingrp-bmh-qos': SlurmQOS(group=SlurmQOSTRES(cpus=96, gpus=None, mem='1000000M'), job=None, priority=0),\n",
       " 'jingrp-bml-qos': SlurmQOS(group=None, job=None, priority=10),\n",
       " 'jingrp-bmm-qos': SlurmQOS(group=None, job=None, priority=10),\n",
       " 'millsgrp-bmh-qos': SlurmQOS(group=SlurmQOSTRES(cpus=96, gpus=None, mem='1000000M'), job=None, priority=0),\n",
       " 'millsgrp-bml-qos': SlurmQOS(group=None, job=None, priority=10),\n",
       " 'millsgrp-bmm-qos': SlurmQOS(group=None, job=None, priority=10),\n",
       " 'millsgrp-high-qos': SlurmQOS(group=SlurmQOSTRES(cpus=128, gpus=None, mem='256000M'), job=None, priority=0),\n",
       " 'millsgrp-low-qos': SlurmQOS(group=None, job=None, priority=40),\n",
       " 'millsgrp-med-qos': SlurmQOS(group=None, job=None, priority=40),\n",
       " 'weimergrp-bmh-qos': SlurmQOS(group=SlurmQOSTRES(cpus=256, gpus=None, mem='2000000M'), job=None, priority=0),\n",
       " 'weimergrp-bml-qos': SlurmQOS(group=None, job=None, priority=10),\n",
       " 'weimergrp-bmm-qos': SlurmQOS(group=None, job=None, priority=10),\n",
       " 'weimergrp-high-qos': SlurmQOS(group=SlurmQOSTRES(cpus=96, gpus=None, mem='256000M'), job=None, priority=0),\n",
       " 'weimergrp-low-qos': SlurmQOS(group=None, job=None, priority=40),\n",
       " 'weimergrp-med-qos': SlurmQOS(group=None, job=None, priority=40),\n",
       " 'ecl243grp-ecl243-qos': SlurmQOS(group=SlurmQOSTRES(cpus=80, gpus=None, mem='500000M'), job=None, priority=0),\n",
       " 'ecl243grp-ecl243h-qos': SlurmQOS(group=SlurmQOSTRES(cpus=80, gpus=None, mem='500000M'), job=None, priority=0),\n",
       " 'gpul-users-gpul-qos': SlurmQOS(group=None, job=None, priority=0),\n",
       " 'zimanyigrp-bmm-qos': SlurmQOS(group=None, job=None, priority=10),\n",
       " 'zimanyigrp-high2-qos': SlurmQOS(group=SlurmQOSTRES(cpus=256, gpus=None, mem='512000M'), job=None, priority=0),\n",
       " 'zimanyigrp-low2-qos': SlurmQOS(group=None, job=None, priority=10),\n",
       " 'zimanyigrp-med2-qos': SlurmQOS(group=None, job=None, priority=10),\n",
       " 'awhitehegrp-high-qos': SlurmQOS(group=SlurmQOSTRES(cpus=120, gpus=None, mem='320000M'), job=None, priority=0),\n",
       " 'awhitehegrp-low-qos': SlurmQOS(group=None, job=None, priority=50),\n",
       " 'awhitehegrp-med-qos': SlurmQOS(group=None, job=None, priority=50),\n",
       " 'latimergrp-bigmemh-qos': SlurmQOS(group=SlurmQOSTRES(cpus=64, gpus=None, mem='500000M'), job=None, priority=0),\n",
       " 'latimergrp-bigmeml-qos': SlurmQOS(group=None, job=None, priority=10),\n",
       " 'latimergrp-bigmemm-qos': SlurmQOS(group=None, job=None, priority=10),\n",
       " 'paullricgrp-high-qos': SlurmQOS(group=SlurmQOSTRES(cpus=1152, gpus=None, mem='3072000M'), job=None, priority=0),\n",
       " 'paullricgrp-low-qos': SlurmQOS(group=None, job=None, priority=480),\n",
       " 'paullricgrp-med-qos': SlurmQOS(group=None, job=None, priority=480),\n",
       " 'brnjohnsgrp-bigmemh-qos': SlurmQOS(group=SlurmQOSTRES(cpus=64, gpus=None, mem='500000M'), job=None, priority=0),\n",
       " 'brnjohnsgrp-bigmeml-qos': SlurmQOS(group=None, job=None, priority=10),\n",
       " 'brnjohnsgrp-bigmemm-qos': SlurmQOS(group=None, job=None, priority=10),\n",
       " 'schmittgrp-high-qos': SlurmQOS(group=SlurmQOSTRES(cpus=192, gpus=None, mem='512000M'), job=None, priority=0),\n",
       " 'schmittgrp-low-qos': SlurmQOS(group=None, job=None, priority=80),\n",
       " 'schmittgrp-med-qos': SlurmQOS(group=None, job=None, priority=80),\n",
       " 'bnbaileygrp-bgpu-qos': SlurmQOS(group=None, job=None, priority=0),\n",
       " 'darcantugrp-bmh-qos': SlurmQOS(group=SlurmQOSTRES(cpus=96, gpus=None, mem='512000M'), job=None, priority=0),\n",
       " 'darcantugrp-bml-qos': SlurmQOS(group=None, job=None, priority=10),\n",
       " 'darcantugrp-bmm-qos': SlurmQOS(group=None, job=None, priority=10),\n",
       " 'darcantugrp-high-qos': SlurmQOS(group=SlurmQOSTRES(cpus=192, gpus=None, mem='512000M'), job=SlurmQOSTRES(cpus=192, gpus=None, mem=None), priority=0),\n",
       " 'darcantugrp-low-qos': SlurmQOS(group=None, job=SlurmQOSTRES(cpus=192, gpus=None, mem=None), priority=10),\n",
       " 'darcantugrp-med-qos': SlurmQOS(group=None, job=SlurmQOSTRES(cpus=192, gpus=None, mem=None), priority=10),\n",
       " 'diepenbrockgrp-high2-qos': SlurmQOS(group=SlurmQOSTRES(cpus=256, gpus=None, mem='1024000M'), job=None, priority=0),\n",
       " 'diepenbrockgrp-low2-qos': SlurmQOS(group=None, job=None, priority=40),\n",
       " 'diepenbrockgrp-med2-qos': SlurmQOS(group=None, job=None, priority=40),\n",
       " 'quonbiogrp-gpu-a100-h-qos': SlurmQOS(group=SlurmQOSTRES(cpus=64, gpus=2, mem='256000M'), job=None, priority=0),\n",
       " 'quonbiogrp-gpuh-qos': SlurmQOS(group=SlurmQOSTRES(cpus=18, gpus=3, mem='288000M'), job=None, priority=0),\n",
       " 'rbaygrp-high2-qos': SlurmQOS(group=SlurmQOSTRES(cpus=256, gpus=None, mem='512000M'), job=None, priority=0),\n",
       " 'rbaygrp-low2-qos': SlurmQOS(group=None, job=None, priority=10),\n",
       " 'rbaygrp-med2-qos': SlurmQOS(group=None, job=None, priority=10),\n",
       " 'jbemersogrp-bmh-qos': SlurmQOS(group=SlurmQOSTRES(cpus=256, gpus=None, mem='2000000M'), job=None, priority=0),\n",
       " 'jbemersogrp-bml-qos': SlurmQOS(group=None, job=None, priority=10),\n",
       " 'jbemersogrp-bmm-qos': SlurmQOS(group=None, job=None, priority=10),\n",
       " 'jbemersogrp-high2-qos': SlurmQOS(group=SlurmQOSTRES(cpus=256, gpus=None, mem='500000M'), job=None, priority=0),\n",
       " 'jbemersogrp-low2-qos': SlurmQOS(group=None, job=None, priority=10),\n",
       " 'jbemersogrp-med2-qos': SlurmQOS(group=None, job=None, priority=10),\n",
       " 'entnemgrp-bigmemht-qos': SlurmQOS(group=SlurmQOSTRES(cpus=96, gpus=None, mem='1000000M'), job=None, priority=0),\n",
       " 'entnemgrp-bigmeml-qos': SlurmQOS(group=None, job=None, priority=10),\n",
       " 'entnemgrp-bigmemm-qos': SlurmQOS(group=None, job=None, priority=10),\n",
       " 'ejf4grp-high2-qos': SlurmQOS(group=SlurmQOSTRES(cpus=96, gpus=None, mem='256000M'), job=None, priority=0),\n",
       " 'ejf4grp-low2-qos': SlurmQOS(group=None, job=None, priority=10),\n",
       " 'ejf4grp-med2-qos': SlurmQOS(group=None, job=None, priority=10),\n",
       " 'ctbrowngrp-bmh-qos': SlurmQOS(group=SlurmQOSTRES(cpus=48, gpus=None, mem='512000M'), job=None, priority=0),\n",
       " 'ctbrowngrp-bml-qos': SlurmQOS(group=None, job=None, priority=10),\n",
       " 'ctbrowngrp-bmm-qos': SlurmQOS(group=None, job=None, priority=10),\n",
       " 'ctbrowngrp-gpu-a100-h-qos': SlurmQOS(group=SlurmQOSTRES(cpus=64, gpus=2, mem='256000M'), job=None, priority=0),\n",
       " 'ctbrowngrp-gpuh-qos': SlurmQOS(group=SlurmQOSTRES(cpus=6, gpus=1, mem='96000M'), job=None, priority=0),\n",
       " 'ctbrowngrp-high2-qos': SlurmQOS(group=SlurmQOSTRES(cpus=224, gpus=None, mem='512000M'), job=None, priority=0),\n",
       " 'ctbrowngrp-low2-qos': SlurmQOS(group=None, job=None, priority=20),\n",
       " 'ctbrowngrp-med2-qos': SlurmQOS(group=None, job=None, priority=20),\n",
       " 'geminigrp-gpu-a100-h-qos': SlurmQOS(group=SlurmQOSTRES(cpus=32, gpus=1, mem='128000M'), job=None, priority=0),\n",
       " 'gittagrp-bmh-qos': SlurmQOS(group=SlurmQOSTRES(cpus=128, gpus=None, mem='1000000M'), job=None, priority=0),\n",
       " 'gittagrp-bml-qos': SlurmQOS(group=None, job=None, priority=10),\n",
       " 'gittagrp-bmm-qos': SlurmQOS(group=None, job=None, priority=10),\n",
       " 'dubcovskygrp-bigmemh-qos': SlurmQOS(group=SlurmQOSTRES(cpus=96, gpus=None, mem='1024000M'), job=None, priority=0),\n",
       " 'dubcovskygrp-bigmeml-qos': SlurmQOS(group=None, job=None, priority=20),\n",
       " 'dubcovskygrp-bigmemm-qos': SlurmQOS(group=None, job=None, priority=20),\n",
       " 'dubcovskygrp-bmh-qos': SlurmQOS(group=SlurmQOSTRES(cpus=288, gpus=None, mem='3072000M'), job=None, priority=0),\n",
       " 'dubcovskygrp-bml-qos': SlurmQOS(group=None, job=None, priority=30),\n",
       " 'dubcovskygrp-bmm-qos': SlurmQOS(group=None, job=None, priority=30),\n",
       " 'moniergrp-bmh-qos': SlurmQOS(group=SlurmQOSTRES(cpus=96, gpus=None, mem='1000000M'), job=None, priority=0),\n",
       " 'moniergrp-bml-qos': SlurmQOS(group=None, job=None, priority=10),\n",
       " 'moniergrp-bmm-qos': SlurmQOS(group=None, job=None, priority=10),\n",
       " 'moniergrp-high2-qos': SlurmQOS(group=SlurmQOSTRES(cpus=512, gpus=None, mem='2040000M'), job=None, priority=0),\n",
       " 'moniergrp-low2-qos': SlurmQOS(group=None, job=None, priority=40),\n",
       " 'moniergrp-med2-qos': SlurmQOS(group=None, job=None, priority=40),\n",
       " 'aigelgrp-high-qos': SlurmQOS(group=SlurmQOSTRES(cpus=128, gpus=None, mem='256000M'), job=None, priority=0),\n",
       " 'aigelgrp-high2-qos': SlurmQOS(group=SlurmQOSTRES(cpus=384, gpus=None, mem='768000M'), job=None, priority=0),\n",
       " 'aigelgrp-low-qos': SlurmQOS(group=None, job=None, priority=40),\n",
       " 'aigelgrp-low2-qos': SlurmQOS(group=None, job=None, priority=30),\n",
       " 'aigelgrp-med-qos': SlurmQOS(group=None, job=None, priority=40),\n",
       " 'aigelgrp-med2-qos': SlurmQOS(group=None, job=None, priority=30),\n",
       " 'gmcoopgrp-high2-qos': SlurmQOS(group=SlurmQOSTRES(cpus=256, gpus=None, mem='512000M'), job=None, priority=0),\n",
       " 'gmcoopgrp-low2-qos': SlurmQOS(group=None, job=None, priority=10),\n",
       " 'gmcoopgrp-med2-qos': SlurmQOS(group=None, job=None, priority=10),\n",
       " 'baskettgrp-high2-qos': SlurmQOS(group=SlurmQOSTRES(cpus=256, gpus=None, mem='512000M'), job=None, priority=0),\n",
       " 'baskettgrp-low2-qos': SlurmQOS(group=None, job=None, priority=10),\n",
       " 'baskettgrp-med2-qos': SlurmQOS(group=None, job=None, priority=10),\n",
       " 'rhijmansgrp-bmh-qos': SlurmQOS(group=SlurmQOSTRES(cpus=256, gpus=None, mem='2000000M'), job=None, priority=0),\n",
       " 'rhijmansgrp-bml-qos': SlurmQOS(group=None, job=None, priority=10),\n",
       " 'rhijmansgrp-bmm-qos': SlurmQOS(group=None, job=None, priority=10),\n",
       " 'rhijmansgrp-high-qos': SlurmQOS(group=SlurmQOSTRES(cpus=192, gpus=None, mem='512000M'), job=None, priority=0),\n",
       " 'rhijmansgrp-low-qos': SlurmQOS(group=None, job=None, priority=80),\n",
       " 'rhijmansgrp-med-qos': SlurmQOS(group=None, job=None, priority=80),\n",
       " 'jyllwgrp-bigmemh-qos': SlurmQOS(group=SlurmQOSTRES(cpus=64, gpus=None, mem='500000M'), job=None, priority=0),\n",
       " 'jyllwgrp-bigmeml-qos': SlurmQOS(group=SlurmQOSTRES(cpus=256, gpus=None, mem='980000M'), job=None, priority=10),\n",
       " 'jyllwgrp-bigmemm-qos': SlurmQOS(group=SlurmQOSTRES(cpus=256, gpus=None, mem='980000M'), job=None, priority=10),\n",
       " 'pasternackgrp-high-qos': SlurmQOS(group=SlurmQOSTRES(cpus=96, gpus=None, mem='256000M'), job=None, priority=0),\n",
       " 'pasternackgrp-low-qos': SlurmQOS(group=None, job=None, priority=40),\n",
       " 'pasternackgrp-med-qos': SlurmQOS(group=None, job=None, priority=40),\n",
       " 'brannalagrp-high2-qos': SlurmQOS(group=SlurmQOSTRES(cpus=256, gpus=None, mem='512000M'), job=None, priority=0),\n",
       " 'brannalagrp-low2-qos': SlurmQOS(group=None, job=None, priority=10),\n",
       " 'brannalagrp-med2-qos': SlurmQOS(group=None, job=None, priority=10),\n",
       " 'slupskygrp-bmm-qos': SlurmQOS(group=None, job=None, priority=0),\n",
       " 'slupskygrp-high-qos': SlurmQOS(group=SlurmQOSTRES(cpus=128, gpus=None, mem='256000M'), job=None, priority=0),\n",
       " 'slupskygrp-low-qos': SlurmQOS(group=None, job=None, priority=40),\n",
       " 'slupskygrp-med-qos': SlurmQOS(group=None, job=None, priority=40),\n",
       " 'jmearlesgrp-gpuh-qos': SlurmQOS(group=SlurmQOSTRES(cpus=6, gpus=1, mem='96000M'), job=None, priority=0),\n",
       " 'sanjeevigrp-high2-qos': SlurmQOS(group=SlurmQOSTRES(cpus=96, gpus=None, mem='250000M'), job=None, priority=10),\n",
       " 'sanjeevigrp-low2-qos': SlurmQOS(group=None, job=None, priority=10),\n",
       " 'sanjeevigrp-med2-qos': SlurmQOS(group=None, job=None, priority=10),\n",
       " 'knappgrp-bmh-qos': SlurmQOS(group=SlurmQOSTRES(cpus=96, gpus=None, mem='1024000M'), job=None, priority=0),\n",
       " 'knappgrp-bml-qos': SlurmQOS(group=None, job=None, priority=10),\n",
       " 'knappgrp-bmm-qos': SlurmQOS(group=None, job=None, priority=10),\n",
       " 'donggrp-bmh-qos': SlurmQOS(group=SlurmQOSTRES(cpus=576, gpus=None, mem='6000000M'), job=None, priority=0),\n",
       " 'donggrp-bml-qos': SlurmQOS(group=None, job=None, priority=60),\n",
       " 'donggrp-bmm-qos': SlurmQOS(group=None, job=None, priority=60),\n",
       " 'donggrp-low2-qos': SlurmQOS(group=None, job=None, priority=60),\n",
       " 'donggrp-med2-qos': SlurmQOS(group=None, job=None, priority=60)}"
      ]
     },
     "execution_count": 8,
     "metadata": {},
     "output_type": "execute_result"
    }
   ],
   "source": [
    "qoses"
   ]
  },
  {
   "cell_type": "code",
   "execution_count": null,
   "id": "9b347212",
   "metadata": {},
   "outputs": [],
   "source": []
  }
 ],
 "metadata": {
  "kernelspec": {
   "display_name": "Python 3 (ipykernel)",
   "language": "python",
   "name": "python3"
  },
  "language_info": {
   "codemirror_mode": {
    "name": "ipython",
    "version": 3
   },
   "file_extension": ".py",
   "mimetype": "text/x-python",
   "name": "python",
   "nbconvert_exporter": "python",
   "pygments_lexer": "ipython3",
   "version": "3.10.12"
  }
 },
 "nbformat": 4,
 "nbformat_minor": 5
}
